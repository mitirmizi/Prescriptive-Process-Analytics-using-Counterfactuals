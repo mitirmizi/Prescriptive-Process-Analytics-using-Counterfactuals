{
 "cells": [
  {
   "cell_type": "code",
   "execution_count": 1,
   "metadata": {
    "collapsed": true,
    "ExecuteTime": {
     "end_time": "2023-07-23T13:54:24.928328865Z",
     "start_time": "2023-07-23T13:54:24.114679137Z"
    }
   },
   "outputs": [],
   "source": [
    "import dice_ml\n",
    "from dice_ml import Dice\n",
    "from dice_ml.utils.exception import UserConfigValidationException\n",
    "\n",
    "from sklearn.pipeline import Pipeline\n",
    "from sklearn.preprocessing import StandardScaler, OneHotEncoder\n",
    "from sklearn.compose import ColumnTransformer\n",
    "from sklearn.ensemble import RandomForestClassifier, RandomForestRegressor\n",
    "from sklearn.model_selection import train_test_split\n",
    "from sklearn.datasets import load_iris, fetch_california_housing\n",
    "from sklearn.model_selection import GridSearchCV\n",
    "from sklearn.model_selection import train_test_split\n",
    "\n",
    "from src.transition_system import transition_system, indexs_for_window, list_to_str\n",
    "from src.function_store import StoreTestRun, extract_algo_name, generate_cfe, get_case_id, prepare_df_for_ml, \\\n",
    "    activity_n_resources, get_test_cases, get_prefix_of_activities, validate_transition\n",
    "\n",
    "import pandas as pd\n",
    "import os\n",
    "import pickle\n",
    "import random\n",
    "import subprocess\n",
    "from IPython.display import display\n",
    "from math import ceil\n",
    "from time import time\n",
    "import warnings\n",
    "from wrapt_timeout_decorator import timeout\n",
    "\n",
    "# from multiprocessing import Process\n",
    "# from timeout_decorator import timeout, TimeoutError\n",
    "# import signal\n",
    "from typing import Tuple, Any\n",
    "from collections import Counter\n",
    "import utils\n",
    "from time import sleep\n",
    "pd.options.display.max_columns = 50\n",
    "pd.set_option('display.max_rows', 500)\n",
    "if \"src\" in os.getcwd():\n",
    "    os.chdir(\"../\")\n",
    "\n",
    "# Suppress all warnings\n",
    "warnings.filterwarnings(\"ignore\")\n",
    "%load_ext autoreload\n",
    "%autoreload 2"
   ]
  },
  {
   "cell_type": "markdown",
   "source": [
    "# Dataset: VINST (Volvo IT Belgium)\n",
    "link: https://www.win.tue.nl/bpi/doku.php?id=2013:challenge"
   ],
   "metadata": {
    "collapsed": false
   }
  },
  {
   "cell_type": "markdown",
   "source": [
    "## Setup Variables"
   ],
   "metadata": {
    "collapsed": false
   }
  },
  {
   "cell_type": "code",
   "execution_count": 2,
   "outputs": [],
   "source": [
    "KPI = \"total_time\"  # activity_occurrence, total_time, ...\n",
    "SECONDS_TO_HOURS = 60 * 60\n",
    "SECONDS_TO_DAYS = 60 * 60 * 24\n",
    "WINDOW_SIZE = 3\n",
    "REDUCED_KPI_TIME = 90\n",
    "TOTAL_CFS = 50                        # Number of CFs DiCE algorithm should produce\n",
    "TRAIN_DATA_SIZE = 39_375               # 39_375\n",
    "DICE_METHOD = \"random\"\n",
    "RESULTS_FILE_PATH_N_NAME = \"experiment_results/random-t01-local.csv\"\n",
    "proximity_weight = 0.2\n",
    "sparsity_weight = 0.2\n",
    "diversity_weight = 5.0\n",
    "\n",
    "case_id_name = 'SR_Number'  # The case identifier column name.\n",
    "start_date_name = 'Change_Date+Time'  # Maybe change to start_et (start even time)\n",
    "activity_column_name = \"ACTIVITY\"\n",
    "resource_column_name = \"Involved_ST\""
   ],
   "metadata": {
    "collapsed": false,
    "ExecuteTime": {
     "end_time": "2023-07-23T13:54:31.804315362Z",
     "start_time": "2023-07-23T13:54:30.775715820Z"
    }
   }
  },
  {
   "cell_type": "markdown",
   "source": [
    "## Load Data"
   ],
   "metadata": {
    "collapsed": false
   }
  },
  {
   "cell_type": "code",
   "execution_count": 3,
   "outputs": [],
   "source": [
    "data_dir = \"./preprocessed_datasets/\"\n",
    "\n",
    "train_dataset_file = \"vinst_train.csv\"\n",
    "test_dataset_file = \"vinst_test.csv\"\n",
    "test_pickle_dataset_file = \"vinst_test.pkl\"\n",
    "# test_dataset_file = \"vinst_test-500.csv\"\n",
    "# test_pickle_dataset_file = \"vinst_test-500.pkl\"\n",
    "df = pd.read_csv(\"./data/VINST cases incidents.csv\")  # Use full dataset for transition systens\n",
    "df_train = pd.read_csv(os.path.join(data_dir, train_dataset_file))\n",
    "df_test = pd.read_csv(os.path.join(data_dir, test_dataset_file))"
   ],
   "metadata": {
    "collapsed": false,
    "ExecuteTime": {
     "end_time": "2023-07-23T13:54:32.701207509Z",
     "start_time": "2023-07-23T13:54:32.369906837Z"
    }
   }
  },
  {
   "cell_type": "markdown",
   "source": [
    "### Basic Preprocessing of the dataset"
   ],
   "metadata": {
    "collapsed": false
   }
  },
  {
   "cell_type": "code",
   "execution_count": 8,
   "outputs": [
    {
     "name": "stdout",
     "output_type": "stream",
     "text": [
      "Percentage of trainset rows: 0.6792423536717901\n",
      "Rows in df_train: 39,375 Cases in df_train: 6,166\n",
      "Rows in df_test: 18,594 Cases in df_test: 1,377\n",
      "Percentage of train data: 81.63%\n"
     ]
    }
   ],
   "source": [
    "df = df.fillna(\"missing\")\n",
    "\n",
    "# df_train = df_train[:TRAIN_DATA_SIZE]  # 39_375\n",
    "# df_test = df_test[: 18_594]\n",
    "total = len(df_train) + len(df_test)\n",
    "print(f\"Percentage of trainset rows: {len(df_train)/total }\")\n",
    "print(f\"Rows in df_train: {len(df_train):,} Cases in df_train: {len(df_train[case_id_name].unique()):,}\")\n",
    "print(f\"Rows in df_test: {len(df_test):,} Cases in df_test: {len(df_test[case_id_name].unique()):,}\")\n",
    "percentage_of_train_data = 100 * len(df_train[case_id_name].unique()) / len(df[case_id_name].unique())\n",
    "print(f\"Percentage of train data: {percentage_of_train_data:.2f}%\")\n",
    "# df_train.info()"
   ],
   "metadata": {
    "collapsed": false,
    "ExecuteTime": {
     "end_time": "2023-07-23T13:58:21.283726625Z",
     "start_time": "2023-07-23T13:58:21.189356485Z"
    }
   }
  },
  {
   "cell_type": "code",
   "execution_count": 10,
   "outputs": [
    {
     "data": {
      "text/plain": "7543"
     },
     "execution_count": 10,
     "metadata": {},
     "output_type": "execute_result"
    }
   ],
   "source": [
    "len(df_train[case_id_name].unique()) + len(df_test[case_id_name].unique())"
   ],
   "metadata": {
    "collapsed": false,
    "ExecuteTime": {
     "end_time": "2023-07-23T14:10:18.444429589Z",
     "start_time": "2023-07-23T14:10:18.381672903Z"
    }
   }
  },
  {
   "cell_type": "markdown",
   "source": [
    "### Prepare the Test Dataset"
   ],
   "metadata": {
    "collapsed": false
   }
  },
  {
   "cell_type": "code",
   "execution_count": 5,
   "outputs": [
    {
     "name": "stdout",
     "output_type": "stream",
     "text": [
      "Number of cases in the test set: 1,377\n"
     ]
    }
   ],
   "source": [
    "# === Unpickle the Standard test-set. To standardize the test across different parameters.\n",
    "test_cases = get_test_cases(None, None, load_dataset=True, path_and_filename=os.path.join(data_dir, test_pickle_dataset_file))\n",
    "\n",
    "# === Command if using new df_test and want to generate test_cases\n",
    "# test_cases = get_test_cases(df_test, case_id_name, load_dataset=False, path_and_filename=os.path.join(data_dir, test_pickle_dataset_file))\n",
    "print(f\"Number of cases in the test set: {len(test_cases):,}\")\n",
    "\n",
    "# # === Pickle dataset for comparison of different methods\n",
    "# with open(os.path.join(data_dir, test_pickle_dataset_file), 'wb') as file:\n",
    "#     pickle.dump(test_cases, file)"
   ],
   "metadata": {
    "collapsed": false,
    "ExecuteTime": {
     "end_time": "2023-07-14T08:54:47.473396302Z",
     "start_time": "2023-07-14T08:54:47.286934181Z"
    }
   }
  },
  {
   "cell_type": "code",
   "execution_count": 6,
   "outputs": [],
   "source": [
    "# # === Generate a CSV of cut Test Traces\n",
    "# df_cut_test_traces = pd.DataFrame(columns=df_test.columns)\n",
    "# for cut_trace in test_cases:\n",
    "#     df_cut_test_traces = pd.concat([df_cut_test_traces, cut_trace], axis=\"rows\")\n",
    "# df_cut_test_traces.to_csv(\"vinst_test_cut.csv\", index=False)"
   ],
   "metadata": {
    "collapsed": false,
    "ExecuteTime": {
     "end_time": "2023-07-14T08:54:48.534960002Z",
     "start_time": "2023-07-14T08:54:48.508558665Z"
    }
   }
  },
  {
   "cell_type": "code",
   "execution_count": 12,
   "outputs": [
    {
     "name": "stderr",
     "output_type": "stream",
     "text": [
      "/home/teemo/anaconda3/envs/ds/lib/python3.10/site-packages/sklearn/ensemble/_forest.py:413: FutureWarning: `max_features='auto'` has been deprecated in 1.1 and will be removed in 1.3. To keep the past behaviour, explicitly set `max_features=1.0` or remove this parameter as it is also the default value for RandomForestRegressors and ExtraTreesRegressors.\n",
      "  warn(\n",
      "/home/teemo/anaconda3/envs/ds/lib/python3.10/site-packages/sklearn/ensemble/_forest.py:413: FutureWarning: `max_features='auto'` has been deprecated in 1.1 and will be removed in 1.3. To keep the past behaviour, explicitly set `max_features=1.0` or remove this parameter as it is also the default value for RandomForestRegressors and ExtraTreesRegressors.\n",
      "  warn(\n"
     ]
    },
    {
     "ename": "KeyboardInterrupt",
     "evalue": "",
     "output_type": "error",
     "traceback": [
      "\u001B[0;31m---------------------------------------------------------------------------\u001B[0m",
      "\u001B[0;31mKeyboardInterrupt\u001B[0m                         Traceback (most recent call last)",
      "Cell \u001B[0;32mIn [12], line 47\u001B[0m\n\u001B[1;32m     40\u001B[0m grid_search \u001B[38;5;241m=\u001B[39m GridSearchCV(estimator\u001B[38;5;241m=\u001B[39mclf,\n\u001B[1;32m     41\u001B[0m                            param_grid\u001B[38;5;241m=\u001B[39mparam_grid,\n\u001B[1;32m     42\u001B[0m                            cv\u001B[38;5;241m=\u001B[39m\u001B[38;5;241m3\u001B[39m,\n\u001B[1;32m     43\u001B[0m                            n_jobs\u001B[38;5;241m=\u001B[39m\u001B[38;5;241m-\u001B[39m\u001B[38;5;241m1\u001B[39m,\n\u001B[1;32m     44\u001B[0m                            verbose\u001B[38;5;241m=\u001B[39m\u001B[38;5;241m2\u001B[39m)\n\u001B[1;32m     46\u001B[0m \u001B[38;5;66;03m# Fit the grid search to the data\u001B[39;00m\n\u001B[0;32m---> 47\u001B[0m \u001B[43mgrid_search\u001B[49m\u001B[38;5;241;43m.\u001B[39;49m\u001B[43mfit\u001B[49m\u001B[43m(\u001B[49m\u001B[43mX_train\u001B[49m\u001B[43m,\u001B[49m\u001B[43m \u001B[49m\u001B[43my_train\u001B[49m\u001B[43m)\u001B[49m\n\u001B[1;32m     49\u001B[0m \u001B[38;5;66;03m# Get the best parameters\u001B[39;00m\n\u001B[1;32m     50\u001B[0m best_parameters \u001B[38;5;241m=\u001B[39m grid_search\u001B[38;5;241m.\u001B[39mbest_params_\n",
      "File \u001B[0;32m~/anaconda3/envs/ds/lib/python3.10/site-packages/sklearn/model_selection/_search.py:874\u001B[0m, in \u001B[0;36mBaseSearchCV.fit\u001B[0;34m(self, X, y, groups, **fit_params)\u001B[0m\n\u001B[1;32m    868\u001B[0m     results \u001B[38;5;241m=\u001B[39m \u001B[38;5;28mself\u001B[39m\u001B[38;5;241m.\u001B[39m_format_results(\n\u001B[1;32m    869\u001B[0m         all_candidate_params, n_splits, all_out, all_more_results\n\u001B[1;32m    870\u001B[0m     )\n\u001B[1;32m    872\u001B[0m     \u001B[38;5;28;01mreturn\u001B[39;00m results\n\u001B[0;32m--> 874\u001B[0m \u001B[38;5;28;43mself\u001B[39;49m\u001B[38;5;241;43m.\u001B[39;49m\u001B[43m_run_search\u001B[49m\u001B[43m(\u001B[49m\u001B[43mevaluate_candidates\u001B[49m\u001B[43m)\u001B[49m\n\u001B[1;32m    876\u001B[0m \u001B[38;5;66;03m# multimetric is determined here because in the case of a callable\u001B[39;00m\n\u001B[1;32m    877\u001B[0m \u001B[38;5;66;03m# self.scoring the return type is only known after calling\u001B[39;00m\n\u001B[1;32m    878\u001B[0m first_test_score \u001B[38;5;241m=\u001B[39m all_out[\u001B[38;5;241m0\u001B[39m][\u001B[38;5;124m\"\u001B[39m\u001B[38;5;124mtest_scores\u001B[39m\u001B[38;5;124m\"\u001B[39m]\n",
      "File \u001B[0;32m~/anaconda3/envs/ds/lib/python3.10/site-packages/sklearn/model_selection/_search.py:1388\u001B[0m, in \u001B[0;36mGridSearchCV._run_search\u001B[0;34m(self, evaluate_candidates)\u001B[0m\n\u001B[1;32m   1386\u001B[0m \u001B[38;5;28;01mdef\u001B[39;00m \u001B[38;5;21m_run_search\u001B[39m(\u001B[38;5;28mself\u001B[39m, evaluate_candidates):\n\u001B[1;32m   1387\u001B[0m     \u001B[38;5;124;03m\"\"\"Search all candidates in param_grid\"\"\"\u001B[39;00m\n\u001B[0;32m-> 1388\u001B[0m     \u001B[43mevaluate_candidates\u001B[49m\u001B[43m(\u001B[49m\u001B[43mParameterGrid\u001B[49m\u001B[43m(\u001B[49m\u001B[38;5;28;43mself\u001B[39;49m\u001B[38;5;241;43m.\u001B[39;49m\u001B[43mparam_grid\u001B[49m\u001B[43m)\u001B[49m\u001B[43m)\u001B[49m\n",
      "File \u001B[0;32m~/anaconda3/envs/ds/lib/python3.10/site-packages/sklearn/model_selection/_search.py:821\u001B[0m, in \u001B[0;36mBaseSearchCV.fit.<locals>.evaluate_candidates\u001B[0;34m(candidate_params, cv, more_results)\u001B[0m\n\u001B[1;32m    813\u001B[0m \u001B[38;5;28;01mif\u001B[39;00m \u001B[38;5;28mself\u001B[39m\u001B[38;5;241m.\u001B[39mverbose \u001B[38;5;241m>\u001B[39m \u001B[38;5;241m0\u001B[39m:\n\u001B[1;32m    814\u001B[0m     \u001B[38;5;28mprint\u001B[39m(\n\u001B[1;32m    815\u001B[0m         \u001B[38;5;124m\"\u001B[39m\u001B[38;5;124mFitting \u001B[39m\u001B[38;5;132;01m{0}\u001B[39;00m\u001B[38;5;124m folds for each of \u001B[39m\u001B[38;5;132;01m{1}\u001B[39;00m\u001B[38;5;124m candidates,\u001B[39m\u001B[38;5;124m\"\u001B[39m\n\u001B[1;32m    816\u001B[0m         \u001B[38;5;124m\"\u001B[39m\u001B[38;5;124m totalling \u001B[39m\u001B[38;5;132;01m{2}\u001B[39;00m\u001B[38;5;124m fits\u001B[39m\u001B[38;5;124m\"\u001B[39m\u001B[38;5;241m.\u001B[39mformat(\n\u001B[1;32m    817\u001B[0m             n_splits, n_candidates, n_candidates \u001B[38;5;241m*\u001B[39m n_splits\n\u001B[1;32m    818\u001B[0m         )\n\u001B[1;32m    819\u001B[0m     )\n\u001B[0;32m--> 821\u001B[0m out \u001B[38;5;241m=\u001B[39m \u001B[43mparallel\u001B[49m\u001B[43m(\u001B[49m\n\u001B[1;32m    822\u001B[0m \u001B[43m    \u001B[49m\u001B[43mdelayed\u001B[49m\u001B[43m(\u001B[49m\u001B[43m_fit_and_score\u001B[49m\u001B[43m)\u001B[49m\u001B[43m(\u001B[49m\n\u001B[1;32m    823\u001B[0m \u001B[43m        \u001B[49m\u001B[43mclone\u001B[49m\u001B[43m(\u001B[49m\u001B[43mbase_estimator\u001B[49m\u001B[43m)\u001B[49m\u001B[43m,\u001B[49m\n\u001B[1;32m    824\u001B[0m \u001B[43m        \u001B[49m\u001B[43mX\u001B[49m\u001B[43m,\u001B[49m\n\u001B[1;32m    825\u001B[0m \u001B[43m        \u001B[49m\u001B[43my\u001B[49m\u001B[43m,\u001B[49m\n\u001B[1;32m    826\u001B[0m \u001B[43m        \u001B[49m\u001B[43mtrain\u001B[49m\u001B[38;5;241;43m=\u001B[39;49m\u001B[43mtrain\u001B[49m\u001B[43m,\u001B[49m\n\u001B[1;32m    827\u001B[0m \u001B[43m        \u001B[49m\u001B[43mtest\u001B[49m\u001B[38;5;241;43m=\u001B[39;49m\u001B[43mtest\u001B[49m\u001B[43m,\u001B[49m\n\u001B[1;32m    828\u001B[0m \u001B[43m        \u001B[49m\u001B[43mparameters\u001B[49m\u001B[38;5;241;43m=\u001B[39;49m\u001B[43mparameters\u001B[49m\u001B[43m,\u001B[49m\n\u001B[1;32m    829\u001B[0m \u001B[43m        \u001B[49m\u001B[43msplit_progress\u001B[49m\u001B[38;5;241;43m=\u001B[39;49m\u001B[43m(\u001B[49m\u001B[43msplit_idx\u001B[49m\u001B[43m,\u001B[49m\u001B[43m \u001B[49m\u001B[43mn_splits\u001B[49m\u001B[43m)\u001B[49m\u001B[43m,\u001B[49m\n\u001B[1;32m    830\u001B[0m \u001B[43m        \u001B[49m\u001B[43mcandidate_progress\u001B[49m\u001B[38;5;241;43m=\u001B[39;49m\u001B[43m(\u001B[49m\u001B[43mcand_idx\u001B[49m\u001B[43m,\u001B[49m\u001B[43m \u001B[49m\u001B[43mn_candidates\u001B[49m\u001B[43m)\u001B[49m\u001B[43m,\u001B[49m\n\u001B[1;32m    831\u001B[0m \u001B[43m        \u001B[49m\u001B[38;5;241;43m*\u001B[39;49m\u001B[38;5;241;43m*\u001B[39;49m\u001B[43mfit_and_score_kwargs\u001B[49m\u001B[43m,\u001B[49m\n\u001B[1;32m    832\u001B[0m \u001B[43m    \u001B[49m\u001B[43m)\u001B[49m\n\u001B[1;32m    833\u001B[0m \u001B[43m    \u001B[49m\u001B[38;5;28;43;01mfor\u001B[39;49;00m\u001B[43m \u001B[49m\u001B[43m(\u001B[49m\u001B[43mcand_idx\u001B[49m\u001B[43m,\u001B[49m\u001B[43m \u001B[49m\u001B[43mparameters\u001B[49m\u001B[43m)\u001B[49m\u001B[43m,\u001B[49m\u001B[43m \u001B[49m\u001B[43m(\u001B[49m\u001B[43msplit_idx\u001B[49m\u001B[43m,\u001B[49m\u001B[43m \u001B[49m\u001B[43m(\u001B[49m\u001B[43mtrain\u001B[49m\u001B[43m,\u001B[49m\u001B[43m \u001B[49m\u001B[43mtest\u001B[49m\u001B[43m)\u001B[49m\u001B[43m)\u001B[49m\u001B[43m \u001B[49m\u001B[38;5;129;43;01min\u001B[39;49;00m\u001B[43m \u001B[49m\u001B[43mproduct\u001B[49m\u001B[43m(\u001B[49m\n\u001B[1;32m    834\u001B[0m \u001B[43m        \u001B[49m\u001B[38;5;28;43menumerate\u001B[39;49m\u001B[43m(\u001B[49m\u001B[43mcandidate_params\u001B[49m\u001B[43m)\u001B[49m\u001B[43m,\u001B[49m\u001B[43m \u001B[49m\u001B[38;5;28;43menumerate\u001B[39;49m\u001B[43m(\u001B[49m\u001B[43mcv\u001B[49m\u001B[38;5;241;43m.\u001B[39;49m\u001B[43msplit\u001B[49m\u001B[43m(\u001B[49m\u001B[43mX\u001B[49m\u001B[43m,\u001B[49m\u001B[43m \u001B[49m\u001B[43my\u001B[49m\u001B[43m,\u001B[49m\u001B[43m \u001B[49m\u001B[43mgroups\u001B[49m\u001B[43m)\u001B[49m\u001B[43m)\u001B[49m\n\u001B[1;32m    835\u001B[0m \u001B[43m    \u001B[49m\u001B[43m)\u001B[49m\n\u001B[1;32m    836\u001B[0m \u001B[43m\u001B[49m\u001B[43m)\u001B[49m\n\u001B[1;32m    838\u001B[0m \u001B[38;5;28;01mif\u001B[39;00m \u001B[38;5;28mlen\u001B[39m(out) \u001B[38;5;241m<\u001B[39m \u001B[38;5;241m1\u001B[39m:\n\u001B[1;32m    839\u001B[0m     \u001B[38;5;28;01mraise\u001B[39;00m \u001B[38;5;167;01mValueError\u001B[39;00m(\n\u001B[1;32m    840\u001B[0m         \u001B[38;5;124m\"\u001B[39m\u001B[38;5;124mNo fits were performed. \u001B[39m\u001B[38;5;124m\"\u001B[39m\n\u001B[1;32m    841\u001B[0m         \u001B[38;5;124m\"\u001B[39m\u001B[38;5;124mWas the CV iterator empty? \u001B[39m\u001B[38;5;124m\"\u001B[39m\n\u001B[1;32m    842\u001B[0m         \u001B[38;5;124m\"\u001B[39m\u001B[38;5;124mWere there no candidates?\u001B[39m\u001B[38;5;124m\"\u001B[39m\n\u001B[1;32m    843\u001B[0m     )\n",
      "File \u001B[0;32m~/anaconda3/envs/ds/lib/python3.10/site-packages/sklearn/utils/parallel.py:63\u001B[0m, in \u001B[0;36mParallel.__call__\u001B[0;34m(self, iterable)\u001B[0m\n\u001B[1;32m     58\u001B[0m config \u001B[38;5;241m=\u001B[39m get_config()\n\u001B[1;32m     59\u001B[0m iterable_with_config \u001B[38;5;241m=\u001B[39m (\n\u001B[1;32m     60\u001B[0m     (_with_config(delayed_func, config), args, kwargs)\n\u001B[1;32m     61\u001B[0m     \u001B[38;5;28;01mfor\u001B[39;00m delayed_func, args, kwargs \u001B[38;5;129;01min\u001B[39;00m iterable\n\u001B[1;32m     62\u001B[0m )\n\u001B[0;32m---> 63\u001B[0m \u001B[38;5;28;01mreturn\u001B[39;00m \u001B[38;5;28;43msuper\u001B[39;49m\u001B[43m(\u001B[49m\u001B[43m)\u001B[49m\u001B[38;5;241;43m.\u001B[39;49m\u001B[38;5;21;43m__call__\u001B[39;49m\u001B[43m(\u001B[49m\u001B[43miterable_with_config\u001B[49m\u001B[43m)\u001B[49m\n",
      "File \u001B[0;32m~/anaconda3/envs/ds/lib/python3.10/site-packages/joblib/parallel.py:1061\u001B[0m, in \u001B[0;36mParallel.__call__\u001B[0;34m(self, iterable)\u001B[0m\n\u001B[1;32m   1058\u001B[0m     \u001B[38;5;28mself\u001B[39m\u001B[38;5;241m.\u001B[39m_iterating \u001B[38;5;241m=\u001B[39m \u001B[38;5;28;01mFalse\u001B[39;00m\n\u001B[1;32m   1060\u001B[0m \u001B[38;5;28;01mwith\u001B[39;00m \u001B[38;5;28mself\u001B[39m\u001B[38;5;241m.\u001B[39m_backend\u001B[38;5;241m.\u001B[39mretrieval_context():\n\u001B[0;32m-> 1061\u001B[0m     \u001B[38;5;28;43mself\u001B[39;49m\u001B[38;5;241;43m.\u001B[39;49m\u001B[43mretrieve\u001B[49m\u001B[43m(\u001B[49m\u001B[43m)\u001B[49m\n\u001B[1;32m   1062\u001B[0m \u001B[38;5;66;03m# Make sure that we get a last message telling us we are done\u001B[39;00m\n\u001B[1;32m   1063\u001B[0m elapsed_time \u001B[38;5;241m=\u001B[39m time\u001B[38;5;241m.\u001B[39mtime() \u001B[38;5;241m-\u001B[39m \u001B[38;5;28mself\u001B[39m\u001B[38;5;241m.\u001B[39m_start_time\n",
      "File \u001B[0;32m~/anaconda3/envs/ds/lib/python3.10/site-packages/joblib/parallel.py:938\u001B[0m, in \u001B[0;36mParallel.retrieve\u001B[0;34m(self)\u001B[0m\n\u001B[1;32m    936\u001B[0m \u001B[38;5;28;01mtry\u001B[39;00m:\n\u001B[1;32m    937\u001B[0m     \u001B[38;5;28;01mif\u001B[39;00m \u001B[38;5;28mgetattr\u001B[39m(\u001B[38;5;28mself\u001B[39m\u001B[38;5;241m.\u001B[39m_backend, \u001B[38;5;124m'\u001B[39m\u001B[38;5;124msupports_timeout\u001B[39m\u001B[38;5;124m'\u001B[39m, \u001B[38;5;28;01mFalse\u001B[39;00m):\n\u001B[0;32m--> 938\u001B[0m         \u001B[38;5;28mself\u001B[39m\u001B[38;5;241m.\u001B[39m_output\u001B[38;5;241m.\u001B[39mextend(\u001B[43mjob\u001B[49m\u001B[38;5;241;43m.\u001B[39;49m\u001B[43mget\u001B[49m\u001B[43m(\u001B[49m\u001B[43mtimeout\u001B[49m\u001B[38;5;241;43m=\u001B[39;49m\u001B[38;5;28;43mself\u001B[39;49m\u001B[38;5;241;43m.\u001B[39;49m\u001B[43mtimeout\u001B[49m\u001B[43m)\u001B[49m)\n\u001B[1;32m    939\u001B[0m     \u001B[38;5;28;01melse\u001B[39;00m:\n\u001B[1;32m    940\u001B[0m         \u001B[38;5;28mself\u001B[39m\u001B[38;5;241m.\u001B[39m_output\u001B[38;5;241m.\u001B[39mextend(job\u001B[38;5;241m.\u001B[39mget())\n",
      "File \u001B[0;32m~/anaconda3/envs/ds/lib/python3.10/site-packages/joblib/_parallel_backends.py:542\u001B[0m, in \u001B[0;36mLokyBackend.wrap_future_result\u001B[0;34m(future, timeout)\u001B[0m\n\u001B[1;32m    539\u001B[0m \u001B[38;5;124;03m\"\"\"Wrapper for Future.result to implement the same behaviour as\u001B[39;00m\n\u001B[1;32m    540\u001B[0m \u001B[38;5;124;03mAsyncResults.get from multiprocessing.\"\"\"\u001B[39;00m\n\u001B[1;32m    541\u001B[0m \u001B[38;5;28;01mtry\u001B[39;00m:\n\u001B[0;32m--> 542\u001B[0m     \u001B[38;5;28;01mreturn\u001B[39;00m \u001B[43mfuture\u001B[49m\u001B[38;5;241;43m.\u001B[39;49m\u001B[43mresult\u001B[49m\u001B[43m(\u001B[49m\u001B[43mtimeout\u001B[49m\u001B[38;5;241;43m=\u001B[39;49m\u001B[43mtimeout\u001B[49m\u001B[43m)\u001B[49m\n\u001B[1;32m    543\u001B[0m \u001B[38;5;28;01mexcept\u001B[39;00m CfTimeoutError \u001B[38;5;28;01mas\u001B[39;00m e:\n\u001B[1;32m    544\u001B[0m     \u001B[38;5;28;01mraise\u001B[39;00m \u001B[38;5;167;01mTimeoutError\u001B[39;00m \u001B[38;5;28;01mfrom\u001B[39;00m \u001B[38;5;21;01me\u001B[39;00m\n",
      "File \u001B[0;32m~/anaconda3/envs/ds/lib/python3.10/concurrent/futures/_base.py:453\u001B[0m, in \u001B[0;36mFuture.result\u001B[0;34m(self, timeout)\u001B[0m\n\u001B[1;32m    450\u001B[0m \u001B[38;5;28;01melif\u001B[39;00m \u001B[38;5;28mself\u001B[39m\u001B[38;5;241m.\u001B[39m_state \u001B[38;5;241m==\u001B[39m FINISHED:\n\u001B[1;32m    451\u001B[0m     \u001B[38;5;28;01mreturn\u001B[39;00m \u001B[38;5;28mself\u001B[39m\u001B[38;5;241m.\u001B[39m__get_result()\n\u001B[0;32m--> 453\u001B[0m \u001B[38;5;28;43mself\u001B[39;49m\u001B[38;5;241;43m.\u001B[39;49m\u001B[43m_condition\u001B[49m\u001B[38;5;241;43m.\u001B[39;49m\u001B[43mwait\u001B[49m\u001B[43m(\u001B[49m\u001B[43mtimeout\u001B[49m\u001B[43m)\u001B[49m\n\u001B[1;32m    455\u001B[0m \u001B[38;5;28;01mif\u001B[39;00m \u001B[38;5;28mself\u001B[39m\u001B[38;5;241m.\u001B[39m_state \u001B[38;5;129;01min\u001B[39;00m [CANCELLED, CANCELLED_AND_NOTIFIED]:\n\u001B[1;32m    456\u001B[0m     \u001B[38;5;28;01mraise\u001B[39;00m CancelledError()\n",
      "File \u001B[0;32m~/anaconda3/envs/ds/lib/python3.10/threading.py:320\u001B[0m, in \u001B[0;36mCondition.wait\u001B[0;34m(self, timeout)\u001B[0m\n\u001B[1;32m    318\u001B[0m \u001B[38;5;28;01mtry\u001B[39;00m:    \u001B[38;5;66;03m# restore state no matter what (e.g., KeyboardInterrupt)\u001B[39;00m\n\u001B[1;32m    319\u001B[0m     \u001B[38;5;28;01mif\u001B[39;00m timeout \u001B[38;5;129;01mis\u001B[39;00m \u001B[38;5;28;01mNone\u001B[39;00m:\n\u001B[0;32m--> 320\u001B[0m         \u001B[43mwaiter\u001B[49m\u001B[38;5;241;43m.\u001B[39;49m\u001B[43macquire\u001B[49m\u001B[43m(\u001B[49m\u001B[43m)\u001B[49m\n\u001B[1;32m    321\u001B[0m         gotit \u001B[38;5;241m=\u001B[39m \u001B[38;5;28;01mTrue\u001B[39;00m\n\u001B[1;32m    322\u001B[0m     \u001B[38;5;28;01melse\u001B[39;00m:\n",
      "\u001B[0;31mKeyboardInterrupt\u001B[0m: "
     ]
    }
   ],
   "source": [
    "# Assuming you have X and y\n",
    "# X_train, X_test, y_train, y_test = train_test_split(X, y, test_size=0.2, random_state=42)\n",
    "outcome_name = \"lead_time\"\n",
    "X_train, y_train = prepare_df_for_ml(df_train, case_id_name, outcome_name, columns_to_remove=[\"Change_Date+Time\", \"time_remaining\"])\n",
    "\n",
    "# Define the parameter grid\n",
    "param_grid = {\n",
    "    'regressor__n_estimators': [10, 50, 100, 200, 500, 1000],\n",
    "    'regressor__max_features': ['auto', 'sqrt'],\n",
    "    'regressor__max_depth' : [4,5,6,7,8, 16, 32],\n",
    "    'regressor__criterion' :['squared_error', 'absolute_error']\n",
    "}\n",
    "\n",
    "continuous_features = [\"time_from_first\", \"time_from_previous_et\", \"time_from_midnight\", \"# ACTIVITY=In Progress\", \"# ACTIVITY=Awaiting Assignment\",\n",
    "                       \"# ACTIVITY=Resolved\", \"# ACTIVITY=Assigned\", \"# ACTIVITY=Closed\", \"# ACTIVITY=Wait - User\", \"# ACTIVITY=Wait - Implementation\", \"# ACTIVITY=Wait\",\n",
    "                       \"# ACTIVITY=Wait - Vendor\", \"# ACTIVITY=In Call\", \"# ACTIVITY=Wait - Customer\", \"# ACTIVITY=Unmatched\", \"# ACTIVITY=Cancelled\"]\n",
    "categorical_features = [\"Status\", \"ACTIVITY\", \"Involved_ST_Function_Div\", \"Involved_Org_line_3\", \"Involved_ST\", \"SR_Latest_Impact\", \"Product\", \"Country\", \"Owner_Country\",\n",
    "                        \"weekday\"]\n",
    "\n",
    "# We create the preprocessing pipelines for both numeric and categorical data.\n",
    "numeric_transformer = Pipeline(steps=[\n",
    "    ('scaler', StandardScaler())])\n",
    "\n",
    "categorical_transformer = Pipeline(steps=[\n",
    "    ('onehot', OneHotEncoder(handle_unknown='ignore'))])\n",
    "\n",
    "transformations = ColumnTransformer(\n",
    "    transformers=[\n",
    "        ('num', numeric_transformer, continuous_features),\n",
    "        ('cat', categorical_transformer, categorical_features)])\n",
    "\n",
    "# Create a base model\n",
    "clf = Pipeline(steps=[('preprocessor', transformations),\n",
    "                           ('regressor', RandomForestRegressor(n_jobs=7))])\n",
    "\n",
    "# rf = RandomForestRegressor(random_state=42)\n",
    "\n",
    "# Initiate the grid search model\n",
    "grid_search = GridSearchCV(estimator=clf,\n",
    "                           param_grid=param_grid,\n",
    "                           cv=3,\n",
    "                           n_jobs=-1,\n",
    "                           verbose=2)\n",
    "\n",
    "# Fit the grid search to the data\n",
    "grid_search.fit(X_train, y_train)\n",
    "\n",
    "# Get the best parameters\n",
    "best_parameters = grid_search.best_params_\n",
    "print(f\"Best parameters: {best_parameters}\")\n",
    "\n",
    "# Get the best estimator\n",
    "best_model = grid_search.best_estimator_\n",
    "\n",
    "# Now you can fit & predict using the best model\n",
    "best_model.fit(X_train, y_train)\n",
    "predictions = best_model.predict(X_train)"
   ],
   "metadata": {
    "collapsed": false
   }
  },
  {
   "cell_type": "code",
   "execution_count": 9,
   "outputs": [],
   "source": [
    "# ### Features that can vary\n",
    "# option 1:\n",
    "# cols_to_vary = [col for col in df_train.columns if col[0] == '#']\n",
    "# cols_to_vary.extend([\"ACTIVITY\"])\n",
    "\n",
    "# option 2:\n",
    "cols_to_vary = [activity_column_name, resource_column_name]\n",
    "\n",
    "outcome_name = \"lead_time\"\n",
    "\n",
    "X_train, y_train = prepare_df_for_ml(df_train, case_id_name, outcome_name, columns_to_remove=[\"Change_Date+Time\", \"time_remaining\"])\n",
    "\n",
    "continuous_features = [\"time_from_first\", \"time_from_previous_et\", \"time_from_midnight\", \"# ACTIVITY=In Progress\", \"# ACTIVITY=Awaiting Assignment\",\n",
    "                       \"# ACTIVITY=Resolved\", \"# ACTIVITY=Assigned\", \"# ACTIVITY=Closed\", \"# ACTIVITY=Wait - User\", \"# ACTIVITY=Wait - Implementation\", \"# ACTIVITY=Wait\",\n",
    "                       \"# ACTIVITY=Wait - Vendor\", \"# ACTIVITY=In Call\", \"# ACTIVITY=Wait - Customer\", \"# ACTIVITY=Unmatched\", \"# ACTIVITY=Cancelled\"]\n",
    "categorical_features = [\"Status\", \"ACTIVITY\", \"Involved_ST_Function_Div\", \"Involved_Org_line_3\", \"Involved_ST\", \"SR_Latest_Impact\", \"Product\", \"Country\", \"Owner_Country\",\n",
    "                        \"weekday\"]\n",
    "\n",
    "# We create the preprocessing pipelines for both numeric and categorical data.\n",
    "numeric_transformer = Pipeline(steps=[\n",
    "    ('scaler', StandardScaler())])\n",
    "\n",
    "categorical_transformer = Pipeline(steps=[\n",
    "    ('onehot', OneHotEncoder(handle_unknown='ignore'))])\n",
    "\n",
    "transformations = ColumnTransformer(\n",
    "    transformers=[\n",
    "        ('num', numeric_transformer, continuous_features),\n",
    "        ('cat', categorical_transformer, categorical_features)])\n",
    "\n",
    "# Append classifier to preprocessing pipeline.\n",
    "# Now we have a full prediction pipeline.\n",
    "clf = Pipeline(steps=[('preprocessor', transformations),\n",
    "                           ('regressor', RandomForestRegressor(n_jobs=7))])\n",
    "model = clf.fit(X_train, y_train)\n",
    "\n",
    "# ## Create DiCE model\n",
    "data_model = dice_ml.Data(dataframe=pd.concat([X_train, y_train], axis=\"columns\"),\n",
    "                      continuous_features=continuous_features,\n",
    "                      outcome_name=outcome_name)\n",
    "\n",
    "# We provide the type of model as a parameter (model_type)\n",
    "ml_backend = dice_ml.Model(model=model, backend=\"sklearn\", model_type='regressor')\n",
    "method = DICE_METHOD  # genetic, kdtree, random\n",
    "explainer = Dice(data_model, ml_backend, method=method)  # Method random does not support features_weights argument in generate_counterfactuals()\n",
    "# exp_genetic_iris = Dice(d_iris, m_iris, method=\"kdtree\")"
   ],
   "metadata": {
    "collapsed": false,
    "ExecuteTime": {
     "end_time": "2023-06-27T09:45:45.046566795Z",
     "start_time": "2023-06-27T09:42:01.482929596Z"
    }
   }
  },
  {
   "cell_type": "markdown",
   "source": [
    "## Experiment with Single Queries"
   ],
   "metadata": {
    "collapsed": false
   }
  },
  {
   "cell_type": "code",
   "execution_count": 14,
   "outputs": [
    {
     "data": {
      "text/plain": "      SR_Number  Change_Date+Time    Status             ACTIVITY   \n87  1-506071646        1300185210  Accepted          Wait - User  \\\n88  1-506071646        1300189096  Accepted          In Progress   \n89  1-506071646        1300196341  Accepted          Wait - User   \n90  1-506071646        1300871608  Accepted          In Progress   \n91  1-506071646        1300871609  Accepted          In Progress   \n92  1-506071646        1300871841  Accepted          Wait - User   \n93  1-506071646        1300957938  Accepted          In Progress   \n94  1-506071646        1300958005    Queued  Awaiting Assignment   \n95  1-506071646        1300969210  Accepted          In Progress   \n96  1-506071646        1300969246    Queued  Awaiting Assignment   \n\n   Involved_ST_Function_Div Involved_Org_line_3 Involved_ST SR_Latest_Impact   \n87                     A2_1         Org line A2          D8           Medium  \\\n88                     A2_1         Org line A2          D8           Medium   \n89                     A2_1         Org line A2          D8           Medium   \n90                     A2_1         Org line A2          D8           Medium   \n91                     A2_1         Org line A2          D8           Medium   \n92                     A2_1         Org line A2          D8           Medium   \n93                     A2_1         Org line A2          D8           Medium   \n94                  missing        Org line V7n     V37 2nd           Medium   \n95                  missing        Org line V7n     V37 2nd           Medium   \n96                     A2_1         Org line A2          D8           Medium   \n\n    Product Country Owner_Country  time_from_first  time_from_previous_et   \n87  PROD542      nl        POLAND           694282                    362  \\\n88  PROD542      nl        POLAND           698168                   3886   \n89  PROD542      nl        POLAND           705413                   7245   \n90  PROD542      nl        POLAND          1380680                 675267   \n91  PROD542      nl        POLAND          1380681                      1   \n92  PROD542      nl        POLAND          1380913                    232   \n93  PROD542      nl        POLAND          1467010                  86097   \n94  PROD542      nl        POLAND          1467077                     67   \n95  PROD542      nl   Netherlands          1478282                  11205   \n96  PROD542      nl   Netherlands          1478318                     36   \n\n    time_from_midnight    weekday  time_remaining  # ACTIVITY=In Progress   \n87               38010    Tuesday        36593280                      20  \\\n88               41896    Tuesday        36589394                      20   \n89               49141    Tuesday        36582149                      21   \n90               33208  Wednesday        35906882                      21   \n91               33209  Wednesday        35906881                      22   \n92               33441  Wednesday        35906649                      23   \n93               33138   Thursday        35820552                      23   \n94               33205   Thursday        35820485                      24   \n95               44410   Thursday        35809280                      24   \n96               44446   Thursday        35809244                      25   \n\n    # ACTIVITY=Awaiting Assignment  # ACTIVITY=Resolved  # ACTIVITY=Assigned   \n87                              13                    0                    1  \\\n88                              13                    0                    1   \n89                              13                    0                    1   \n90                              13                    0                    1   \n91                              13                    0                    1   \n92                              13                    0                    1   \n93                              13                    0                    1   \n94                              13                    0                    1   \n95                              14                    0                    1   \n96                              14                    0                    1   \n\n    # ACTIVITY=Closed  # ACTIVITY=Wait - User   \n87                  0                       3  \\\n88                  0                       4   \n89                  0                       4   \n90                  0                       5   \n91                  0                       5   \n92                  0                       5   \n93                  0                       6   \n94                  0                       6   \n95                  0                       6   \n96                  0                       6   \n\n    # ACTIVITY=Wait - Implementation  # ACTIVITY=Wait   \n87                                 0                0  \\\n88                                 0                0   \n89                                 0                0   \n90                                 0                0   \n91                                 0                0   \n92                                 0                0   \n93                                 0                0   \n94                                 0                0   \n95                                 0                0   \n96                                 0                0   \n\n    # ACTIVITY=Wait - Vendor  # ACTIVITY=In Call  # ACTIVITY=Wait - Customer   \n87                         0                   0                           0  \\\n88                         0                   0                           0   \n89                         0                   0                           0   \n90                         0                   0                           0   \n91                         0                   0                           0   \n92                         0                   0                           0   \n93                         0                   0                           0   \n94                         0                   0                           0   \n95                         0                   0                           0   \n96                         0                   0                           0   \n\n    # ACTIVITY=Unmatched  # ACTIVITY=Cancelled  lead_time  \n87                     0                     0   37287562  \n88                     0                     0   37287562  \n89                     0                     0   37287562  \n90                     0                     0   37287562  \n91                     0                     0   37287562  \n92                     0                     0   37287562  \n93                     0                     0   37287562  \n94                     0                     0   37287562  \n95                     0                     0   37287562  \n96                     0                     0   37287562  ",
      "text/html": "<div>\n<style scoped>\n    .dataframe tbody tr th:only-of-type {\n        vertical-align: middle;\n    }\n\n    .dataframe tbody tr th {\n        vertical-align: top;\n    }\n\n    .dataframe thead th {\n        text-align: right;\n    }\n</style>\n<table border=\"1\" class=\"dataframe\">\n  <thead>\n    <tr style=\"text-align: right;\">\n      <th></th>\n      <th>SR_Number</th>\n      <th>Change_Date+Time</th>\n      <th>Status</th>\n      <th>ACTIVITY</th>\n      <th>Involved_ST_Function_Div</th>\n      <th>Involved_Org_line_3</th>\n      <th>Involved_ST</th>\n      <th>SR_Latest_Impact</th>\n      <th>Product</th>\n      <th>Country</th>\n      <th>Owner_Country</th>\n      <th>time_from_first</th>\n      <th>time_from_previous_et</th>\n      <th>time_from_midnight</th>\n      <th>weekday</th>\n      <th>time_remaining</th>\n      <th># ACTIVITY=In Progress</th>\n      <th># ACTIVITY=Awaiting Assignment</th>\n      <th># ACTIVITY=Resolved</th>\n      <th># ACTIVITY=Assigned</th>\n      <th># ACTIVITY=Closed</th>\n      <th># ACTIVITY=Wait - User</th>\n      <th># ACTIVITY=Wait - Implementation</th>\n      <th># ACTIVITY=Wait</th>\n      <th># ACTIVITY=Wait - Vendor</th>\n      <th># ACTIVITY=In Call</th>\n      <th># ACTIVITY=Wait - Customer</th>\n      <th># ACTIVITY=Unmatched</th>\n      <th># ACTIVITY=Cancelled</th>\n      <th>lead_time</th>\n    </tr>\n  </thead>\n  <tbody>\n    <tr>\n      <th>87</th>\n      <td>1-506071646</td>\n      <td>1300185210</td>\n      <td>Accepted</td>\n      <td>Wait - User</td>\n      <td>A2_1</td>\n      <td>Org line A2</td>\n      <td>D8</td>\n      <td>Medium</td>\n      <td>PROD542</td>\n      <td>nl</td>\n      <td>POLAND</td>\n      <td>694282</td>\n      <td>362</td>\n      <td>38010</td>\n      <td>Tuesday</td>\n      <td>36593280</td>\n      <td>20</td>\n      <td>13</td>\n      <td>0</td>\n      <td>1</td>\n      <td>0</td>\n      <td>3</td>\n      <td>0</td>\n      <td>0</td>\n      <td>0</td>\n      <td>0</td>\n      <td>0</td>\n      <td>0</td>\n      <td>0</td>\n      <td>37287562</td>\n    </tr>\n    <tr>\n      <th>88</th>\n      <td>1-506071646</td>\n      <td>1300189096</td>\n      <td>Accepted</td>\n      <td>In Progress</td>\n      <td>A2_1</td>\n      <td>Org line A2</td>\n      <td>D8</td>\n      <td>Medium</td>\n      <td>PROD542</td>\n      <td>nl</td>\n      <td>POLAND</td>\n      <td>698168</td>\n      <td>3886</td>\n      <td>41896</td>\n      <td>Tuesday</td>\n      <td>36589394</td>\n      <td>20</td>\n      <td>13</td>\n      <td>0</td>\n      <td>1</td>\n      <td>0</td>\n      <td>4</td>\n      <td>0</td>\n      <td>0</td>\n      <td>0</td>\n      <td>0</td>\n      <td>0</td>\n      <td>0</td>\n      <td>0</td>\n      <td>37287562</td>\n    </tr>\n    <tr>\n      <th>89</th>\n      <td>1-506071646</td>\n      <td>1300196341</td>\n      <td>Accepted</td>\n      <td>Wait - User</td>\n      <td>A2_1</td>\n      <td>Org line A2</td>\n      <td>D8</td>\n      <td>Medium</td>\n      <td>PROD542</td>\n      <td>nl</td>\n      <td>POLAND</td>\n      <td>705413</td>\n      <td>7245</td>\n      <td>49141</td>\n      <td>Tuesday</td>\n      <td>36582149</td>\n      <td>21</td>\n      <td>13</td>\n      <td>0</td>\n      <td>1</td>\n      <td>0</td>\n      <td>4</td>\n      <td>0</td>\n      <td>0</td>\n      <td>0</td>\n      <td>0</td>\n      <td>0</td>\n      <td>0</td>\n      <td>0</td>\n      <td>37287562</td>\n    </tr>\n    <tr>\n      <th>90</th>\n      <td>1-506071646</td>\n      <td>1300871608</td>\n      <td>Accepted</td>\n      <td>In Progress</td>\n      <td>A2_1</td>\n      <td>Org line A2</td>\n      <td>D8</td>\n      <td>Medium</td>\n      <td>PROD542</td>\n      <td>nl</td>\n      <td>POLAND</td>\n      <td>1380680</td>\n      <td>675267</td>\n      <td>33208</td>\n      <td>Wednesday</td>\n      <td>35906882</td>\n      <td>21</td>\n      <td>13</td>\n      <td>0</td>\n      <td>1</td>\n      <td>0</td>\n      <td>5</td>\n      <td>0</td>\n      <td>0</td>\n      <td>0</td>\n      <td>0</td>\n      <td>0</td>\n      <td>0</td>\n      <td>0</td>\n      <td>37287562</td>\n    </tr>\n    <tr>\n      <th>91</th>\n      <td>1-506071646</td>\n      <td>1300871609</td>\n      <td>Accepted</td>\n      <td>In Progress</td>\n      <td>A2_1</td>\n      <td>Org line A2</td>\n      <td>D8</td>\n      <td>Medium</td>\n      <td>PROD542</td>\n      <td>nl</td>\n      <td>POLAND</td>\n      <td>1380681</td>\n      <td>1</td>\n      <td>33209</td>\n      <td>Wednesday</td>\n      <td>35906881</td>\n      <td>22</td>\n      <td>13</td>\n      <td>0</td>\n      <td>1</td>\n      <td>0</td>\n      <td>5</td>\n      <td>0</td>\n      <td>0</td>\n      <td>0</td>\n      <td>0</td>\n      <td>0</td>\n      <td>0</td>\n      <td>0</td>\n      <td>37287562</td>\n    </tr>\n    <tr>\n      <th>92</th>\n      <td>1-506071646</td>\n      <td>1300871841</td>\n      <td>Accepted</td>\n      <td>Wait - User</td>\n      <td>A2_1</td>\n      <td>Org line A2</td>\n      <td>D8</td>\n      <td>Medium</td>\n      <td>PROD542</td>\n      <td>nl</td>\n      <td>POLAND</td>\n      <td>1380913</td>\n      <td>232</td>\n      <td>33441</td>\n      <td>Wednesday</td>\n      <td>35906649</td>\n      <td>23</td>\n      <td>13</td>\n      <td>0</td>\n      <td>1</td>\n      <td>0</td>\n      <td>5</td>\n      <td>0</td>\n      <td>0</td>\n      <td>0</td>\n      <td>0</td>\n      <td>0</td>\n      <td>0</td>\n      <td>0</td>\n      <td>37287562</td>\n    </tr>\n    <tr>\n      <th>93</th>\n      <td>1-506071646</td>\n      <td>1300957938</td>\n      <td>Accepted</td>\n      <td>In Progress</td>\n      <td>A2_1</td>\n      <td>Org line A2</td>\n      <td>D8</td>\n      <td>Medium</td>\n      <td>PROD542</td>\n      <td>nl</td>\n      <td>POLAND</td>\n      <td>1467010</td>\n      <td>86097</td>\n      <td>33138</td>\n      <td>Thursday</td>\n      <td>35820552</td>\n      <td>23</td>\n      <td>13</td>\n      <td>0</td>\n      <td>1</td>\n      <td>0</td>\n      <td>6</td>\n      <td>0</td>\n      <td>0</td>\n      <td>0</td>\n      <td>0</td>\n      <td>0</td>\n      <td>0</td>\n      <td>0</td>\n      <td>37287562</td>\n    </tr>\n    <tr>\n      <th>94</th>\n      <td>1-506071646</td>\n      <td>1300958005</td>\n      <td>Queued</td>\n      <td>Awaiting Assignment</td>\n      <td>missing</td>\n      <td>Org line V7n</td>\n      <td>V37 2nd</td>\n      <td>Medium</td>\n      <td>PROD542</td>\n      <td>nl</td>\n      <td>POLAND</td>\n      <td>1467077</td>\n      <td>67</td>\n      <td>33205</td>\n      <td>Thursday</td>\n      <td>35820485</td>\n      <td>24</td>\n      <td>13</td>\n      <td>0</td>\n      <td>1</td>\n      <td>0</td>\n      <td>6</td>\n      <td>0</td>\n      <td>0</td>\n      <td>0</td>\n      <td>0</td>\n      <td>0</td>\n      <td>0</td>\n      <td>0</td>\n      <td>37287562</td>\n    </tr>\n    <tr>\n      <th>95</th>\n      <td>1-506071646</td>\n      <td>1300969210</td>\n      <td>Accepted</td>\n      <td>In Progress</td>\n      <td>missing</td>\n      <td>Org line V7n</td>\n      <td>V37 2nd</td>\n      <td>Medium</td>\n      <td>PROD542</td>\n      <td>nl</td>\n      <td>Netherlands</td>\n      <td>1478282</td>\n      <td>11205</td>\n      <td>44410</td>\n      <td>Thursday</td>\n      <td>35809280</td>\n      <td>24</td>\n      <td>14</td>\n      <td>0</td>\n      <td>1</td>\n      <td>0</td>\n      <td>6</td>\n      <td>0</td>\n      <td>0</td>\n      <td>0</td>\n      <td>0</td>\n      <td>0</td>\n      <td>0</td>\n      <td>0</td>\n      <td>37287562</td>\n    </tr>\n    <tr>\n      <th>96</th>\n      <td>1-506071646</td>\n      <td>1300969246</td>\n      <td>Queued</td>\n      <td>Awaiting Assignment</td>\n      <td>A2_1</td>\n      <td>Org line A2</td>\n      <td>D8</td>\n      <td>Medium</td>\n      <td>PROD542</td>\n      <td>nl</td>\n      <td>Netherlands</td>\n      <td>1478318</td>\n      <td>36</td>\n      <td>44446</td>\n      <td>Thursday</td>\n      <td>35809244</td>\n      <td>25</td>\n      <td>14</td>\n      <td>0</td>\n      <td>1</td>\n      <td>0</td>\n      <td>6</td>\n      <td>0</td>\n      <td>0</td>\n      <td>0</td>\n      <td>0</td>\n      <td>0</td>\n      <td>0</td>\n      <td>0</td>\n      <td>37287562</td>\n    </tr>\n  </tbody>\n</table>\n</div>"
     },
     "execution_count": 14,
     "metadata": {},
     "output_type": "execute_result"
    }
   ],
   "source": [
    "sidx = 87\n",
    "eidx = 97\n",
    "\n",
    "df_train[sidx: eidx]\n",
    "# df_train[sidx: eidx]"
   ],
   "metadata": {
    "collapsed": false,
    "ExecuteTime": {
     "end_time": "2023-06-21T07:56:37.129920854Z",
     "start_time": "2023-06-21T07:56:36.640655482Z"
    }
   }
  },
  {
   "cell_type": "code",
   "execution_count": 13,
   "outputs": [
    {
     "name": "stderr",
     "output_type": "stream",
     "text": [
      "100%|██████████| 1/1 [00:07<00:00,  7.40s/it]"
     ]
    },
    {
     "name": "stdout",
     "output_type": "stream",
     "text": [
      "Only 0 (required 20)  Diverse Counterfactuals found for the given configuation, perhaps  change the query instance or the features to vary...; total time taken: 00 min 00 sec\n"
     ]
    },
    {
     "name": "stderr",
     "output_type": "stream",
     "text": [
      "\n"
     ]
    },
    {
     "ename": "UserConfigValidationException",
     "evalue": "No counterfactuals found for any of the query points! Kindly check your configuration.",
     "output_type": "error",
     "traceback": [
      "\u001B[0;31m---------------------------------------------------------------------------\u001B[0m",
      "\u001B[0;31mUserConfigValidationException\u001B[0m             Traceback (most recent call last)",
      "Cell \u001B[0;32mIn [13], line 6\u001B[0m\n\u001B[1;32m      3\u001B[0m total_time_upper_bound \u001B[38;5;241m=\u001B[39m \u001B[38;5;28mint\u001B[39m( y_train[sidx] \u001B[38;5;241m*\u001B[39m (REDUCED_KPI_TIME \u001B[38;5;241m/\u001B[39m \u001B[38;5;241m100\u001B[39m) )  \u001B[38;5;66;03m# A percentage of the original total time of the trace\u001B[39;00m\n\u001B[1;32m      4\u001B[0m query_instances \u001B[38;5;241m=\u001B[39m X_train[sidx: eidx]\n\u001B[0;32m----> 6\u001B[0m cfe \u001B[38;5;241m=\u001B[39m \u001B[43mexplainer\u001B[49m\u001B[38;5;241;43m.\u001B[39;49m\u001B[43mgenerate_counterfactuals\u001B[49m\u001B[43m(\u001B[49m\u001B[43mquery_instances\u001B[49m\u001B[43m,\u001B[49m\u001B[43m \u001B[49m\u001B[43mtotal_CFs\u001B[49m\u001B[38;5;241;43m=\u001B[39;49m\u001B[38;5;241;43m20\u001B[39;49m\u001B[43m,\u001B[49m\u001B[43m \u001B[49m\u001B[43mdesired_range\u001B[49m\u001B[38;5;241;43m=\u001B[39;49m\u001B[43m[\u001B[49m\u001B[38;5;241;43m0\u001B[39;49m\u001B[43m,\u001B[49m\u001B[43m \u001B[49m\u001B[43mtotal_time_upper_bound\u001B[49m\u001B[43m]\u001B[49m\u001B[43m,\u001B[49m\u001B[43m \u001B[49m\u001B[43mfeatures_to_vary\u001B[49m\u001B[38;5;241;43m=\u001B[39;49m\u001B[43mcols_to_vary\u001B[49m\u001B[43m,\u001B[49m\n\u001B[1;32m      7\u001B[0m \u001B[43m                                         \u001B[49m\u001B[43mproximity_weight\u001B[49m\u001B[38;5;241;43m=\u001B[39;49m\u001B[43mproximity_weight\u001B[49m\u001B[43m,\u001B[49m\u001B[43m \u001B[49m\u001B[43msparsity_weight\u001B[49m\u001B[38;5;241;43m=\u001B[39;49m\u001B[38;5;241;43m0.01\u001B[39;49m\u001B[43m,\u001B[49m\u001B[43m \u001B[49m\u001B[43mdiversity_weight\u001B[49m\u001B[38;5;241;43m=\u001B[39;49m\u001B[43mdiversity_weight\u001B[49m\u001B[43m,\u001B[49m\u001B[43m \u001B[49m\u001B[43mverbose\u001B[49m\u001B[38;5;241;43m=\u001B[39;49m\u001B[38;5;28;43;01mTrue\u001B[39;49;00m\u001B[43m)\u001B[49m\n\u001B[1;32m      9\u001B[0m cfe\u001B[38;5;241m.\u001B[39mvisualize_as_dataframe(show_only_changes\u001B[38;5;241m=\u001B[39m\u001B[38;5;28;01mTrue\u001B[39;00m)\n",
      "File \u001B[0;32m~/ismail/explainable-prescriptive-analytics/src/dice_ml/explainer_interfaces/explainer_base.py:173\u001B[0m, in \u001B[0;36mExplainerBase.generate_counterfactuals\u001B[0;34m(self, query_instances, total_CFs, desired_class, desired_range, permitted_range, features_to_vary, stopping_threshold, posthoc_sparsity_param, proximity_weight, sparsity_weight, diversity_weight, categorical_penalty, posthoc_sparsity_algorithm, verbose, **kwargs)\u001B[0m\n\u001B[1;32m    161\u001B[0m     res \u001B[38;5;241m=\u001B[39m \u001B[38;5;28mself\u001B[39m\u001B[38;5;241m.\u001B[39m_generate_counterfactuals(\n\u001B[1;32m    162\u001B[0m         query_instance, total_CFs,\n\u001B[1;32m    163\u001B[0m         desired_class\u001B[38;5;241m=\u001B[39mdesired_class,\n\u001B[0;32m   (...)\u001B[0m\n\u001B[1;32m    170\u001B[0m         verbose\u001B[38;5;241m=\u001B[39mverbose,\n\u001B[1;32m    171\u001B[0m         \u001B[38;5;241m*\u001B[39m\u001B[38;5;241m*\u001B[39mkwargs)\n\u001B[1;32m    172\u001B[0m     cf_examples_arr\u001B[38;5;241m.\u001B[39mappend(res)\n\u001B[0;32m--> 173\u001B[0m \u001B[38;5;28;43mself\u001B[39;49m\u001B[38;5;241;43m.\u001B[39;49m\u001B[43m_check_any_counterfactuals_computed\u001B[49m\u001B[43m(\u001B[49m\u001B[43mcf_examples_arr\u001B[49m\u001B[38;5;241;43m=\u001B[39;49m\u001B[43mcf_examples_arr\u001B[49m\u001B[43m)\u001B[49m\n\u001B[1;32m    175\u001B[0m \u001B[38;5;28;01mreturn\u001B[39;00m CounterfactualExplanations(cf_examples_list\u001B[38;5;241m=\u001B[39mcf_examples_arr)\n",
      "File \u001B[0;32m~/ismail/explainable-prescriptive-analytics/src/dice_ml/explainer_interfaces/explainer_base.py:842\u001B[0m, in \u001B[0;36mExplainerBase._check_any_counterfactuals_computed\u001B[0;34m(self, cf_examples_arr)\u001B[0m\n\u001B[1;32m    840\u001B[0m         \u001B[38;5;28;01mbreak\u001B[39;00m\n\u001B[1;32m    841\u001B[0m \u001B[38;5;28;01mif\u001B[39;00m no_cf_generated:\n\u001B[0;32m--> 842\u001B[0m     \u001B[38;5;28;01mraise\u001B[39;00m UserConfigValidationException(\n\u001B[1;32m    843\u001B[0m         \u001B[38;5;124m\"\u001B[39m\u001B[38;5;124mNo counterfactuals found for any of the query points! Kindly check your configuration.\u001B[39m\u001B[38;5;124m\"\u001B[39m)\n",
      "\u001B[0;31mUserConfigValidationException\u001B[0m: No counterfactuals found for any of the query points! Kindly check your configuration."
     ]
    }
   ],
   "source": [
    "sidx = 14\n",
    "eidx = sidx + 1\n",
    "total_time_upper_bound = int( y_train[sidx] * (REDUCED_KPI_TIME / 100) )  # A percentage of the original total time of the trace\n",
    "query_instances = X_train[sidx: eidx]\n",
    "\n",
    "cfe = explainer.generate_counterfactuals(query_instances, total_CFs=20, desired_range=[0, total_time_upper_bound], features_to_vary=cols_to_vary,\n",
    "                                         proximity_weight=proximity_weight, sparsity_weight=sparsity_weight, diversity_weight=diversity_weight)\n",
    "\n",
    "cfe.visualize_as_dataframe(show_only_changes=True)"
   ],
   "metadata": {
    "collapsed": false,
    "ExecuteTime": {
     "end_time": "2023-06-21T06:18:19.919075174Z",
     "start_time": "2023-06-21T06:18:12.458287379Z"
    }
   }
  },
  {
   "cell_type": "code",
   "execution_count": 10,
   "outputs": [],
   "source": [
    "## Apply Transition System Validation to the above Single Query Results\n",
    "# === Load the Transition Graph\n",
    "_, transition_graph = transition_system(df, case_id_name=case_id_name, activity_column_name=activity_column_name, window_size=WINDOW_SIZE)\n",
    "\n",
    "# === Load Activity and Resource Validation data structure\n",
    "resource_columns_to_validate = [activity_column_name, resource_column_name, 'Country', 'Owner_Country']\n",
    "valid_resources = activity_n_resources(df, resource_columns_to_validate, threshold_percentage=100)\n",
    "# len(valid_resources)"
   ],
   "metadata": {
    "collapsed": false,
    "ExecuteTime": {
     "end_time": "2023-06-27T09:45:56.750308524Z",
     "start_time": "2023-06-27T09:45:45.088848587Z"
    }
   }
  },
  {
   "cell_type": "code",
   "execution_count": 11,
   "outputs": [],
   "source": [
    "# # Case 1: For experimenting with single query\n",
    "# prefix_of_activities = get_prefix_of_activities(expected_activity_index=sidx, event_log=df_train, window_size=window_size, activity_column_name=activity_column_name)\n",
    "\n",
    "# # Case 2: When running in test mode\n",
    "# prefix_of_activities = get_prefix_of_activities(df_single_trace=df_test_trace, window_size=window_size, activity_column_name=activity_column_name)\n",
    "\n",
    "# # Test Validate Transitions Function\n",
    "# validate_transition(cfe, prefix_of_activities, transition_graph, valid_resources)\n",
    "# cfe.visualize_as_dataframe(show_only_changes=True)\n",
    "# print(f\"Valid Counterfactual Set\")"
   ],
   "metadata": {
    "collapsed": false,
    "ExecuteTime": {
     "end_time": "2023-06-27T09:46:30.049959027Z",
     "start_time": "2023-06-27T09:46:29.993941560Z"
    }
   }
  },
  {
   "cell_type": "markdown",
   "source": [
    "## Experiment with Multiple Queries"
   ],
   "metadata": {
    "collapsed": false
   }
  },
  {
   "cell_type": "code",
   "execution_count": 13,
   "outputs": [
    {
     "data": {
      "text/plain": "5"
     },
     "execution_count": 13,
     "metadata": {},
     "output_type": "execute_result"
    }
   ],
   "source": [
    "state_obj = StoreTestRun(save_load_path=RESULTS_FILE_PATH_N_NAME)\n",
    "save_load_path = state_obj.get_save_load_path()\n",
    "\n",
    "if os.path.exists(save_load_path):\n",
    "    state_obj.load_state()\n",
    "    cases_done = state_obj.run_state[\"cases_done\"]\n",
    "else:\n",
    "    cases_done = 0\n",
    "\n",
    "state_obj.run_state[\"cases_done\"]"
   ],
   "metadata": {
    "collapsed": false,
    "ExecuteTime": {
     "end_time": "2023-06-27T09:46:31.313734050Z",
     "start_time": "2023-06-27T09:46:31.271563688Z"
    }
   }
  },
  {
   "cell_type": "code",
   "execution_count": 29,
   "outputs": [
    {
     "name": "stdout",
     "output_type": "stream",
     "text": [
      "length of : 3\n",
      "for caseID:  1-733561941\n"
     ]
    },
    {
     "name": "stderr",
     "output_type": "stream",
     "text": [
      "100%|██████████| 1/1 [00:00<00:00,  6.59it/s]"
     ]
    },
    {
     "name": "stdout",
     "output_type": "stream",
     "text": [
      "No Counterfactuals found for the given configuration, perhaps try with different parameters... ; total time taken: 00 min 00 sec\n",
      "====== Start Saving the result ======\n",
      "====== End Saving the result For case: 11 ======\n",
      "Time it took: 0.003\n"
     ]
    },
    {
     "name": "stderr",
     "output_type": "stream",
     "text": [
      "\n"
     ]
    }
   ],
   "source": [
    "# %%capture\n",
    "start_from_case = state_obj.run_state[\"cases_done\"]\n",
    "for df_test_trace in test_cases[start_from_case:]:\n",
    "    test_trace_start = time()\n",
    "    # print(\"Case number:\", cases_done)\n",
    "    # print(f\"Case number is state_obj: {state_obj.run_state['cases_done']}\")\n",
    "\n",
    "    query_case_id = get_case_id(df_test_trace, case_id_name)\n",
    "\n",
    "    # == temp\n",
    "    if query_case_id != \"1-733561941\":\n",
    "        continue\n",
    "\n",
    "    print(f\"length of : {len(df_test_trace)}\")\n",
    "    # ===\n",
    "    print(\"for caseID: \", query_case_id)\n",
    "\n",
    "    X_test, y_test = prepare_df_for_ml(df_test_trace, case_id_name, outcome_name, columns_to_remove=[\"Change_Date+Time\", \"time_remaining\"])\n",
    "    # Access the last row of the truncated trace to replicate the behavior of a running trace\n",
    "    query_instances = X_test.iloc[-1:]\n",
    "    total_time_upper_bound = int( y_test.iloc[-1] * (REDUCED_KPI_TIME / 100) )  # A percentage of the original total time of the trace\n",
    "\n",
    "    try:\n",
    "        cfe = generate_cfe(explainer, query_instances, total_time_upper_bound, features_to_vary=cols_to_vary,\n",
    "                           total_cfs=TOTAL_CFS, kpi=KPI, proximity_weight=proximity_weight, sparsity_weight=sparsity_weight,\n",
    "                           diversity_weight=diversity_weight)\n",
    "\n",
    "        result_value = (query_case_id, cfe)\n",
    "        state_obj.add_cfe_to_results((\"cfe_before_validation\", result_value))  # save after cfe validation\n",
    "\n",
    "        prefix_of_activities = get_prefix_of_activities(df_single_trace=df_test_trace, window_size=WINDOW_SIZE, activity_column_name=activity_column_name)\n",
    "        cfe_df = validate_transition(cfe, prefix_of_activities=prefix_of_activities, transition_graph=transition_graph, valid_resources=valid_resources,\n",
    "                                     activity_column_name=activity_column_name, resource_columns_to_validate=resource_columns_to_validate)\n",
    "\n",
    "        if len(cfe_df) > 0:\n",
    "            result_value = (query_case_id, cfe_df)\n",
    "            state_obj.add_cfe_to_results((\"cfe_after_validation\", result_value))\n",
    "\n",
    "        cases_stored = state_obj.save_state()\n",
    "\n",
    "    except UserConfigValidationException:\n",
    "        state_obj.add_cfe_to_results((\"cfe_not_found\", query_case_id))\n",
    "        cases_stored = state_obj.save_state()\n",
    "    except TimeoutError as err:  # When function takes too long\n",
    "        print(\"TimeoutError caught:\", err)\n",
    "        state_obj.add_cfe_to_results((\"cfe_not_found\", query_case_id))\n",
    "        cases_stored = state_obj.save_state()\n",
    "    except ValueError:\n",
    "        # print(f\"Includes feature not found in training data: {get_case_id(df_test_trace)}\")\n",
    "        state_obj.add_cfe_to_results((\"cases_includes_new_data\", query_case_id))\n",
    "        cases_stored = state_obj.save_state()\n",
    "    # This error is seen occurring on when running lots of loops on the server\n",
    "    except AttributeError as e:\n",
    "        print(\"AttributeError caught:\", e)\n",
    "        state_obj.add_cfe_to_results((\"exceptions\", query_case_id))\n",
    "        cases_stored = state_obj.save_state()\n",
    "    # except Exception as err:\n",
    "    #     print(f\"Broadest Exception handler invoked\", err)\n",
    "    #     state_obj.add_cfe_to_results((\"exceptions\", query_case_id))\n",
    "    #     cases_stored = state_obj.save_state()\n",
    "\n",
    "    cases_done += 1\n",
    "    # Just for a sanity check\n",
    "    print(f\"Time it took: { round( ((time() - test_trace_start) / 60 ), 3) }\")\n",
    "    assert cases_done == cases_stored\n",
    "    if cases_done >= 5:\n",
    "        break"
   ],
   "metadata": {
    "collapsed": false,
    "ExecuteTime": {
     "end_time": "2023-06-27T10:01:34.514320034Z",
     "start_time": "2023-06-27T10:01:34.289827734Z"
    }
   }
  },
  {
   "cell_type": "code",
   "execution_count": 67,
   "outputs": [
    {
     "data": {
      "text/plain": "   cfe_before_validation  cfe_after_validation  cfe_not_found   \n0                      3                     2              0  \\\n\n   cases_includes_new_data  cases_too_small  cases_zero_in_y  exceptions   \n0                        2                0                0           0  \\\n\n   cases_done  \n0           5  ",
      "text/html": "<div>\n<style scoped>\n    .dataframe tbody tr th:only-of-type {\n        vertical-align: middle;\n    }\n\n    .dataframe tbody tr th {\n        vertical-align: top;\n    }\n\n    .dataframe thead th {\n        text-align: right;\n    }\n</style>\n<table border=\"1\" class=\"dataframe\">\n  <thead>\n    <tr style=\"text-align: right;\">\n      <th></th>\n      <th>cfe_before_validation</th>\n      <th>cfe_after_validation</th>\n      <th>cfe_not_found</th>\n      <th>cases_includes_new_data</th>\n      <th>cases_too_small</th>\n      <th>cases_zero_in_y</th>\n      <th>exceptions</th>\n      <th>cases_done</th>\n    </tr>\n  </thead>\n  <tbody>\n    <tr>\n      <th>0</th>\n      <td>3</td>\n      <td>2</td>\n      <td>0</td>\n      <td>2</td>\n      <td>0</td>\n      <td>0</td>\n      <td>0</td>\n      <td>5</td>\n    </tr>\n  </tbody>\n</table>\n</div>"
     },
     "execution_count": 67,
     "metadata": {},
     "output_type": "execute_result"
    }
   ],
   "source": [
    "state_obj.get_run_state_df()"
   ],
   "metadata": {
    "collapsed": false,
    "ExecuteTime": {
     "end_time": "2023-06-16T13:08:16.762402345Z",
     "start_time": "2023-06-16T13:08:16.714444451Z"
    }
   }
  },
  {
   "cell_type": "markdown",
   "source": [
    "# Results:"
   ],
   "metadata": {
    "collapsed": false
   }
  },
  {
   "cell_type": "markdown",
   "source": [
    "### View Valid cases and their Counterfactual Examples (CFEs)\n",
    "You can load saved configs and run them independently of the above code"
   ],
   "metadata": {
    "collapsed": false
   }
  },
  {
   "cell_type": "code",
   "execution_count": 24,
   "outputs": [
    {
     "name": "stdout",
     "output_type": "stream",
     "text": [
      "File already exists\n"
     ]
    }
   ],
   "source": [
    "view_from_saved_file = True  # Set this option true and specify the different file name.\n",
    "pickle_file = \"genetic-t03.pkl\"\n",
    "if view_from_saved_file:\n",
    "    if not os.path.exists( f\"./experiment_results/{pickle_file}\"):\n",
    "        result = subprocess.run(['scp', f'labnum08:git_repos/explainable-prescriptive-analytics/experiment_results/{pickle_file}', 'experiment_results/'], capture_output=True, text=True)\n",
    "\n",
    "        # return code of 0 means the command executed successfully\n",
    "        if result.returncode != 0:\n",
    "            print(\"There is an Error in the command\")\n",
    "        else:\n",
    "            print(\"successful\")\n",
    "    else:\n",
    "        print(f\"File already exists\")\n",
    "\n",
    "    RESULTS_FILE_PATH_N_NAME = f\"experiment_results/{pickle_file.split('.')[0]}.csv\"\n",
    "else:\n",
    "    print(f\"Using results from file used in the above code\")"
   ],
   "metadata": {
    "collapsed": false,
    "ExecuteTime": {
     "end_time": "2023-06-15T15:09:10.252659340Z",
     "start_time": "2023-06-15T15:09:10.224944168Z"
    }
   }
  },
  {
   "cell_type": "code",
   "execution_count": 25,
   "outputs": [
    {
     "name": "stdout",
     "output_type": "stream",
     "text": [
      "Cases tested:  2493\n"
     ]
    }
   ],
   "source": [
    "if view_from_saved_file:\n",
    "    RESULTS_FILE_PATH_N_NAME = f\"experiment_results/{pickle_file.split('.')[0]}.csv\"\n",
    "state_obj = StoreTestRun(save_load_path=RESULTS_FILE_PATH_N_NAME)\n",
    "save_load_path = state_obj.get_save_load_path()\n",
    "\n",
    "if os.path.exists(save_load_path):\n",
    "    state_obj.load_state()\n",
    "    cases_done = state_obj.run_state[\"cases_done\"]\n",
    "else:\n",
    "    cases_done = 0\n",
    "\n",
    "print(\"Cases tested: \", state_obj.run_state[\"cases_done\"])\n",
    "def print_results():\n",
    "    for case_id, cfe_df in state_obj.run_state[\"cfe_after_validation\"]:\n",
    "        yield case_id, cfe_df\n",
    "\n",
    "generator = print_results()"
   ],
   "metadata": {
    "collapsed": false,
    "ExecuteTime": {
     "end_time": "2023-06-15T15:09:15.871840608Z",
     "start_time": "2023-06-15T15:09:15.086299236Z"
    }
   }
  },
  {
   "cell_type": "code",
   "execution_count": 26,
   "outputs": [
    {
     "name": "stdout",
     "output_type": "stream",
     "text": [
      "Original Test Case:\n"
     ]
    },
    {
     "data": {
      "text/plain": "      SR_Number  Change_Date+Time    Status             ACTIVITY   \n0   1-557297151        1313748596  Accepted          In Progress  \\\n1   1-557297151        1313748671  Accepted          In Progress   \n2   1-557297151        1313748760    Queued  Awaiting Assignment   \n3   1-557297151        1313752993  Accepted          In Progress   \n4   1-557297151        1313753045    Queued  Awaiting Assignment   \n5   1-557297151        1313753046    Queued  Awaiting Assignment   \n6   1-557297151        1313755125  Accepted          In Progress   \n7   1-557297151        1313755132  Accepted             Assigned   \n8   1-557297151        1313762689  Accepted          In Progress   \n9   1-557297151        1313762746  Accepted          Wait - User   \n10  1-557297151        1313764004    Queued  Awaiting Assignment   \n11  1-557297151        1313767001  Accepted          In Progress   \n12  1-557297151        1313767070    Queued  Awaiting Assignment   \n\n   Involved_ST_Function_Div Involved_Org_line_3 Involved_ST SR_Latest_Impact   \n0                      A2_1          Org line C          D5           Medium  \\\n1                      A2_1          Org line C          D5           Medium   \n2                   missing        Org line V7n     V37 2nd           Medium   \n3                   missing        Org line V7n     V37 2nd           Medium   \n4                      A2_1          Org line C          D5           Medium   \n5                      A2_1          Org line C          D5           Medium   \n6                      A2_1          Org line C          D5           Medium   \n7                      A2_1          Org line C          D5           Medium   \n8                      A2_1          Org line C          D5           Medium   \n9                      A2_1          Org line C          D5           Medium   \n10                  missing        Org line V7n     V37 2nd           Medium   \n11                  missing        Org line V7n     V37 2nd           Medium   \n12                     A2_1          Org line C          D5           Medium   \n\n    Product Country Owner_Country  time_from_first  time_from_previous_et   \n0   PROD542      nl       Belgium              0.0                    0.0  \\\n1   PROD542      nl       Belgium             75.0                   75.0   \n2   PROD542      nl       Belgium            164.0                   89.0   \n3   PROD542      nl   Netherlands           4397.0                 4233.0   \n4   PROD542      nl   Netherlands           4449.0                   52.0   \n5   PROD542      nl   Netherlands           4450.0                    1.0   \n6   PROD542      nl       Belgium           6529.0                 2079.0   \n7   PROD542      nl       Belgium           6536.0                    7.0   \n8   PROD542      nl       Belgium          14093.0                 7557.0   \n9   PROD542      nl       Belgium          14150.0                   57.0   \n10  PROD542      nl       Belgium          15408.0                 1258.0   \n11  PROD542      nl   Netherlands          18405.0                 2997.0   \n12  PROD542      nl   Netherlands          18474.0                   69.0   \n\n    time_from_midnight weekday  time_remaining  # ACTIVITY=In Progress   \n0              36596.0  Friday      22684333.0                       0  \\\n1              36671.0  Friday      22684258.0                       1   \n2              36760.0  Friday      22684169.0                       2   \n3              40993.0  Friday      22679936.0                       2   \n4              41045.0  Friday      22679884.0                       3   \n5              41046.0  Friday      22679883.0                       3   \n6              43125.0  Friday      22677804.0                       3   \n7              43132.0  Friday      22677797.0                       4   \n8              50689.0  Friday      22670240.0                       4   \n9              50746.0  Friday      22670183.0                       5   \n10             52004.0  Friday      22668925.0                       5   \n11             55001.0  Friday      22665928.0                       5   \n12             55070.0  Friday      22665859.0                       6   \n\n    # ACTIVITY=Awaiting Assignment  # ACTIVITY=Resolved  # ACTIVITY=Assigned   \n0                                0                    0                    0  \\\n1                                0                    0                    0   \n2                                0                    0                    0   \n3                                1                    0                    0   \n4                                1                    0                    0   \n5                                2                    0                    0   \n6                                3                    0                    0   \n7                                3                    0                    0   \n8                                3                    0                    1   \n9                                3                    0                    1   \n10                               3                    0                    1   \n11                               4                    0                    1   \n12                               4                    0                    1   \n\n    # ACTIVITY=Closed  # ACTIVITY=Wait - User   \n0                   0                       0  \\\n1                   0                       0   \n2                   0                       0   \n3                   0                       0   \n4                   0                       0   \n5                   0                       0   \n6                   0                       0   \n7                   0                       0   \n8                   0                       0   \n9                   0                       0   \n10                  0                       1   \n11                  0                       1   \n12                  0                       1   \n\n    # ACTIVITY=Wait - Implementation  # ACTIVITY=Wait   \n0                                  0                0  \\\n1                                  0                0   \n2                                  0                0   \n3                                  0                0   \n4                                  0                0   \n5                                  0                0   \n6                                  0                0   \n7                                  0                0   \n8                                  0                0   \n9                                  0                0   \n10                                 0                0   \n11                                 0                0   \n12                                 0                0   \n\n    # ACTIVITY=Wait - Vendor  # ACTIVITY=In Call  # ACTIVITY=Wait - Customer   \n0                          0                   0                           0  \\\n1                          0                   0                           0   \n2                          0                   0                           0   \n3                          0                   0                           0   \n4                          0                   0                           0   \n5                          0                   0                           0   \n6                          0                   0                           0   \n7                          0                   0                           0   \n8                          0                   0                           0   \n9                          0                   0                           0   \n10                         0                   0                           0   \n11                         0                   0                           0   \n12                         0                   0                           0   \n\n    # ACTIVITY=Unmatched  # ACTIVITY=Cancelled   lead_time  \n0                      0                     0  22684333.0  \n1                      0                     0  22684333.0  \n2                      0                     0  22684333.0  \n3                      0                     0  22684333.0  \n4                      0                     0  22684333.0  \n5                      0                     0  22684333.0  \n6                      0                     0  22684333.0  \n7                      0                     0  22684333.0  \n8                      0                     0  22684333.0  \n9                      0                     0  22684333.0  \n10                     0                     0  22684333.0  \n11                     0                     0  22684333.0  \n12                     0                     0  22684333.0  ",
      "text/html": "<div>\n<style scoped>\n    .dataframe tbody tr th:only-of-type {\n        vertical-align: middle;\n    }\n\n    .dataframe tbody tr th {\n        vertical-align: top;\n    }\n\n    .dataframe thead th {\n        text-align: right;\n    }\n</style>\n<table border=\"1\" class=\"dataframe\">\n  <thead>\n    <tr style=\"text-align: right;\">\n      <th></th>\n      <th>SR_Number</th>\n      <th>Change_Date+Time</th>\n      <th>Status</th>\n      <th>ACTIVITY</th>\n      <th>Involved_ST_Function_Div</th>\n      <th>Involved_Org_line_3</th>\n      <th>Involved_ST</th>\n      <th>SR_Latest_Impact</th>\n      <th>Product</th>\n      <th>Country</th>\n      <th>Owner_Country</th>\n      <th>time_from_first</th>\n      <th>time_from_previous_et</th>\n      <th>time_from_midnight</th>\n      <th>weekday</th>\n      <th>time_remaining</th>\n      <th># ACTIVITY=In Progress</th>\n      <th># ACTIVITY=Awaiting Assignment</th>\n      <th># ACTIVITY=Resolved</th>\n      <th># ACTIVITY=Assigned</th>\n      <th># ACTIVITY=Closed</th>\n      <th># ACTIVITY=Wait - User</th>\n      <th># ACTIVITY=Wait - Implementation</th>\n      <th># ACTIVITY=Wait</th>\n      <th># ACTIVITY=Wait - Vendor</th>\n      <th># ACTIVITY=In Call</th>\n      <th># ACTIVITY=Wait - Customer</th>\n      <th># ACTIVITY=Unmatched</th>\n      <th># ACTIVITY=Cancelled</th>\n      <th>lead_time</th>\n    </tr>\n  </thead>\n  <tbody>\n    <tr>\n      <th>0</th>\n      <td>1-557297151</td>\n      <td>1313748596</td>\n      <td>Accepted</td>\n      <td>In Progress</td>\n      <td>A2_1</td>\n      <td>Org line C</td>\n      <td>D5</td>\n      <td>Medium</td>\n      <td>PROD542</td>\n      <td>nl</td>\n      <td>Belgium</td>\n      <td>0.0</td>\n      <td>0.0</td>\n      <td>36596.0</td>\n      <td>Friday</td>\n      <td>22684333.0</td>\n      <td>0</td>\n      <td>0</td>\n      <td>0</td>\n      <td>0</td>\n      <td>0</td>\n      <td>0</td>\n      <td>0</td>\n      <td>0</td>\n      <td>0</td>\n      <td>0</td>\n      <td>0</td>\n      <td>0</td>\n      <td>0</td>\n      <td>22684333.0</td>\n    </tr>\n    <tr>\n      <th>1</th>\n      <td>1-557297151</td>\n      <td>1313748671</td>\n      <td>Accepted</td>\n      <td>In Progress</td>\n      <td>A2_1</td>\n      <td>Org line C</td>\n      <td>D5</td>\n      <td>Medium</td>\n      <td>PROD542</td>\n      <td>nl</td>\n      <td>Belgium</td>\n      <td>75.0</td>\n      <td>75.0</td>\n      <td>36671.0</td>\n      <td>Friday</td>\n      <td>22684258.0</td>\n      <td>1</td>\n      <td>0</td>\n      <td>0</td>\n      <td>0</td>\n      <td>0</td>\n      <td>0</td>\n      <td>0</td>\n      <td>0</td>\n      <td>0</td>\n      <td>0</td>\n      <td>0</td>\n      <td>0</td>\n      <td>0</td>\n      <td>22684333.0</td>\n    </tr>\n    <tr>\n      <th>2</th>\n      <td>1-557297151</td>\n      <td>1313748760</td>\n      <td>Queued</td>\n      <td>Awaiting Assignment</td>\n      <td>missing</td>\n      <td>Org line V7n</td>\n      <td>V37 2nd</td>\n      <td>Medium</td>\n      <td>PROD542</td>\n      <td>nl</td>\n      <td>Belgium</td>\n      <td>164.0</td>\n      <td>89.0</td>\n      <td>36760.0</td>\n      <td>Friday</td>\n      <td>22684169.0</td>\n      <td>2</td>\n      <td>0</td>\n      <td>0</td>\n      <td>0</td>\n      <td>0</td>\n      <td>0</td>\n      <td>0</td>\n      <td>0</td>\n      <td>0</td>\n      <td>0</td>\n      <td>0</td>\n      <td>0</td>\n      <td>0</td>\n      <td>22684333.0</td>\n    </tr>\n    <tr>\n      <th>3</th>\n      <td>1-557297151</td>\n      <td>1313752993</td>\n      <td>Accepted</td>\n      <td>In Progress</td>\n      <td>missing</td>\n      <td>Org line V7n</td>\n      <td>V37 2nd</td>\n      <td>Medium</td>\n      <td>PROD542</td>\n      <td>nl</td>\n      <td>Netherlands</td>\n      <td>4397.0</td>\n      <td>4233.0</td>\n      <td>40993.0</td>\n      <td>Friday</td>\n      <td>22679936.0</td>\n      <td>2</td>\n      <td>1</td>\n      <td>0</td>\n      <td>0</td>\n      <td>0</td>\n      <td>0</td>\n      <td>0</td>\n      <td>0</td>\n      <td>0</td>\n      <td>0</td>\n      <td>0</td>\n      <td>0</td>\n      <td>0</td>\n      <td>22684333.0</td>\n    </tr>\n    <tr>\n      <th>4</th>\n      <td>1-557297151</td>\n      <td>1313753045</td>\n      <td>Queued</td>\n      <td>Awaiting Assignment</td>\n      <td>A2_1</td>\n      <td>Org line C</td>\n      <td>D5</td>\n      <td>Medium</td>\n      <td>PROD542</td>\n      <td>nl</td>\n      <td>Netherlands</td>\n      <td>4449.0</td>\n      <td>52.0</td>\n      <td>41045.0</td>\n      <td>Friday</td>\n      <td>22679884.0</td>\n      <td>3</td>\n      <td>1</td>\n      <td>0</td>\n      <td>0</td>\n      <td>0</td>\n      <td>0</td>\n      <td>0</td>\n      <td>0</td>\n      <td>0</td>\n      <td>0</td>\n      <td>0</td>\n      <td>0</td>\n      <td>0</td>\n      <td>22684333.0</td>\n    </tr>\n    <tr>\n      <th>5</th>\n      <td>1-557297151</td>\n      <td>1313753046</td>\n      <td>Queued</td>\n      <td>Awaiting Assignment</td>\n      <td>A2_1</td>\n      <td>Org line C</td>\n      <td>D5</td>\n      <td>Medium</td>\n      <td>PROD542</td>\n      <td>nl</td>\n      <td>Netherlands</td>\n      <td>4450.0</td>\n      <td>1.0</td>\n      <td>41046.0</td>\n      <td>Friday</td>\n      <td>22679883.0</td>\n      <td>3</td>\n      <td>2</td>\n      <td>0</td>\n      <td>0</td>\n      <td>0</td>\n      <td>0</td>\n      <td>0</td>\n      <td>0</td>\n      <td>0</td>\n      <td>0</td>\n      <td>0</td>\n      <td>0</td>\n      <td>0</td>\n      <td>22684333.0</td>\n    </tr>\n    <tr>\n      <th>6</th>\n      <td>1-557297151</td>\n      <td>1313755125</td>\n      <td>Accepted</td>\n      <td>In Progress</td>\n      <td>A2_1</td>\n      <td>Org line C</td>\n      <td>D5</td>\n      <td>Medium</td>\n      <td>PROD542</td>\n      <td>nl</td>\n      <td>Belgium</td>\n      <td>6529.0</td>\n      <td>2079.0</td>\n      <td>43125.0</td>\n      <td>Friday</td>\n      <td>22677804.0</td>\n      <td>3</td>\n      <td>3</td>\n      <td>0</td>\n      <td>0</td>\n      <td>0</td>\n      <td>0</td>\n      <td>0</td>\n      <td>0</td>\n      <td>0</td>\n      <td>0</td>\n      <td>0</td>\n      <td>0</td>\n      <td>0</td>\n      <td>22684333.0</td>\n    </tr>\n    <tr>\n      <th>7</th>\n      <td>1-557297151</td>\n      <td>1313755132</td>\n      <td>Accepted</td>\n      <td>Assigned</td>\n      <td>A2_1</td>\n      <td>Org line C</td>\n      <td>D5</td>\n      <td>Medium</td>\n      <td>PROD542</td>\n      <td>nl</td>\n      <td>Belgium</td>\n      <td>6536.0</td>\n      <td>7.0</td>\n      <td>43132.0</td>\n      <td>Friday</td>\n      <td>22677797.0</td>\n      <td>4</td>\n      <td>3</td>\n      <td>0</td>\n      <td>0</td>\n      <td>0</td>\n      <td>0</td>\n      <td>0</td>\n      <td>0</td>\n      <td>0</td>\n      <td>0</td>\n      <td>0</td>\n      <td>0</td>\n      <td>0</td>\n      <td>22684333.0</td>\n    </tr>\n    <tr>\n      <th>8</th>\n      <td>1-557297151</td>\n      <td>1313762689</td>\n      <td>Accepted</td>\n      <td>In Progress</td>\n      <td>A2_1</td>\n      <td>Org line C</td>\n      <td>D5</td>\n      <td>Medium</td>\n      <td>PROD542</td>\n      <td>nl</td>\n      <td>Belgium</td>\n      <td>14093.0</td>\n      <td>7557.0</td>\n      <td>50689.0</td>\n      <td>Friday</td>\n      <td>22670240.0</td>\n      <td>4</td>\n      <td>3</td>\n      <td>0</td>\n      <td>1</td>\n      <td>0</td>\n      <td>0</td>\n      <td>0</td>\n      <td>0</td>\n      <td>0</td>\n      <td>0</td>\n      <td>0</td>\n      <td>0</td>\n      <td>0</td>\n      <td>22684333.0</td>\n    </tr>\n    <tr>\n      <th>9</th>\n      <td>1-557297151</td>\n      <td>1313762746</td>\n      <td>Accepted</td>\n      <td>Wait - User</td>\n      <td>A2_1</td>\n      <td>Org line C</td>\n      <td>D5</td>\n      <td>Medium</td>\n      <td>PROD542</td>\n      <td>nl</td>\n      <td>Belgium</td>\n      <td>14150.0</td>\n      <td>57.0</td>\n      <td>50746.0</td>\n      <td>Friday</td>\n      <td>22670183.0</td>\n      <td>5</td>\n      <td>3</td>\n      <td>0</td>\n      <td>1</td>\n      <td>0</td>\n      <td>0</td>\n      <td>0</td>\n      <td>0</td>\n      <td>0</td>\n      <td>0</td>\n      <td>0</td>\n      <td>0</td>\n      <td>0</td>\n      <td>22684333.0</td>\n    </tr>\n    <tr>\n      <th>10</th>\n      <td>1-557297151</td>\n      <td>1313764004</td>\n      <td>Queued</td>\n      <td>Awaiting Assignment</td>\n      <td>missing</td>\n      <td>Org line V7n</td>\n      <td>V37 2nd</td>\n      <td>Medium</td>\n      <td>PROD542</td>\n      <td>nl</td>\n      <td>Belgium</td>\n      <td>15408.0</td>\n      <td>1258.0</td>\n      <td>52004.0</td>\n      <td>Friday</td>\n      <td>22668925.0</td>\n      <td>5</td>\n      <td>3</td>\n      <td>0</td>\n      <td>1</td>\n      <td>0</td>\n      <td>1</td>\n      <td>0</td>\n      <td>0</td>\n      <td>0</td>\n      <td>0</td>\n      <td>0</td>\n      <td>0</td>\n      <td>0</td>\n      <td>22684333.0</td>\n    </tr>\n    <tr>\n      <th>11</th>\n      <td>1-557297151</td>\n      <td>1313767001</td>\n      <td>Accepted</td>\n      <td>In Progress</td>\n      <td>missing</td>\n      <td>Org line V7n</td>\n      <td>V37 2nd</td>\n      <td>Medium</td>\n      <td>PROD542</td>\n      <td>nl</td>\n      <td>Netherlands</td>\n      <td>18405.0</td>\n      <td>2997.0</td>\n      <td>55001.0</td>\n      <td>Friday</td>\n      <td>22665928.0</td>\n      <td>5</td>\n      <td>4</td>\n      <td>0</td>\n      <td>1</td>\n      <td>0</td>\n      <td>1</td>\n      <td>0</td>\n      <td>0</td>\n      <td>0</td>\n      <td>0</td>\n      <td>0</td>\n      <td>0</td>\n      <td>0</td>\n      <td>22684333.0</td>\n    </tr>\n    <tr>\n      <th>12</th>\n      <td>1-557297151</td>\n      <td>1313767070</td>\n      <td>Queued</td>\n      <td>Awaiting Assignment</td>\n      <td>A2_1</td>\n      <td>Org line C</td>\n      <td>D5</td>\n      <td>Medium</td>\n      <td>PROD542</td>\n      <td>nl</td>\n      <td>Netherlands</td>\n      <td>18474.0</td>\n      <td>69.0</td>\n      <td>55070.0</td>\n      <td>Friday</td>\n      <td>22665859.0</td>\n      <td>6</td>\n      <td>4</td>\n      <td>0</td>\n      <td>1</td>\n      <td>0</td>\n      <td>1</td>\n      <td>0</td>\n      <td>0</td>\n      <td>0</td>\n      <td>0</td>\n      <td>0</td>\n      <td>0</td>\n      <td>0</td>\n      <td>22684333.0</td>\n    </tr>\n  </tbody>\n</table>\n</div>"
     },
     "metadata": {},
     "output_type": "display_data"
    },
    {
     "name": "stdout",
     "output_type": "stream",
     "text": [
      "Counterfactuals for the last row:\n"
     ]
    },
    {
     "data": {
      "text/plain": "   Status             ACTIVITY Involved_ST_Function_Div Involved_Org_line_3   \n0  Queued  Awaiting Assignment                     A2_1          Org line C  \\\n1  Queued  Awaiting Assignment                     A2_1          Org line C   \n2  Queued  Awaiting Assignment                     A2_1          Org line C   \n\n  Involved_ST SR_Latest_Impact  Product Country Owner_Country   \n0          D5           Medium  PROD542      nl   Netherlands  \\\n1          D6           Medium  PROD542      nl   Netherlands   \n2          D2           Medium  PROD542      nl   Netherlands   \n\n   time_from_first  time_from_previous_et  time_from_midnight weekday   \n0          18474.0                   69.0             55070.0  Friday  \\\n1          18474.0                   69.0             55070.0  Friday   \n2          18474.0                   69.0             55070.0  Friday   \n\n   # ACTIVITY=In Progress  # ACTIVITY=Awaiting Assignment   \n0                     6.0                             4.0  \\\n1                     6.0                             4.0   \n2                     6.0                             4.0   \n\n   # ACTIVITY=Resolved  # ACTIVITY=Assigned  # ACTIVITY=Closed   \n0                  0.0                  1.0                0.0  \\\n1                  0.0                  1.0                0.0   \n2                  0.0                  1.0                0.0   \n\n   # ACTIVITY=Wait - User  # ACTIVITY=Wait - Implementation  # ACTIVITY=Wait   \n0                     1.0                               0.0              0.0  \\\n1                     1.0                               0.0              0.0   \n2                     1.0                               0.0              0.0   \n\n   # ACTIVITY=Wait - Vendor  # ACTIVITY=In Call  # ACTIVITY=Wait - Customer   \n0                       0.0                 0.0                         0.0  \\\n1                       0.0                 0.0                         0.0   \n2                       0.0                 0.0                         0.0   \n\n   # ACTIVITY=Unmatched  # ACTIVITY=Cancelled    lead_time  \n0                   0.0                   0.0  12615722.62  \n1                   0.0                   0.0  19692520.48  \n2                   0.0                   0.0  19936662.34  ",
      "text/html": "<div>\n<style scoped>\n    .dataframe tbody tr th:only-of-type {\n        vertical-align: middle;\n    }\n\n    .dataframe tbody tr th {\n        vertical-align: top;\n    }\n\n    .dataframe thead th {\n        text-align: right;\n    }\n</style>\n<table border=\"1\" class=\"dataframe\">\n  <thead>\n    <tr style=\"text-align: right;\">\n      <th></th>\n      <th>Status</th>\n      <th>ACTIVITY</th>\n      <th>Involved_ST_Function_Div</th>\n      <th>Involved_Org_line_3</th>\n      <th>Involved_ST</th>\n      <th>SR_Latest_Impact</th>\n      <th>Product</th>\n      <th>Country</th>\n      <th>Owner_Country</th>\n      <th>time_from_first</th>\n      <th>time_from_previous_et</th>\n      <th>time_from_midnight</th>\n      <th>weekday</th>\n      <th># ACTIVITY=In Progress</th>\n      <th># ACTIVITY=Awaiting Assignment</th>\n      <th># ACTIVITY=Resolved</th>\n      <th># ACTIVITY=Assigned</th>\n      <th># ACTIVITY=Closed</th>\n      <th># ACTIVITY=Wait - User</th>\n      <th># ACTIVITY=Wait - Implementation</th>\n      <th># ACTIVITY=Wait</th>\n      <th># ACTIVITY=Wait - Vendor</th>\n      <th># ACTIVITY=In Call</th>\n      <th># ACTIVITY=Wait - Customer</th>\n      <th># ACTIVITY=Unmatched</th>\n      <th># ACTIVITY=Cancelled</th>\n      <th>lead_time</th>\n    </tr>\n  </thead>\n  <tbody>\n    <tr>\n      <th>0</th>\n      <td>Queued</td>\n      <td>Awaiting Assignment</td>\n      <td>A2_1</td>\n      <td>Org line C</td>\n      <td>D5</td>\n      <td>Medium</td>\n      <td>PROD542</td>\n      <td>nl</td>\n      <td>Netherlands</td>\n      <td>18474.0</td>\n      <td>69.0</td>\n      <td>55070.0</td>\n      <td>Friday</td>\n      <td>6.0</td>\n      <td>4.0</td>\n      <td>0.0</td>\n      <td>1.0</td>\n      <td>0.0</td>\n      <td>1.0</td>\n      <td>0.0</td>\n      <td>0.0</td>\n      <td>0.0</td>\n      <td>0.0</td>\n      <td>0.0</td>\n      <td>0.0</td>\n      <td>0.0</td>\n      <td>12615722.62</td>\n    </tr>\n    <tr>\n      <th>1</th>\n      <td>Queued</td>\n      <td>Awaiting Assignment</td>\n      <td>A2_1</td>\n      <td>Org line C</td>\n      <td>D6</td>\n      <td>Medium</td>\n      <td>PROD542</td>\n      <td>nl</td>\n      <td>Netherlands</td>\n      <td>18474.0</td>\n      <td>69.0</td>\n      <td>55070.0</td>\n      <td>Friday</td>\n      <td>6.0</td>\n      <td>4.0</td>\n      <td>0.0</td>\n      <td>1.0</td>\n      <td>0.0</td>\n      <td>1.0</td>\n      <td>0.0</td>\n      <td>0.0</td>\n      <td>0.0</td>\n      <td>0.0</td>\n      <td>0.0</td>\n      <td>0.0</td>\n      <td>0.0</td>\n      <td>19692520.48</td>\n    </tr>\n    <tr>\n      <th>2</th>\n      <td>Queued</td>\n      <td>Awaiting Assignment</td>\n      <td>A2_1</td>\n      <td>Org line C</td>\n      <td>D2</td>\n      <td>Medium</td>\n      <td>PROD542</td>\n      <td>nl</td>\n      <td>Netherlands</td>\n      <td>18474.0</td>\n      <td>69.0</td>\n      <td>55070.0</td>\n      <td>Friday</td>\n      <td>6.0</td>\n      <td>4.0</td>\n      <td>0.0</td>\n      <td>1.0</td>\n      <td>0.0</td>\n      <td>1.0</td>\n      <td>0.0</td>\n      <td>0.0</td>\n      <td>0.0</td>\n      <td>0.0</td>\n      <td>0.0</td>\n      <td>0.0</td>\n      <td>0.0</td>\n      <td>19936662.34</td>\n    </tr>\n  </tbody>\n</table>\n</div>"
     },
     "execution_count": 26,
     "metadata": {},
     "output_type": "execute_result"
    }
   ],
   "source": [
    "case_id, cfe_df = next(generator)\n",
    "\n",
    "print(f\"Original Test Case:\")\n",
    "# === Find test_case with case_id\n",
    "for df_test_trace in test_cases:\n",
    "    if get_case_id(df_test_trace) == case_id:\n",
    "        display(df_test_trace)\n",
    "        df_test_trace.to_csv(\"temp.csv\", index=False)\n",
    "\n",
    "print(f\"Counterfactuals for the last row:\")\n",
    "cfe_df.to_csv(\"cfe_temp.csv\", index=False)\n",
    "cfe_df"
   ],
   "metadata": {
    "collapsed": false,
    "ExecuteTime": {
     "end_time": "2023-06-15T15:09:38.859839586Z",
     "start_time": "2023-06-15T15:09:38.703135802Z"
    }
   }
  },
  {
   "cell_type": "markdown",
   "source": [
    "### From case_id view test trace/ case and the full trace/ case"
   ],
   "metadata": {
    "collapsed": false
   }
  },
  {
   "cell_type": "code",
   "execution_count": 27,
   "outputs": [],
   "source": [
    "# state_obj.run_state[\"cfe_not_found\"][:10]"
   ],
   "metadata": {
    "collapsed": false,
    "ExecuteTime": {
     "end_time": "2023-06-15T15:09:50.631808499Z",
     "start_time": "2023-06-15T15:09:50.594623296Z"
    }
   }
  },
  {
   "cell_type": "code",
   "execution_count": 30,
   "outputs": [
    {
     "data": {
      "text/plain": "      SR_Number  Change_Date+Time    Status             ACTIVITY   \n0   1-529096847        1306425713  Accepted          In Progress  \\\n1   1-529096847        1306425743  Accepted          In Progress   \n2   1-529096847        1306426238    Queued  Awaiting Assignment   \n3   1-529096847        1306752377  Accepted          In Progress   \n4   1-529096847        1306752512    Queued  Awaiting Assignment   \n5   1-529096847        1306752762  Accepted          In Progress   \n6   1-529096847        1306753070  Accepted          Wait - User   \n7   1-529096847        1306843287  Accepted          In Progress   \n8   1-529096847        1306843410    Queued  Awaiting Assignment   \n9   1-529096847        1306914730  Accepted          In Progress   \n10  1-529096847        1306914745  Accepted             Assigned   \n11  1-529096847        1306921011  Accepted          In Progress   \n12  1-529096847        1306921026    Queued  Awaiting Assignment   \n13  1-529096847        1306921088  Accepted          In Progress   \n14  1-529096847        1306921299  Accepted          Wait - User   \n15  1-529096847        1306922975  Accepted          In Progress   \n16  1-529096847        1306923062  Accepted          Wait - User   \n17  1-529096847        1306923069  Accepted          In Progress   \n18  1-529096847        1306923086    Queued  Awaiting Assignment   \n19  1-529096847        1306926458  Accepted          In Progress   \n20  1-529096847        1306926470  Accepted             Assigned   \n21  1-529096847        1310377000  Accepted          In Progress   \n22  1-529096847        1310378330    Queued  Awaiting Assignment   \n23  1-529096847        1310378774  Accepted          In Progress   \n24  1-529096847        1310378778  Accepted             Assigned   \n25  1-529096847        1310379265  Accepted          In Progress   \n26  1-529096847        1310379688  Accepted          Wait - User   \n27  1-529096847        1310637530  Accepted          Wait - User   \n28  1-529096847        1310718125  Accepted          Wait - User   \n29  1-529096847        1310977330  Accepted          Wait - User   \n30  1-529096847        1311597838  Accepted          In Progress   \n31  1-529096847        1311597843  Accepted                 Wait   \n32  1-529096847        1314783580  Accepted          In Progress   \n33  1-529096847        1314783700    Queued  Awaiting Assignment   \n\n   Involved_ST_Function_Div Involved_Org_line_3 Involved_ST SR_Latest_Impact   \n0                      A2_1         Org line A2          D8           Medium  \\\n1                      A2_1         Org line A2          D8           Medium   \n2                   missing        Org line V7n     V37 2nd           Medium   \n3                   missing        Org line V7n     V37 2nd           Medium   \n4                      A2_1         Org line A2          D8           Medium   \n5                      A2_1         Org line A2          D8           Medium   \n6                      A2_1         Org line A2          D8           Medium   \n7                      A2_1         Org line A2          D8           Medium   \n8                   missing        Org line V7n     V37 2nd           Medium   \n9                   missing        Org line V7n     V37 2nd           Medium   \n10                  missing        Org line V7n     V37 2nd           Medium   \n11                  missing        Org line V7n     V37 2nd           Medium   \n12                     A2_1         Org line A2          D8           Medium   \n13                     A2_1         Org line A2          D8           Medium   \n14                     A2_1         Org line A2          D8           Medium   \n15                     A2_1         Org line A2          D8           Medium   \n16                     A2_1         Org line A2          D8           Medium   \n17                     A2_1         Org line A2          D8           Medium   \n18                  missing        Org line V7n     V37 2nd           Medium   \n19                  missing        Org line V7n     V37 2nd           Medium   \n20                  missing        Org line V7n     V37 2nd           Medium   \n21                  missing        Org line V7n     V37 2nd           Medium   \n22                     A2_1         Org line A2          D8           Medium   \n23                     A2_1         Org line A2          D8           Medium   \n24                     A2_1         Org line A2          D8           Medium   \n25                     A2_1         Org line A2          D8           Medium   \n26                     A2_1         Org line A2          D8           Medium   \n27                     A2_1         Org line A2          D8           Medium   \n28                     A2_1         Org line A2          D8           Medium   \n29                     A2_1         Org line A2          D8           Medium   \n30                  missing         Org line V7     V29 2nd           Medium   \n31                  missing         Org line V7     V29 2nd           Medium   \n32                     A2_1         Org line A2          D8           Medium   \n33                  missing        Org line V7n     V37 2nd           Medium   \n\n    Product Country Owner_Country  time_from_first  time_from_previous_et   \n0   PROD542      nl        POLAND              0.0                    0.0  \\\n1   PROD542      nl        POLAND             30.0                   30.0   \n2   PROD542      nl        POLAND            525.0                  495.0   \n3   PROD542      nl   Netherlands         326664.0               326139.0   \n4   PROD542      nl   Netherlands         326799.0                  135.0   \n5   PROD542      nl        POLAND         327049.0                  250.0   \n6   PROD542      nl        POLAND         327357.0                  308.0   \n7   PROD542      nl        POLAND         417574.0                90217.0   \n8   PROD542      nl        POLAND         417697.0                  123.0   \n9   PROD542      nl   Netherlands         489017.0                71320.0   \n10  PROD542      nl   Netherlands         489032.0                   15.0   \n11  PROD542      nl   Netherlands         495298.0                 6266.0   \n12  PROD542      nl   Netherlands         495313.0                   15.0   \n13  PROD542      nl        POLAND         495375.0                   62.0   \n14  PROD542      nl        POLAND         495586.0                  211.0   \n15  PROD542      nl        POLAND         497262.0                 1676.0   \n16  PROD542      nl        POLAND         497349.0                   87.0   \n17  PROD542      nl        POLAND         497356.0                    7.0   \n18  PROD542      nl        POLAND         497373.0                   17.0   \n19  PROD542      nl   Netherlands         500745.0                 3372.0   \n20  PROD542      nl   Netherlands         500757.0                   12.0   \n21  PROD542      nl   Netherlands        3951287.0              3450530.0   \n22  PROD542      nl   Netherlands        3952617.0                 1330.0   \n23  PROD542      nl        POLAND        3953061.0                  444.0   \n24  PROD542      nl        POLAND        3953065.0                    4.0   \n25  PROD542      nl        POLAND        3953552.0                  487.0   \n26  PROD542      nl        POLAND        3953975.0                  423.0   \n27  PROD542      nl             0        4211817.0               257842.0   \n28  PROD542      nl        POLAND        4292412.0                80595.0   \n29  PROD542      nl             0        4551617.0               259205.0   \n30  PROD542      nl       Belgium        5172125.0               620508.0   \n31  PROD542      nl       Belgium        5172130.0                    5.0   \n32  PROD542      nl        POLAND        8357867.0              3185737.0   \n33  PROD542      nl        POLAND        8357987.0                  120.0   \n\n    time_from_midnight    weekday  time_remaining  # ACTIVITY=In Progress   \n0              57713.0   Thursday      30352776.0                       0  \\\n1              57743.0   Thursday      30352746.0                       1   \n2              58238.0   Thursday      30352251.0                       2   \n3              38777.0     Monday      30026112.0                       2   \n4              38912.0     Monday      30025977.0                       3   \n5              39162.0     Monday      30025727.0                       3   \n6              39470.0     Monday      30025419.0                       4   \n7              43287.0    Tuesday      29935202.0                       4   \n8              43410.0    Tuesday      29935079.0                       5   \n9              28330.0  Wednesday      29863759.0                       5   \n10             28345.0  Wednesday      29863744.0                       6   \n11             34611.0  Wednesday      29857478.0                       6   \n12             34626.0  Wednesday      29857463.0                       7   \n13             34688.0  Wednesday      29857401.0                       7   \n14             34899.0  Wednesday      29857190.0                       8   \n15             36575.0  Wednesday      29855514.0                       8   \n16             36662.0  Wednesday      29855427.0                       9   \n17             36669.0  Wednesday      29855420.0                       9   \n18             36686.0  Wednesday      29855403.0                      10   \n19             40058.0  Wednesday      29852031.0                      10   \n20             40070.0  Wednesday      29852019.0                      11   \n21             34600.0     Monday      26401489.0                      11   \n22             35930.0     Monday      26400159.0                      12   \n23             36374.0     Monday      26399715.0                      12   \n24             36378.0     Monday      26399711.0                      13   \n25             36865.0     Monday      26399224.0                      13   \n26             37288.0     Monday      26398801.0                      14   \n27             35930.0   Thursday      26140959.0                      14   \n28             30125.0     Friday      26060364.0                      14   \n29             30130.0     Monday      25801159.0                      14   \n30             45838.0     Monday      25180651.0                      14   \n31             45843.0     Monday      25180646.0                      15   \n32             34780.0  Wednesday      21994909.0                      15   \n33             34900.0  Wednesday      21994789.0                      16   \n\n    # ACTIVITY=Awaiting Assignment  # ACTIVITY=Resolved  # ACTIVITY=Assigned   \n0                                0                    0                    0  \\\n1                                0                    0                    0   \n2                                0                    0                    0   \n3                                1                    0                    0   \n4                                1                    0                    0   \n5                                2                    0                    0   \n6                                2                    0                    0   \n7                                2                    0                    0   \n8                                2                    0                    0   \n9                                3                    0                    0   \n10                               3                    0                    0   \n11                               3                    0                    1   \n12                               3                    0                    1   \n13                               4                    0                    1   \n14                               4                    0                    1   \n15                               4                    0                    1   \n16                               4                    0                    1   \n17                               4                    0                    1   \n18                               4                    0                    1   \n19                               5                    0                    1   \n20                               5                    0                    1   \n21                               5                    0                    2   \n22                               5                    0                    2   \n23                               6                    0                    2   \n24                               6                    0                    2   \n25                               6                    0                    3   \n26                               6                    0                    3   \n27                               6                    0                    3   \n28                               6                    0                    3   \n29                               6                    0                    3   \n30                               6                    0                    3   \n31                               6                    0                    3   \n32                               6                    0                    3   \n33                               6                    0                    3   \n\n    # ACTIVITY=Closed  # ACTIVITY=Wait - User   \n0                   0                       0  \\\n1                   0                       0   \n2                   0                       0   \n3                   0                       0   \n4                   0                       0   \n5                   0                       0   \n6                   0                       0   \n7                   0                       1   \n8                   0                       1   \n9                   0                       1   \n10                  0                       1   \n11                  0                       1   \n12                  0                       1   \n13                  0                       1   \n14                  0                       1   \n15                  0                       2   \n16                  0                       2   \n17                  0                       3   \n18                  0                       3   \n19                  0                       3   \n20                  0                       3   \n21                  0                       3   \n22                  0                       3   \n23                  0                       3   \n24                  0                       3   \n25                  0                       3   \n26                  0                       3   \n27                  0                       4   \n28                  0                       5   \n29                  0                       6   \n30                  0                       7   \n31                  0                       7   \n32                  0                       7   \n33                  0                       7   \n\n    # ACTIVITY=Wait - Implementation  # ACTIVITY=Wait   \n0                                  0                0  \\\n1                                  0                0   \n2                                  0                0   \n3                                  0                0   \n4                                  0                0   \n5                                  0                0   \n6                                  0                0   \n7                                  0                0   \n8                                  0                0   \n9                                  0                0   \n10                                 0                0   \n11                                 0                0   \n12                                 0                0   \n13                                 0                0   \n14                                 0                0   \n15                                 0                0   \n16                                 0                0   \n17                                 0                0   \n18                                 0                0   \n19                                 0                0   \n20                                 0                0   \n21                                 0                0   \n22                                 0                0   \n23                                 0                0   \n24                                 0                0   \n25                                 0                0   \n26                                 0                0   \n27                                 0                0   \n28                                 0                0   \n29                                 0                0   \n30                                 0                0   \n31                                 0                0   \n32                                 0                1   \n33                                 0                1   \n\n    # ACTIVITY=Wait - Vendor  # ACTIVITY=In Call  # ACTIVITY=Wait - Customer   \n0                          0                   0                           0  \\\n1                          0                   0                           0   \n2                          0                   0                           0   \n3                          0                   0                           0   \n4                          0                   0                           0   \n5                          0                   0                           0   \n6                          0                   0                           0   \n7                          0                   0                           0   \n8                          0                   0                           0   \n9                          0                   0                           0   \n10                         0                   0                           0   \n11                         0                   0                           0   \n12                         0                   0                           0   \n13                         0                   0                           0   \n14                         0                   0                           0   \n15                         0                   0                           0   \n16                         0                   0                           0   \n17                         0                   0                           0   \n18                         0                   0                           0   \n19                         0                   0                           0   \n20                         0                   0                           0   \n21                         0                   0                           0   \n22                         0                   0                           0   \n23                         0                   0                           0   \n24                         0                   0                           0   \n25                         0                   0                           0   \n26                         0                   0                           0   \n27                         0                   0                           0   \n28                         0                   0                           0   \n29                         0                   0                           0   \n30                         0                   0                           0   \n31                         0                   0                           0   \n32                         0                   0                           0   \n33                         0                   0                           0   \n\n    # ACTIVITY=Unmatched  # ACTIVITY=Cancelled   lead_time  \n0                      0                     0  30352776.0  \n1                      0                     0  30352776.0  \n2                      0                     0  30352776.0  \n3                      0                     0  30352776.0  \n4                      0                     0  30352776.0  \n5                      0                     0  30352776.0  \n6                      0                     0  30352776.0  \n7                      0                     0  30352776.0  \n8                      0                     0  30352776.0  \n9                      0                     0  30352776.0  \n10                     0                     0  30352776.0  \n11                     0                     0  30352776.0  \n12                     0                     0  30352776.0  \n13                     0                     0  30352776.0  \n14                     0                     0  30352776.0  \n15                     0                     0  30352776.0  \n16                     0                     0  30352776.0  \n17                     0                     0  30352776.0  \n18                     0                     0  30352776.0  \n19                     0                     0  30352776.0  \n20                     0                     0  30352776.0  \n21                     0                     0  30352776.0  \n22                     0                     0  30352776.0  \n23                     0                     0  30352776.0  \n24                     0                     0  30352776.0  \n25                     0                     0  30352776.0  \n26                     0                     0  30352776.0  \n27                     0                     0  30352776.0  \n28                     0                     0  30352776.0  \n29                     0                     0  30352776.0  \n30                     0                     0  30352776.0  \n31                     0                     0  30352776.0  \n32                     0                     0  30352776.0  \n33                     0                     0  30352776.0  ",
      "text/html": "<div>\n<style scoped>\n    .dataframe tbody tr th:only-of-type {\n        vertical-align: middle;\n    }\n\n    .dataframe tbody tr th {\n        vertical-align: top;\n    }\n\n    .dataframe thead th {\n        text-align: right;\n    }\n</style>\n<table border=\"1\" class=\"dataframe\">\n  <thead>\n    <tr style=\"text-align: right;\">\n      <th></th>\n      <th>SR_Number</th>\n      <th>Change_Date+Time</th>\n      <th>Status</th>\n      <th>ACTIVITY</th>\n      <th>Involved_ST_Function_Div</th>\n      <th>Involved_Org_line_3</th>\n      <th>Involved_ST</th>\n      <th>SR_Latest_Impact</th>\n      <th>Product</th>\n      <th>Country</th>\n      <th>Owner_Country</th>\n      <th>time_from_first</th>\n      <th>time_from_previous_et</th>\n      <th>time_from_midnight</th>\n      <th>weekday</th>\n      <th>time_remaining</th>\n      <th># ACTIVITY=In Progress</th>\n      <th># ACTIVITY=Awaiting Assignment</th>\n      <th># ACTIVITY=Resolved</th>\n      <th># ACTIVITY=Assigned</th>\n      <th># ACTIVITY=Closed</th>\n      <th># ACTIVITY=Wait - User</th>\n      <th># ACTIVITY=Wait - Implementation</th>\n      <th># ACTIVITY=Wait</th>\n      <th># ACTIVITY=Wait - Vendor</th>\n      <th># ACTIVITY=In Call</th>\n      <th># ACTIVITY=Wait - Customer</th>\n      <th># ACTIVITY=Unmatched</th>\n      <th># ACTIVITY=Cancelled</th>\n      <th>lead_time</th>\n    </tr>\n  </thead>\n  <tbody>\n    <tr>\n      <th>0</th>\n      <td>1-529096847</td>\n      <td>1306425713</td>\n      <td>Accepted</td>\n      <td>In Progress</td>\n      <td>A2_1</td>\n      <td>Org line A2</td>\n      <td>D8</td>\n      <td>Medium</td>\n      <td>PROD542</td>\n      <td>nl</td>\n      <td>POLAND</td>\n      <td>0.0</td>\n      <td>0.0</td>\n      <td>57713.0</td>\n      <td>Thursday</td>\n      <td>30352776.0</td>\n      <td>0</td>\n      <td>0</td>\n      <td>0</td>\n      <td>0</td>\n      <td>0</td>\n      <td>0</td>\n      <td>0</td>\n      <td>0</td>\n      <td>0</td>\n      <td>0</td>\n      <td>0</td>\n      <td>0</td>\n      <td>0</td>\n      <td>30352776.0</td>\n    </tr>\n    <tr>\n      <th>1</th>\n      <td>1-529096847</td>\n      <td>1306425743</td>\n      <td>Accepted</td>\n      <td>In Progress</td>\n      <td>A2_1</td>\n      <td>Org line A2</td>\n      <td>D8</td>\n      <td>Medium</td>\n      <td>PROD542</td>\n      <td>nl</td>\n      <td>POLAND</td>\n      <td>30.0</td>\n      <td>30.0</td>\n      <td>57743.0</td>\n      <td>Thursday</td>\n      <td>30352746.0</td>\n      <td>1</td>\n      <td>0</td>\n      <td>0</td>\n      <td>0</td>\n      <td>0</td>\n      <td>0</td>\n      <td>0</td>\n      <td>0</td>\n      <td>0</td>\n      <td>0</td>\n      <td>0</td>\n      <td>0</td>\n      <td>0</td>\n      <td>30352776.0</td>\n    </tr>\n    <tr>\n      <th>2</th>\n      <td>1-529096847</td>\n      <td>1306426238</td>\n      <td>Queued</td>\n      <td>Awaiting Assignment</td>\n      <td>missing</td>\n      <td>Org line V7n</td>\n      <td>V37 2nd</td>\n      <td>Medium</td>\n      <td>PROD542</td>\n      <td>nl</td>\n      <td>POLAND</td>\n      <td>525.0</td>\n      <td>495.0</td>\n      <td>58238.0</td>\n      <td>Thursday</td>\n      <td>30352251.0</td>\n      <td>2</td>\n      <td>0</td>\n      <td>0</td>\n      <td>0</td>\n      <td>0</td>\n      <td>0</td>\n      <td>0</td>\n      <td>0</td>\n      <td>0</td>\n      <td>0</td>\n      <td>0</td>\n      <td>0</td>\n      <td>0</td>\n      <td>30352776.0</td>\n    </tr>\n    <tr>\n      <th>3</th>\n      <td>1-529096847</td>\n      <td>1306752377</td>\n      <td>Accepted</td>\n      <td>In Progress</td>\n      <td>missing</td>\n      <td>Org line V7n</td>\n      <td>V37 2nd</td>\n      <td>Medium</td>\n      <td>PROD542</td>\n      <td>nl</td>\n      <td>Netherlands</td>\n      <td>326664.0</td>\n      <td>326139.0</td>\n      <td>38777.0</td>\n      <td>Monday</td>\n      <td>30026112.0</td>\n      <td>2</td>\n      <td>1</td>\n      <td>0</td>\n      <td>0</td>\n      <td>0</td>\n      <td>0</td>\n      <td>0</td>\n      <td>0</td>\n      <td>0</td>\n      <td>0</td>\n      <td>0</td>\n      <td>0</td>\n      <td>0</td>\n      <td>30352776.0</td>\n    </tr>\n    <tr>\n      <th>4</th>\n      <td>1-529096847</td>\n      <td>1306752512</td>\n      <td>Queued</td>\n      <td>Awaiting Assignment</td>\n      <td>A2_1</td>\n      <td>Org line A2</td>\n      <td>D8</td>\n      <td>Medium</td>\n      <td>PROD542</td>\n      <td>nl</td>\n      <td>Netherlands</td>\n      <td>326799.0</td>\n      <td>135.0</td>\n      <td>38912.0</td>\n      <td>Monday</td>\n      <td>30025977.0</td>\n      <td>3</td>\n      <td>1</td>\n      <td>0</td>\n      <td>0</td>\n      <td>0</td>\n      <td>0</td>\n      <td>0</td>\n      <td>0</td>\n      <td>0</td>\n      <td>0</td>\n      <td>0</td>\n      <td>0</td>\n      <td>0</td>\n      <td>30352776.0</td>\n    </tr>\n    <tr>\n      <th>5</th>\n      <td>1-529096847</td>\n      <td>1306752762</td>\n      <td>Accepted</td>\n      <td>In Progress</td>\n      <td>A2_1</td>\n      <td>Org line A2</td>\n      <td>D8</td>\n      <td>Medium</td>\n      <td>PROD542</td>\n      <td>nl</td>\n      <td>POLAND</td>\n      <td>327049.0</td>\n      <td>250.0</td>\n      <td>39162.0</td>\n      <td>Monday</td>\n      <td>30025727.0</td>\n      <td>3</td>\n      <td>2</td>\n      <td>0</td>\n      <td>0</td>\n      <td>0</td>\n      <td>0</td>\n      <td>0</td>\n      <td>0</td>\n      <td>0</td>\n      <td>0</td>\n      <td>0</td>\n      <td>0</td>\n      <td>0</td>\n      <td>30352776.0</td>\n    </tr>\n    <tr>\n      <th>6</th>\n      <td>1-529096847</td>\n      <td>1306753070</td>\n      <td>Accepted</td>\n      <td>Wait - User</td>\n      <td>A2_1</td>\n      <td>Org line A2</td>\n      <td>D8</td>\n      <td>Medium</td>\n      <td>PROD542</td>\n      <td>nl</td>\n      <td>POLAND</td>\n      <td>327357.0</td>\n      <td>308.0</td>\n      <td>39470.0</td>\n      <td>Monday</td>\n      <td>30025419.0</td>\n      <td>4</td>\n      <td>2</td>\n      <td>0</td>\n      <td>0</td>\n      <td>0</td>\n      <td>0</td>\n      <td>0</td>\n      <td>0</td>\n      <td>0</td>\n      <td>0</td>\n      <td>0</td>\n      <td>0</td>\n      <td>0</td>\n      <td>30352776.0</td>\n    </tr>\n    <tr>\n      <th>7</th>\n      <td>1-529096847</td>\n      <td>1306843287</td>\n      <td>Accepted</td>\n      <td>In Progress</td>\n      <td>A2_1</td>\n      <td>Org line A2</td>\n      <td>D8</td>\n      <td>Medium</td>\n      <td>PROD542</td>\n      <td>nl</td>\n      <td>POLAND</td>\n      <td>417574.0</td>\n      <td>90217.0</td>\n      <td>43287.0</td>\n      <td>Tuesday</td>\n      <td>29935202.0</td>\n      <td>4</td>\n      <td>2</td>\n      <td>0</td>\n      <td>0</td>\n      <td>0</td>\n      <td>1</td>\n      <td>0</td>\n      <td>0</td>\n      <td>0</td>\n      <td>0</td>\n      <td>0</td>\n      <td>0</td>\n      <td>0</td>\n      <td>30352776.0</td>\n    </tr>\n    <tr>\n      <th>8</th>\n      <td>1-529096847</td>\n      <td>1306843410</td>\n      <td>Queued</td>\n      <td>Awaiting Assignment</td>\n      <td>missing</td>\n      <td>Org line V7n</td>\n      <td>V37 2nd</td>\n      <td>Medium</td>\n      <td>PROD542</td>\n      <td>nl</td>\n      <td>POLAND</td>\n      <td>417697.0</td>\n      <td>123.0</td>\n      <td>43410.0</td>\n      <td>Tuesday</td>\n      <td>29935079.0</td>\n      <td>5</td>\n      <td>2</td>\n      <td>0</td>\n      <td>0</td>\n      <td>0</td>\n      <td>1</td>\n      <td>0</td>\n      <td>0</td>\n      <td>0</td>\n      <td>0</td>\n      <td>0</td>\n      <td>0</td>\n      <td>0</td>\n      <td>30352776.0</td>\n    </tr>\n    <tr>\n      <th>9</th>\n      <td>1-529096847</td>\n      <td>1306914730</td>\n      <td>Accepted</td>\n      <td>In Progress</td>\n      <td>missing</td>\n      <td>Org line V7n</td>\n      <td>V37 2nd</td>\n      <td>Medium</td>\n      <td>PROD542</td>\n      <td>nl</td>\n      <td>Netherlands</td>\n      <td>489017.0</td>\n      <td>71320.0</td>\n      <td>28330.0</td>\n      <td>Wednesday</td>\n      <td>29863759.0</td>\n      <td>5</td>\n      <td>3</td>\n      <td>0</td>\n      <td>0</td>\n      <td>0</td>\n      <td>1</td>\n      <td>0</td>\n      <td>0</td>\n      <td>0</td>\n      <td>0</td>\n      <td>0</td>\n      <td>0</td>\n      <td>0</td>\n      <td>30352776.0</td>\n    </tr>\n    <tr>\n      <th>10</th>\n      <td>1-529096847</td>\n      <td>1306914745</td>\n      <td>Accepted</td>\n      <td>Assigned</td>\n      <td>missing</td>\n      <td>Org line V7n</td>\n      <td>V37 2nd</td>\n      <td>Medium</td>\n      <td>PROD542</td>\n      <td>nl</td>\n      <td>Netherlands</td>\n      <td>489032.0</td>\n      <td>15.0</td>\n      <td>28345.0</td>\n      <td>Wednesday</td>\n      <td>29863744.0</td>\n      <td>6</td>\n      <td>3</td>\n      <td>0</td>\n      <td>0</td>\n      <td>0</td>\n      <td>1</td>\n      <td>0</td>\n      <td>0</td>\n      <td>0</td>\n      <td>0</td>\n      <td>0</td>\n      <td>0</td>\n      <td>0</td>\n      <td>30352776.0</td>\n    </tr>\n    <tr>\n      <th>11</th>\n      <td>1-529096847</td>\n      <td>1306921011</td>\n      <td>Accepted</td>\n      <td>In Progress</td>\n      <td>missing</td>\n      <td>Org line V7n</td>\n      <td>V37 2nd</td>\n      <td>Medium</td>\n      <td>PROD542</td>\n      <td>nl</td>\n      <td>Netherlands</td>\n      <td>495298.0</td>\n      <td>6266.0</td>\n      <td>34611.0</td>\n      <td>Wednesday</td>\n      <td>29857478.0</td>\n      <td>6</td>\n      <td>3</td>\n      <td>0</td>\n      <td>1</td>\n      <td>0</td>\n      <td>1</td>\n      <td>0</td>\n      <td>0</td>\n      <td>0</td>\n      <td>0</td>\n      <td>0</td>\n      <td>0</td>\n      <td>0</td>\n      <td>30352776.0</td>\n    </tr>\n    <tr>\n      <th>12</th>\n      <td>1-529096847</td>\n      <td>1306921026</td>\n      <td>Queued</td>\n      <td>Awaiting Assignment</td>\n      <td>A2_1</td>\n      <td>Org line A2</td>\n      <td>D8</td>\n      <td>Medium</td>\n      <td>PROD542</td>\n      <td>nl</td>\n      <td>Netherlands</td>\n      <td>495313.0</td>\n      <td>15.0</td>\n      <td>34626.0</td>\n      <td>Wednesday</td>\n      <td>29857463.0</td>\n      <td>7</td>\n      <td>3</td>\n      <td>0</td>\n      <td>1</td>\n      <td>0</td>\n      <td>1</td>\n      <td>0</td>\n      <td>0</td>\n      <td>0</td>\n      <td>0</td>\n      <td>0</td>\n      <td>0</td>\n      <td>0</td>\n      <td>30352776.0</td>\n    </tr>\n    <tr>\n      <th>13</th>\n      <td>1-529096847</td>\n      <td>1306921088</td>\n      <td>Accepted</td>\n      <td>In Progress</td>\n      <td>A2_1</td>\n      <td>Org line A2</td>\n      <td>D8</td>\n      <td>Medium</td>\n      <td>PROD542</td>\n      <td>nl</td>\n      <td>POLAND</td>\n      <td>495375.0</td>\n      <td>62.0</td>\n      <td>34688.0</td>\n      <td>Wednesday</td>\n      <td>29857401.0</td>\n      <td>7</td>\n      <td>4</td>\n      <td>0</td>\n      <td>1</td>\n      <td>0</td>\n      <td>1</td>\n      <td>0</td>\n      <td>0</td>\n      <td>0</td>\n      <td>0</td>\n      <td>0</td>\n      <td>0</td>\n      <td>0</td>\n      <td>30352776.0</td>\n    </tr>\n    <tr>\n      <th>14</th>\n      <td>1-529096847</td>\n      <td>1306921299</td>\n      <td>Accepted</td>\n      <td>Wait - User</td>\n      <td>A2_1</td>\n      <td>Org line A2</td>\n      <td>D8</td>\n      <td>Medium</td>\n      <td>PROD542</td>\n      <td>nl</td>\n      <td>POLAND</td>\n      <td>495586.0</td>\n      <td>211.0</td>\n      <td>34899.0</td>\n      <td>Wednesday</td>\n      <td>29857190.0</td>\n      <td>8</td>\n      <td>4</td>\n      <td>0</td>\n      <td>1</td>\n      <td>0</td>\n      <td>1</td>\n      <td>0</td>\n      <td>0</td>\n      <td>0</td>\n      <td>0</td>\n      <td>0</td>\n      <td>0</td>\n      <td>0</td>\n      <td>30352776.0</td>\n    </tr>\n    <tr>\n      <th>15</th>\n      <td>1-529096847</td>\n      <td>1306922975</td>\n      <td>Accepted</td>\n      <td>In Progress</td>\n      <td>A2_1</td>\n      <td>Org line A2</td>\n      <td>D8</td>\n      <td>Medium</td>\n      <td>PROD542</td>\n      <td>nl</td>\n      <td>POLAND</td>\n      <td>497262.0</td>\n      <td>1676.0</td>\n      <td>36575.0</td>\n      <td>Wednesday</td>\n      <td>29855514.0</td>\n      <td>8</td>\n      <td>4</td>\n      <td>0</td>\n      <td>1</td>\n      <td>0</td>\n      <td>2</td>\n      <td>0</td>\n      <td>0</td>\n      <td>0</td>\n      <td>0</td>\n      <td>0</td>\n      <td>0</td>\n      <td>0</td>\n      <td>30352776.0</td>\n    </tr>\n    <tr>\n      <th>16</th>\n      <td>1-529096847</td>\n      <td>1306923062</td>\n      <td>Accepted</td>\n      <td>Wait - User</td>\n      <td>A2_1</td>\n      <td>Org line A2</td>\n      <td>D8</td>\n      <td>Medium</td>\n      <td>PROD542</td>\n      <td>nl</td>\n      <td>POLAND</td>\n      <td>497349.0</td>\n      <td>87.0</td>\n      <td>36662.0</td>\n      <td>Wednesday</td>\n      <td>29855427.0</td>\n      <td>9</td>\n      <td>4</td>\n      <td>0</td>\n      <td>1</td>\n      <td>0</td>\n      <td>2</td>\n      <td>0</td>\n      <td>0</td>\n      <td>0</td>\n      <td>0</td>\n      <td>0</td>\n      <td>0</td>\n      <td>0</td>\n      <td>30352776.0</td>\n    </tr>\n    <tr>\n      <th>17</th>\n      <td>1-529096847</td>\n      <td>1306923069</td>\n      <td>Accepted</td>\n      <td>In Progress</td>\n      <td>A2_1</td>\n      <td>Org line A2</td>\n      <td>D8</td>\n      <td>Medium</td>\n      <td>PROD542</td>\n      <td>nl</td>\n      <td>POLAND</td>\n      <td>497356.0</td>\n      <td>7.0</td>\n      <td>36669.0</td>\n      <td>Wednesday</td>\n      <td>29855420.0</td>\n      <td>9</td>\n      <td>4</td>\n      <td>0</td>\n      <td>1</td>\n      <td>0</td>\n      <td>3</td>\n      <td>0</td>\n      <td>0</td>\n      <td>0</td>\n      <td>0</td>\n      <td>0</td>\n      <td>0</td>\n      <td>0</td>\n      <td>30352776.0</td>\n    </tr>\n    <tr>\n      <th>18</th>\n      <td>1-529096847</td>\n      <td>1306923086</td>\n      <td>Queued</td>\n      <td>Awaiting Assignment</td>\n      <td>missing</td>\n      <td>Org line V7n</td>\n      <td>V37 2nd</td>\n      <td>Medium</td>\n      <td>PROD542</td>\n      <td>nl</td>\n      <td>POLAND</td>\n      <td>497373.0</td>\n      <td>17.0</td>\n      <td>36686.0</td>\n      <td>Wednesday</td>\n      <td>29855403.0</td>\n      <td>10</td>\n      <td>4</td>\n      <td>0</td>\n      <td>1</td>\n      <td>0</td>\n      <td>3</td>\n      <td>0</td>\n      <td>0</td>\n      <td>0</td>\n      <td>0</td>\n      <td>0</td>\n      <td>0</td>\n      <td>0</td>\n      <td>30352776.0</td>\n    </tr>\n    <tr>\n      <th>19</th>\n      <td>1-529096847</td>\n      <td>1306926458</td>\n      <td>Accepted</td>\n      <td>In Progress</td>\n      <td>missing</td>\n      <td>Org line V7n</td>\n      <td>V37 2nd</td>\n      <td>Medium</td>\n      <td>PROD542</td>\n      <td>nl</td>\n      <td>Netherlands</td>\n      <td>500745.0</td>\n      <td>3372.0</td>\n      <td>40058.0</td>\n      <td>Wednesday</td>\n      <td>29852031.0</td>\n      <td>10</td>\n      <td>5</td>\n      <td>0</td>\n      <td>1</td>\n      <td>0</td>\n      <td>3</td>\n      <td>0</td>\n      <td>0</td>\n      <td>0</td>\n      <td>0</td>\n      <td>0</td>\n      <td>0</td>\n      <td>0</td>\n      <td>30352776.0</td>\n    </tr>\n    <tr>\n      <th>20</th>\n      <td>1-529096847</td>\n      <td>1306926470</td>\n      <td>Accepted</td>\n      <td>Assigned</td>\n      <td>missing</td>\n      <td>Org line V7n</td>\n      <td>V37 2nd</td>\n      <td>Medium</td>\n      <td>PROD542</td>\n      <td>nl</td>\n      <td>Netherlands</td>\n      <td>500757.0</td>\n      <td>12.0</td>\n      <td>40070.0</td>\n      <td>Wednesday</td>\n      <td>29852019.0</td>\n      <td>11</td>\n      <td>5</td>\n      <td>0</td>\n      <td>1</td>\n      <td>0</td>\n      <td>3</td>\n      <td>0</td>\n      <td>0</td>\n      <td>0</td>\n      <td>0</td>\n      <td>0</td>\n      <td>0</td>\n      <td>0</td>\n      <td>30352776.0</td>\n    </tr>\n    <tr>\n      <th>21</th>\n      <td>1-529096847</td>\n      <td>1310377000</td>\n      <td>Accepted</td>\n      <td>In Progress</td>\n      <td>missing</td>\n      <td>Org line V7n</td>\n      <td>V37 2nd</td>\n      <td>Medium</td>\n      <td>PROD542</td>\n      <td>nl</td>\n      <td>Netherlands</td>\n      <td>3951287.0</td>\n      <td>3450530.0</td>\n      <td>34600.0</td>\n      <td>Monday</td>\n      <td>26401489.0</td>\n      <td>11</td>\n      <td>5</td>\n      <td>0</td>\n      <td>2</td>\n      <td>0</td>\n      <td>3</td>\n      <td>0</td>\n      <td>0</td>\n      <td>0</td>\n      <td>0</td>\n      <td>0</td>\n      <td>0</td>\n      <td>0</td>\n      <td>30352776.0</td>\n    </tr>\n    <tr>\n      <th>22</th>\n      <td>1-529096847</td>\n      <td>1310378330</td>\n      <td>Queued</td>\n      <td>Awaiting Assignment</td>\n      <td>A2_1</td>\n      <td>Org line A2</td>\n      <td>D8</td>\n      <td>Medium</td>\n      <td>PROD542</td>\n      <td>nl</td>\n      <td>Netherlands</td>\n      <td>3952617.0</td>\n      <td>1330.0</td>\n      <td>35930.0</td>\n      <td>Monday</td>\n      <td>26400159.0</td>\n      <td>12</td>\n      <td>5</td>\n      <td>0</td>\n      <td>2</td>\n      <td>0</td>\n      <td>3</td>\n      <td>0</td>\n      <td>0</td>\n      <td>0</td>\n      <td>0</td>\n      <td>0</td>\n      <td>0</td>\n      <td>0</td>\n      <td>30352776.0</td>\n    </tr>\n    <tr>\n      <th>23</th>\n      <td>1-529096847</td>\n      <td>1310378774</td>\n      <td>Accepted</td>\n      <td>In Progress</td>\n      <td>A2_1</td>\n      <td>Org line A2</td>\n      <td>D8</td>\n      <td>Medium</td>\n      <td>PROD542</td>\n      <td>nl</td>\n      <td>POLAND</td>\n      <td>3953061.0</td>\n      <td>444.0</td>\n      <td>36374.0</td>\n      <td>Monday</td>\n      <td>26399715.0</td>\n      <td>12</td>\n      <td>6</td>\n      <td>0</td>\n      <td>2</td>\n      <td>0</td>\n      <td>3</td>\n      <td>0</td>\n      <td>0</td>\n      <td>0</td>\n      <td>0</td>\n      <td>0</td>\n      <td>0</td>\n      <td>0</td>\n      <td>30352776.0</td>\n    </tr>\n    <tr>\n      <th>24</th>\n      <td>1-529096847</td>\n      <td>1310378778</td>\n      <td>Accepted</td>\n      <td>Assigned</td>\n      <td>A2_1</td>\n      <td>Org line A2</td>\n      <td>D8</td>\n      <td>Medium</td>\n      <td>PROD542</td>\n      <td>nl</td>\n      <td>POLAND</td>\n      <td>3953065.0</td>\n      <td>4.0</td>\n      <td>36378.0</td>\n      <td>Monday</td>\n      <td>26399711.0</td>\n      <td>13</td>\n      <td>6</td>\n      <td>0</td>\n      <td>2</td>\n      <td>0</td>\n      <td>3</td>\n      <td>0</td>\n      <td>0</td>\n      <td>0</td>\n      <td>0</td>\n      <td>0</td>\n      <td>0</td>\n      <td>0</td>\n      <td>30352776.0</td>\n    </tr>\n    <tr>\n      <th>25</th>\n      <td>1-529096847</td>\n      <td>1310379265</td>\n      <td>Accepted</td>\n      <td>In Progress</td>\n      <td>A2_1</td>\n      <td>Org line A2</td>\n      <td>D8</td>\n      <td>Medium</td>\n      <td>PROD542</td>\n      <td>nl</td>\n      <td>POLAND</td>\n      <td>3953552.0</td>\n      <td>487.0</td>\n      <td>36865.0</td>\n      <td>Monday</td>\n      <td>26399224.0</td>\n      <td>13</td>\n      <td>6</td>\n      <td>0</td>\n      <td>3</td>\n      <td>0</td>\n      <td>3</td>\n      <td>0</td>\n      <td>0</td>\n      <td>0</td>\n      <td>0</td>\n      <td>0</td>\n      <td>0</td>\n      <td>0</td>\n      <td>30352776.0</td>\n    </tr>\n    <tr>\n      <th>26</th>\n      <td>1-529096847</td>\n      <td>1310379688</td>\n      <td>Accepted</td>\n      <td>Wait - User</td>\n      <td>A2_1</td>\n      <td>Org line A2</td>\n      <td>D8</td>\n      <td>Medium</td>\n      <td>PROD542</td>\n      <td>nl</td>\n      <td>POLAND</td>\n      <td>3953975.0</td>\n      <td>423.0</td>\n      <td>37288.0</td>\n      <td>Monday</td>\n      <td>26398801.0</td>\n      <td>14</td>\n      <td>6</td>\n      <td>0</td>\n      <td>3</td>\n      <td>0</td>\n      <td>3</td>\n      <td>0</td>\n      <td>0</td>\n      <td>0</td>\n      <td>0</td>\n      <td>0</td>\n      <td>0</td>\n      <td>0</td>\n      <td>30352776.0</td>\n    </tr>\n    <tr>\n      <th>27</th>\n      <td>1-529096847</td>\n      <td>1310637530</td>\n      <td>Accepted</td>\n      <td>Wait - User</td>\n      <td>A2_1</td>\n      <td>Org line A2</td>\n      <td>D8</td>\n      <td>Medium</td>\n      <td>PROD542</td>\n      <td>nl</td>\n      <td>0</td>\n      <td>4211817.0</td>\n      <td>257842.0</td>\n      <td>35930.0</td>\n      <td>Thursday</td>\n      <td>26140959.0</td>\n      <td>14</td>\n      <td>6</td>\n      <td>0</td>\n      <td>3</td>\n      <td>0</td>\n      <td>4</td>\n      <td>0</td>\n      <td>0</td>\n      <td>0</td>\n      <td>0</td>\n      <td>0</td>\n      <td>0</td>\n      <td>0</td>\n      <td>30352776.0</td>\n    </tr>\n    <tr>\n      <th>28</th>\n      <td>1-529096847</td>\n      <td>1310718125</td>\n      <td>Accepted</td>\n      <td>Wait - User</td>\n      <td>A2_1</td>\n      <td>Org line A2</td>\n      <td>D8</td>\n      <td>Medium</td>\n      <td>PROD542</td>\n      <td>nl</td>\n      <td>POLAND</td>\n      <td>4292412.0</td>\n      <td>80595.0</td>\n      <td>30125.0</td>\n      <td>Friday</td>\n      <td>26060364.0</td>\n      <td>14</td>\n      <td>6</td>\n      <td>0</td>\n      <td>3</td>\n      <td>0</td>\n      <td>5</td>\n      <td>0</td>\n      <td>0</td>\n      <td>0</td>\n      <td>0</td>\n      <td>0</td>\n      <td>0</td>\n      <td>0</td>\n      <td>30352776.0</td>\n    </tr>\n    <tr>\n      <th>29</th>\n      <td>1-529096847</td>\n      <td>1310977330</td>\n      <td>Accepted</td>\n      <td>Wait - User</td>\n      <td>A2_1</td>\n      <td>Org line A2</td>\n      <td>D8</td>\n      <td>Medium</td>\n      <td>PROD542</td>\n      <td>nl</td>\n      <td>0</td>\n      <td>4551617.0</td>\n      <td>259205.0</td>\n      <td>30130.0</td>\n      <td>Monday</td>\n      <td>25801159.0</td>\n      <td>14</td>\n      <td>6</td>\n      <td>0</td>\n      <td>3</td>\n      <td>0</td>\n      <td>6</td>\n      <td>0</td>\n      <td>0</td>\n      <td>0</td>\n      <td>0</td>\n      <td>0</td>\n      <td>0</td>\n      <td>0</td>\n      <td>30352776.0</td>\n    </tr>\n    <tr>\n      <th>30</th>\n      <td>1-529096847</td>\n      <td>1311597838</td>\n      <td>Accepted</td>\n      <td>In Progress</td>\n      <td>missing</td>\n      <td>Org line V7</td>\n      <td>V29 2nd</td>\n      <td>Medium</td>\n      <td>PROD542</td>\n      <td>nl</td>\n      <td>Belgium</td>\n      <td>5172125.0</td>\n      <td>620508.0</td>\n      <td>45838.0</td>\n      <td>Monday</td>\n      <td>25180651.0</td>\n      <td>14</td>\n      <td>6</td>\n      <td>0</td>\n      <td>3</td>\n      <td>0</td>\n      <td>7</td>\n      <td>0</td>\n      <td>0</td>\n      <td>0</td>\n      <td>0</td>\n      <td>0</td>\n      <td>0</td>\n      <td>0</td>\n      <td>30352776.0</td>\n    </tr>\n    <tr>\n      <th>31</th>\n      <td>1-529096847</td>\n      <td>1311597843</td>\n      <td>Accepted</td>\n      <td>Wait</td>\n      <td>missing</td>\n      <td>Org line V7</td>\n      <td>V29 2nd</td>\n      <td>Medium</td>\n      <td>PROD542</td>\n      <td>nl</td>\n      <td>Belgium</td>\n      <td>5172130.0</td>\n      <td>5.0</td>\n      <td>45843.0</td>\n      <td>Monday</td>\n      <td>25180646.0</td>\n      <td>15</td>\n      <td>6</td>\n      <td>0</td>\n      <td>3</td>\n      <td>0</td>\n      <td>7</td>\n      <td>0</td>\n      <td>0</td>\n      <td>0</td>\n      <td>0</td>\n      <td>0</td>\n      <td>0</td>\n      <td>0</td>\n      <td>30352776.0</td>\n    </tr>\n    <tr>\n      <th>32</th>\n      <td>1-529096847</td>\n      <td>1314783580</td>\n      <td>Accepted</td>\n      <td>In Progress</td>\n      <td>A2_1</td>\n      <td>Org line A2</td>\n      <td>D8</td>\n      <td>Medium</td>\n      <td>PROD542</td>\n      <td>nl</td>\n      <td>POLAND</td>\n      <td>8357867.0</td>\n      <td>3185737.0</td>\n      <td>34780.0</td>\n      <td>Wednesday</td>\n      <td>21994909.0</td>\n      <td>15</td>\n      <td>6</td>\n      <td>0</td>\n      <td>3</td>\n      <td>0</td>\n      <td>7</td>\n      <td>0</td>\n      <td>1</td>\n      <td>0</td>\n      <td>0</td>\n      <td>0</td>\n      <td>0</td>\n      <td>0</td>\n      <td>30352776.0</td>\n    </tr>\n    <tr>\n      <th>33</th>\n      <td>1-529096847</td>\n      <td>1314783700</td>\n      <td>Queued</td>\n      <td>Awaiting Assignment</td>\n      <td>missing</td>\n      <td>Org line V7n</td>\n      <td>V37 2nd</td>\n      <td>Medium</td>\n      <td>PROD542</td>\n      <td>nl</td>\n      <td>POLAND</td>\n      <td>8357987.0</td>\n      <td>120.0</td>\n      <td>34900.0</td>\n      <td>Wednesday</td>\n      <td>21994789.0</td>\n      <td>16</td>\n      <td>6</td>\n      <td>0</td>\n      <td>3</td>\n      <td>0</td>\n      <td>7</td>\n      <td>0</td>\n      <td>1</td>\n      <td>0</td>\n      <td>0</td>\n      <td>0</td>\n      <td>0</td>\n      <td>0</td>\n      <td>30352776.0</td>\n    </tr>\n  </tbody>\n</table>\n</div>"
     },
     "metadata": {},
     "output_type": "display_data"
    },
    {
     "data": {
      "text/plain": "      SR_Number  Change_Date+Time     Status             ACTIVITY   \n80  1-529096847        1314783700     Queued  Awaiting Assignment  \\\n81  1-529096847        1314794385   Accepted          In Progress   \n82  1-529096847        1314794402     Queued  Awaiting Assignment   \n83  1-529096847        1314794555   Accepted          In Progress   \n84  1-529096847        1314795087     Queued  Awaiting Assignment   \n85  1-529096847        1314801039   Accepted          In Progress   \n86  1-529096847        1314801052     Queued  Awaiting Assignment   \n87  1-529096847        1314801334   Accepted          In Progress   \n88  1-529096847        1314801516   Accepted          Wait - User   \n89  1-529096847        1314802146   Accepted          In Progress   \n90  1-529096847        1314802241     Queued  Awaiting Assignment   \n91  1-529096847        1314805311   Accepted          In Progress   \n92  1-529096847        1314805439     Queued  Awaiting Assignment   \n93  1-529096847        1314805606   Accepted          In Progress   \n94  1-529096847        1314805756     Queued  Awaiting Assignment   \n95  1-529096847        1316188817   Accepted          In Progress   \n96  1-529096847        1336116261   Accepted          In Progress   \n97  1-529096847        1336116313  Completed             Resolved   \n\n   Involved_ST_Function_Div Involved_Org_line_3 Involved_ST SR_Latest_Impact   \n80                  missing        Org line V7n     V37 2nd           Medium  \\\n81                  missing        Org line V7n     V37 2nd           Medium   \n82                     A2_1         Org line A2          D8           Medium   \n83                     A2_1         Org line A2          D8           Medium   \n84                  missing        Org line V7n     V37 2nd           Medium   \n85                  missing        Org line V7n     V37 2nd           Medium   \n86                     A2_1         Org line A2          D8           Medium   \n87                     A2_1         Org line A2          D8           Medium   \n88                     A2_1         Org line A2          D8           Medium   \n89                     A2_1         Org line A2          D8           Medium   \n90                  missing        Org line V7n     V37 2nd           Medium   \n91                  missing        Org line V7n     V37 2nd           Medium   \n92                     A2_1         Org line A2          D8           Medium   \n93                     A2_1         Org line A2          D8           Medium   \n94                  missing        Org line V7n     V32 2nd           Medium   \n95                  missing        Org line V7n     V32 2nd           Medium   \n96                  missing        Org line V7n     V37 2nd           Medium   \n97                  missing        Org line V7n     V37 2nd           Medium   \n\n    Product Country Owner_Country  time_from_first  time_from_previous_et   \n80  PROD542      nl        POLAND        8357987.0                  120.0  \\\n81  PROD542      nl   Netherlands        8368672.0                10685.0   \n82  PROD542      nl   Netherlands        8368689.0                   17.0   \n83  PROD542      nl        POLAND        8368842.0                  153.0   \n84  PROD542      nl        POLAND        8369374.0                  532.0   \n85  PROD542      nl   Netherlands        8375326.0                 5952.0   \n86  PROD542      nl   Netherlands        8375339.0                   13.0   \n87  PROD542      nl        POLAND        8375621.0                  282.0   \n88  PROD542      nl        POLAND        8375803.0                  182.0   \n89  PROD542      nl        POLAND        8376433.0                  630.0   \n90  PROD542      nl        POLAND        8376528.0                   95.0   \n91  PROD542      nl   Netherlands        8379598.0                 3070.0   \n92  PROD542      nl   Netherlands        8379726.0                  128.0   \n93  PROD542      nl        POLAND        8379893.0                  167.0   \n94  PROD542      nl        POLAND        8380043.0                  150.0   \n95  PROD542      nl   Netherlands        9763104.0              1383061.0   \n96  PROD542      nl   Netherlands       29690548.0             19927444.0   \n97  PROD542      nl   Netherlands       29690600.0                   52.0   \n\n    time_from_midnight    weekday  time_remaining  # ACTIVITY=In Progress   \n80             34900.0  Wednesday      21994789.0                      16  \\\n81             45585.0  Wednesday      21984104.0                      16   \n82             45602.0  Wednesday      21984087.0                      17   \n83             45755.0  Wednesday      21983934.0                      17   \n84             46287.0  Wednesday      21983402.0                      18   \n85             52239.0  Wednesday      21977450.0                      18   \n86             52252.0  Wednesday      21977437.0                      19   \n87             52534.0  Wednesday      21977155.0                      19   \n88             52716.0  Wednesday      21976973.0                      20   \n89             53346.0  Wednesday      21976343.0                      20   \n90             53441.0  Wednesday      21976248.0                      21   \n91             56511.0  Wednesday      21973178.0                      21   \n92             56639.0  Wednesday      21973050.0                      22   \n93             56806.0  Wednesday      21972883.0                      22   \n94             56956.0  Wednesday      21972733.0                      23   \n95             57617.0     Friday      20589672.0                      23   \n96             26661.0     Friday        662228.0                      24   \n97             26713.0     Friday        662176.0                      25   \n\n    # ACTIVITY=Awaiting Assignment  # ACTIVITY=Resolved  # ACTIVITY=Assigned   \n80                               6                    0                    3  \\\n81                               7                    0                    3   \n82                               7                    0                    3   \n83                               8                    0                    3   \n84                               8                    0                    3   \n85                               9                    0                    3   \n86                               9                    0                    3   \n87                              10                    0                    3   \n88                              10                    0                    3   \n89                              10                    0                    3   \n90                              10                    0                    3   \n91                              11                    0                    3   \n92                              11                    0                    3   \n93                              12                    0                    3   \n94                              12                    0                    3   \n95                              13                    0                    3   \n96                              13                    0                    3   \n97                              13                    0                    3   \n\n    # ACTIVITY=Closed  # ACTIVITY=Wait - User   \n80                  0                       7  \\\n81                  0                       7   \n82                  0                       7   \n83                  0                       7   \n84                  0                       7   \n85                  0                       7   \n86                  0                       7   \n87                  0                       7   \n88                  0                       7   \n89                  0                       8   \n90                  0                       8   \n91                  0                       8   \n92                  0                       8   \n93                  0                       8   \n94                  0                       8   \n95                  0                       8   \n96                  0                       8   \n97                  0                       8   \n\n    # ACTIVITY=Wait - Implementation  # ACTIVITY=Wait   \n80                                 0                1  \\\n81                                 0                1   \n82                                 0                1   \n83                                 0                1   \n84                                 0                1   \n85                                 0                1   \n86                                 0                1   \n87                                 0                1   \n88                                 0                1   \n89                                 0                1   \n90                                 0                1   \n91                                 0                1   \n92                                 0                1   \n93                                 0                1   \n94                                 0                1   \n95                                 0                1   \n96                                 0                1   \n97                                 0                1   \n\n    # ACTIVITY=Wait - Vendor  # ACTIVITY=In Call  # ACTIVITY=Wait - Customer   \n80                         0                   0                           0  \\\n81                         0                   0                           0   \n82                         0                   0                           0   \n83                         0                   0                           0   \n84                         0                   0                           0   \n85                         0                   0                           0   \n86                         0                   0                           0   \n87                         0                   0                           0   \n88                         0                   0                           0   \n89                         0                   0                           0   \n90                         0                   0                           0   \n91                         0                   0                           0   \n92                         0                   0                           0   \n93                         0                   0                           0   \n94                         0                   0                           0   \n95                         0                   0                           0   \n96                         0                   0                           0   \n97                         0                   0                           0   \n\n    # ACTIVITY=Unmatched  # ACTIVITY=Cancelled   lead_time  \n80                     0                     0  30352776.0  \n81                     0                     0  30352776.0  \n82                     0                     0  30352776.0  \n83                     0                     0  30352776.0  \n84                     0                     0  30352776.0  \n85                     0                     0  30352776.0  \n86                     0                     0  30352776.0  \n87                     0                     0  30352776.0  \n88                     0                     0  30352776.0  \n89                     0                     0  30352776.0  \n90                     0                     0  30352776.0  \n91                     0                     0  30352776.0  \n92                     0                     0  30352776.0  \n93                     0                     0  30352776.0  \n94                     0                     0  30352776.0  \n95                     0                     0  30352776.0  \n96                     0                     0  30352776.0  \n97                     0                     0  30352776.0  ",
      "text/html": "<div>\n<style scoped>\n    .dataframe tbody tr th:only-of-type {\n        vertical-align: middle;\n    }\n\n    .dataframe tbody tr th {\n        vertical-align: top;\n    }\n\n    .dataframe thead th {\n        text-align: right;\n    }\n</style>\n<table border=\"1\" class=\"dataframe\">\n  <thead>\n    <tr style=\"text-align: right;\">\n      <th></th>\n      <th>SR_Number</th>\n      <th>Change_Date+Time</th>\n      <th>Status</th>\n      <th>ACTIVITY</th>\n      <th>Involved_ST_Function_Div</th>\n      <th>Involved_Org_line_3</th>\n      <th>Involved_ST</th>\n      <th>SR_Latest_Impact</th>\n      <th>Product</th>\n      <th>Country</th>\n      <th>Owner_Country</th>\n      <th>time_from_first</th>\n      <th>time_from_previous_et</th>\n      <th>time_from_midnight</th>\n      <th>weekday</th>\n      <th>time_remaining</th>\n      <th># ACTIVITY=In Progress</th>\n      <th># ACTIVITY=Awaiting Assignment</th>\n      <th># ACTIVITY=Resolved</th>\n      <th># ACTIVITY=Assigned</th>\n      <th># ACTIVITY=Closed</th>\n      <th># ACTIVITY=Wait - User</th>\n      <th># ACTIVITY=Wait - Implementation</th>\n      <th># ACTIVITY=Wait</th>\n      <th># ACTIVITY=Wait - Vendor</th>\n      <th># ACTIVITY=In Call</th>\n      <th># ACTIVITY=Wait - Customer</th>\n      <th># ACTIVITY=Unmatched</th>\n      <th># ACTIVITY=Cancelled</th>\n      <th>lead_time</th>\n    </tr>\n  </thead>\n  <tbody>\n    <tr>\n      <th>80</th>\n      <td>1-529096847</td>\n      <td>1314783700</td>\n      <td>Queued</td>\n      <td>Awaiting Assignment</td>\n      <td>missing</td>\n      <td>Org line V7n</td>\n      <td>V37 2nd</td>\n      <td>Medium</td>\n      <td>PROD542</td>\n      <td>nl</td>\n      <td>POLAND</td>\n      <td>8357987.0</td>\n      <td>120.0</td>\n      <td>34900.0</td>\n      <td>Wednesday</td>\n      <td>21994789.0</td>\n      <td>16</td>\n      <td>6</td>\n      <td>0</td>\n      <td>3</td>\n      <td>0</td>\n      <td>7</td>\n      <td>0</td>\n      <td>1</td>\n      <td>0</td>\n      <td>0</td>\n      <td>0</td>\n      <td>0</td>\n      <td>0</td>\n      <td>30352776.0</td>\n    </tr>\n    <tr>\n      <th>81</th>\n      <td>1-529096847</td>\n      <td>1314794385</td>\n      <td>Accepted</td>\n      <td>In Progress</td>\n      <td>missing</td>\n      <td>Org line V7n</td>\n      <td>V37 2nd</td>\n      <td>Medium</td>\n      <td>PROD542</td>\n      <td>nl</td>\n      <td>Netherlands</td>\n      <td>8368672.0</td>\n      <td>10685.0</td>\n      <td>45585.0</td>\n      <td>Wednesday</td>\n      <td>21984104.0</td>\n      <td>16</td>\n      <td>7</td>\n      <td>0</td>\n      <td>3</td>\n      <td>0</td>\n      <td>7</td>\n      <td>0</td>\n      <td>1</td>\n      <td>0</td>\n      <td>0</td>\n      <td>0</td>\n      <td>0</td>\n      <td>0</td>\n      <td>30352776.0</td>\n    </tr>\n    <tr>\n      <th>82</th>\n      <td>1-529096847</td>\n      <td>1314794402</td>\n      <td>Queued</td>\n      <td>Awaiting Assignment</td>\n      <td>A2_1</td>\n      <td>Org line A2</td>\n      <td>D8</td>\n      <td>Medium</td>\n      <td>PROD542</td>\n      <td>nl</td>\n      <td>Netherlands</td>\n      <td>8368689.0</td>\n      <td>17.0</td>\n      <td>45602.0</td>\n      <td>Wednesday</td>\n      <td>21984087.0</td>\n      <td>17</td>\n      <td>7</td>\n      <td>0</td>\n      <td>3</td>\n      <td>0</td>\n      <td>7</td>\n      <td>0</td>\n      <td>1</td>\n      <td>0</td>\n      <td>0</td>\n      <td>0</td>\n      <td>0</td>\n      <td>0</td>\n      <td>30352776.0</td>\n    </tr>\n    <tr>\n      <th>83</th>\n      <td>1-529096847</td>\n      <td>1314794555</td>\n      <td>Accepted</td>\n      <td>In Progress</td>\n      <td>A2_1</td>\n      <td>Org line A2</td>\n      <td>D8</td>\n      <td>Medium</td>\n      <td>PROD542</td>\n      <td>nl</td>\n      <td>POLAND</td>\n      <td>8368842.0</td>\n      <td>153.0</td>\n      <td>45755.0</td>\n      <td>Wednesday</td>\n      <td>21983934.0</td>\n      <td>17</td>\n      <td>8</td>\n      <td>0</td>\n      <td>3</td>\n      <td>0</td>\n      <td>7</td>\n      <td>0</td>\n      <td>1</td>\n      <td>0</td>\n      <td>0</td>\n      <td>0</td>\n      <td>0</td>\n      <td>0</td>\n      <td>30352776.0</td>\n    </tr>\n    <tr>\n      <th>84</th>\n      <td>1-529096847</td>\n      <td>1314795087</td>\n      <td>Queued</td>\n      <td>Awaiting Assignment</td>\n      <td>missing</td>\n      <td>Org line V7n</td>\n      <td>V37 2nd</td>\n      <td>Medium</td>\n      <td>PROD542</td>\n      <td>nl</td>\n      <td>POLAND</td>\n      <td>8369374.0</td>\n      <td>532.0</td>\n      <td>46287.0</td>\n      <td>Wednesday</td>\n      <td>21983402.0</td>\n      <td>18</td>\n      <td>8</td>\n      <td>0</td>\n      <td>3</td>\n      <td>0</td>\n      <td>7</td>\n      <td>0</td>\n      <td>1</td>\n      <td>0</td>\n      <td>0</td>\n      <td>0</td>\n      <td>0</td>\n      <td>0</td>\n      <td>30352776.0</td>\n    </tr>\n    <tr>\n      <th>85</th>\n      <td>1-529096847</td>\n      <td>1314801039</td>\n      <td>Accepted</td>\n      <td>In Progress</td>\n      <td>missing</td>\n      <td>Org line V7n</td>\n      <td>V37 2nd</td>\n      <td>Medium</td>\n      <td>PROD542</td>\n      <td>nl</td>\n      <td>Netherlands</td>\n      <td>8375326.0</td>\n      <td>5952.0</td>\n      <td>52239.0</td>\n      <td>Wednesday</td>\n      <td>21977450.0</td>\n      <td>18</td>\n      <td>9</td>\n      <td>0</td>\n      <td>3</td>\n      <td>0</td>\n      <td>7</td>\n      <td>0</td>\n      <td>1</td>\n      <td>0</td>\n      <td>0</td>\n      <td>0</td>\n      <td>0</td>\n      <td>0</td>\n      <td>30352776.0</td>\n    </tr>\n    <tr>\n      <th>86</th>\n      <td>1-529096847</td>\n      <td>1314801052</td>\n      <td>Queued</td>\n      <td>Awaiting Assignment</td>\n      <td>A2_1</td>\n      <td>Org line A2</td>\n      <td>D8</td>\n      <td>Medium</td>\n      <td>PROD542</td>\n      <td>nl</td>\n      <td>Netherlands</td>\n      <td>8375339.0</td>\n      <td>13.0</td>\n      <td>52252.0</td>\n      <td>Wednesday</td>\n      <td>21977437.0</td>\n      <td>19</td>\n      <td>9</td>\n      <td>0</td>\n      <td>3</td>\n      <td>0</td>\n      <td>7</td>\n      <td>0</td>\n      <td>1</td>\n      <td>0</td>\n      <td>0</td>\n      <td>0</td>\n      <td>0</td>\n      <td>0</td>\n      <td>30352776.0</td>\n    </tr>\n    <tr>\n      <th>87</th>\n      <td>1-529096847</td>\n      <td>1314801334</td>\n      <td>Accepted</td>\n      <td>In Progress</td>\n      <td>A2_1</td>\n      <td>Org line A2</td>\n      <td>D8</td>\n      <td>Medium</td>\n      <td>PROD542</td>\n      <td>nl</td>\n      <td>POLAND</td>\n      <td>8375621.0</td>\n      <td>282.0</td>\n      <td>52534.0</td>\n      <td>Wednesday</td>\n      <td>21977155.0</td>\n      <td>19</td>\n      <td>10</td>\n      <td>0</td>\n      <td>3</td>\n      <td>0</td>\n      <td>7</td>\n      <td>0</td>\n      <td>1</td>\n      <td>0</td>\n      <td>0</td>\n      <td>0</td>\n      <td>0</td>\n      <td>0</td>\n      <td>30352776.0</td>\n    </tr>\n    <tr>\n      <th>88</th>\n      <td>1-529096847</td>\n      <td>1314801516</td>\n      <td>Accepted</td>\n      <td>Wait - User</td>\n      <td>A2_1</td>\n      <td>Org line A2</td>\n      <td>D8</td>\n      <td>Medium</td>\n      <td>PROD542</td>\n      <td>nl</td>\n      <td>POLAND</td>\n      <td>8375803.0</td>\n      <td>182.0</td>\n      <td>52716.0</td>\n      <td>Wednesday</td>\n      <td>21976973.0</td>\n      <td>20</td>\n      <td>10</td>\n      <td>0</td>\n      <td>3</td>\n      <td>0</td>\n      <td>7</td>\n      <td>0</td>\n      <td>1</td>\n      <td>0</td>\n      <td>0</td>\n      <td>0</td>\n      <td>0</td>\n      <td>0</td>\n      <td>30352776.0</td>\n    </tr>\n    <tr>\n      <th>89</th>\n      <td>1-529096847</td>\n      <td>1314802146</td>\n      <td>Accepted</td>\n      <td>In Progress</td>\n      <td>A2_1</td>\n      <td>Org line A2</td>\n      <td>D8</td>\n      <td>Medium</td>\n      <td>PROD542</td>\n      <td>nl</td>\n      <td>POLAND</td>\n      <td>8376433.0</td>\n      <td>630.0</td>\n      <td>53346.0</td>\n      <td>Wednesday</td>\n      <td>21976343.0</td>\n      <td>20</td>\n      <td>10</td>\n      <td>0</td>\n      <td>3</td>\n      <td>0</td>\n      <td>8</td>\n      <td>0</td>\n      <td>1</td>\n      <td>0</td>\n      <td>0</td>\n      <td>0</td>\n      <td>0</td>\n      <td>0</td>\n      <td>30352776.0</td>\n    </tr>\n    <tr>\n      <th>90</th>\n      <td>1-529096847</td>\n      <td>1314802241</td>\n      <td>Queued</td>\n      <td>Awaiting Assignment</td>\n      <td>missing</td>\n      <td>Org line V7n</td>\n      <td>V37 2nd</td>\n      <td>Medium</td>\n      <td>PROD542</td>\n      <td>nl</td>\n      <td>POLAND</td>\n      <td>8376528.0</td>\n      <td>95.0</td>\n      <td>53441.0</td>\n      <td>Wednesday</td>\n      <td>21976248.0</td>\n      <td>21</td>\n      <td>10</td>\n      <td>0</td>\n      <td>3</td>\n      <td>0</td>\n      <td>8</td>\n      <td>0</td>\n      <td>1</td>\n      <td>0</td>\n      <td>0</td>\n      <td>0</td>\n      <td>0</td>\n      <td>0</td>\n      <td>30352776.0</td>\n    </tr>\n    <tr>\n      <th>91</th>\n      <td>1-529096847</td>\n      <td>1314805311</td>\n      <td>Accepted</td>\n      <td>In Progress</td>\n      <td>missing</td>\n      <td>Org line V7n</td>\n      <td>V37 2nd</td>\n      <td>Medium</td>\n      <td>PROD542</td>\n      <td>nl</td>\n      <td>Netherlands</td>\n      <td>8379598.0</td>\n      <td>3070.0</td>\n      <td>56511.0</td>\n      <td>Wednesday</td>\n      <td>21973178.0</td>\n      <td>21</td>\n      <td>11</td>\n      <td>0</td>\n      <td>3</td>\n      <td>0</td>\n      <td>8</td>\n      <td>0</td>\n      <td>1</td>\n      <td>0</td>\n      <td>0</td>\n      <td>0</td>\n      <td>0</td>\n      <td>0</td>\n      <td>30352776.0</td>\n    </tr>\n    <tr>\n      <th>92</th>\n      <td>1-529096847</td>\n      <td>1314805439</td>\n      <td>Queued</td>\n      <td>Awaiting Assignment</td>\n      <td>A2_1</td>\n      <td>Org line A2</td>\n      <td>D8</td>\n      <td>Medium</td>\n      <td>PROD542</td>\n      <td>nl</td>\n      <td>Netherlands</td>\n      <td>8379726.0</td>\n      <td>128.0</td>\n      <td>56639.0</td>\n      <td>Wednesday</td>\n      <td>21973050.0</td>\n      <td>22</td>\n      <td>11</td>\n      <td>0</td>\n      <td>3</td>\n      <td>0</td>\n      <td>8</td>\n      <td>0</td>\n      <td>1</td>\n      <td>0</td>\n      <td>0</td>\n      <td>0</td>\n      <td>0</td>\n      <td>0</td>\n      <td>30352776.0</td>\n    </tr>\n    <tr>\n      <th>93</th>\n      <td>1-529096847</td>\n      <td>1314805606</td>\n      <td>Accepted</td>\n      <td>In Progress</td>\n      <td>A2_1</td>\n      <td>Org line A2</td>\n      <td>D8</td>\n      <td>Medium</td>\n      <td>PROD542</td>\n      <td>nl</td>\n      <td>POLAND</td>\n      <td>8379893.0</td>\n      <td>167.0</td>\n      <td>56806.0</td>\n      <td>Wednesday</td>\n      <td>21972883.0</td>\n      <td>22</td>\n      <td>12</td>\n      <td>0</td>\n      <td>3</td>\n      <td>0</td>\n      <td>8</td>\n      <td>0</td>\n      <td>1</td>\n      <td>0</td>\n      <td>0</td>\n      <td>0</td>\n      <td>0</td>\n      <td>0</td>\n      <td>30352776.0</td>\n    </tr>\n    <tr>\n      <th>94</th>\n      <td>1-529096847</td>\n      <td>1314805756</td>\n      <td>Queued</td>\n      <td>Awaiting Assignment</td>\n      <td>missing</td>\n      <td>Org line V7n</td>\n      <td>V32 2nd</td>\n      <td>Medium</td>\n      <td>PROD542</td>\n      <td>nl</td>\n      <td>POLAND</td>\n      <td>8380043.0</td>\n      <td>150.0</td>\n      <td>56956.0</td>\n      <td>Wednesday</td>\n      <td>21972733.0</td>\n      <td>23</td>\n      <td>12</td>\n      <td>0</td>\n      <td>3</td>\n      <td>0</td>\n      <td>8</td>\n      <td>0</td>\n      <td>1</td>\n      <td>0</td>\n      <td>0</td>\n      <td>0</td>\n      <td>0</td>\n      <td>0</td>\n      <td>30352776.0</td>\n    </tr>\n    <tr>\n      <th>95</th>\n      <td>1-529096847</td>\n      <td>1316188817</td>\n      <td>Accepted</td>\n      <td>In Progress</td>\n      <td>missing</td>\n      <td>Org line V7n</td>\n      <td>V32 2nd</td>\n      <td>Medium</td>\n      <td>PROD542</td>\n      <td>nl</td>\n      <td>Netherlands</td>\n      <td>9763104.0</td>\n      <td>1383061.0</td>\n      <td>57617.0</td>\n      <td>Friday</td>\n      <td>20589672.0</td>\n      <td>23</td>\n      <td>13</td>\n      <td>0</td>\n      <td>3</td>\n      <td>0</td>\n      <td>8</td>\n      <td>0</td>\n      <td>1</td>\n      <td>0</td>\n      <td>0</td>\n      <td>0</td>\n      <td>0</td>\n      <td>0</td>\n      <td>30352776.0</td>\n    </tr>\n    <tr>\n      <th>96</th>\n      <td>1-529096847</td>\n      <td>1336116261</td>\n      <td>Accepted</td>\n      <td>In Progress</td>\n      <td>missing</td>\n      <td>Org line V7n</td>\n      <td>V37 2nd</td>\n      <td>Medium</td>\n      <td>PROD542</td>\n      <td>nl</td>\n      <td>Netherlands</td>\n      <td>29690548.0</td>\n      <td>19927444.0</td>\n      <td>26661.0</td>\n      <td>Friday</td>\n      <td>662228.0</td>\n      <td>24</td>\n      <td>13</td>\n      <td>0</td>\n      <td>3</td>\n      <td>0</td>\n      <td>8</td>\n      <td>0</td>\n      <td>1</td>\n      <td>0</td>\n      <td>0</td>\n      <td>0</td>\n      <td>0</td>\n      <td>0</td>\n      <td>30352776.0</td>\n    </tr>\n    <tr>\n      <th>97</th>\n      <td>1-529096847</td>\n      <td>1336116313</td>\n      <td>Completed</td>\n      <td>Resolved</td>\n      <td>missing</td>\n      <td>Org line V7n</td>\n      <td>V37 2nd</td>\n      <td>Medium</td>\n      <td>PROD542</td>\n      <td>nl</td>\n      <td>Netherlands</td>\n      <td>29690600.0</td>\n      <td>52.0</td>\n      <td>26713.0</td>\n      <td>Friday</td>\n      <td>662176.0</td>\n      <td>25</td>\n      <td>13</td>\n      <td>0</td>\n      <td>3</td>\n      <td>0</td>\n      <td>8</td>\n      <td>0</td>\n      <td>1</td>\n      <td>0</td>\n      <td>0</td>\n      <td>0</td>\n      <td>0</td>\n      <td>0</td>\n      <td>30352776.0</td>\n    </tr>\n  </tbody>\n</table>\n</div>"
     },
     "metadata": {},
     "output_type": "display_data"
    }
   ],
   "source": [
    "search_case_id = \"1-529096847\"\n",
    "for df_test_trace in test_cases:\n",
    "    query_case_id = get_case_id(df_test_trace, case_id_name)\n",
    "    if query_case_id == search_case_id:\n",
    "        df_test_trace_temp = df_test_trace\n",
    "        display(df_test_trace_temp)\n",
    "\n",
    "# only print part of the trace that is not present in the df_test_trace\n",
    "df_trace = df_test[df_test[case_id_name] == search_case_id]\n",
    "\n",
    "display(df_trace.iloc[len(df_test_trace_temp) - 1:])  # -1 gives overlap of 1 row in the df_trace print"
   ],
   "metadata": {
    "collapsed": false,
    "ExecuteTime": {
     "end_time": "2023-06-15T15:10:17.160517474Z",
     "start_time": "2023-06-15T15:10:16.959320199Z"
    }
   }
  },
  {
   "cell_type": "markdown",
   "source": [
    "### Run CFE on a case from df_test\n",
    "This is to experiment and see if running the CFE generator can produce an output if we run on the same trace (which doesn't produce output on the prefix in the test_set)\n",
    "but on a different prefix (or split point). Use `sidx` (start index) to make a split manually anywhere in the testset."
   ],
   "metadata": {
    "collapsed": false
   }
  },
  {
   "cell_type": "code",
   "execution_count": 45,
   "outputs": [],
   "source": [
    "# df_test[70: 80]"
   ],
   "metadata": {
    "collapsed": false,
    "ExecuteTime": {
     "end_time": "2023-06-14T22:33:15.683592377Z",
     "start_time": "2023-06-14T22:33:15.655553884Z"
    }
   }
  },
  {
   "cell_type": "code",
   "execution_count": 33,
   "outputs": [],
   "source": [
    "# pd.concat([ X_test[70:80], y_test[70:80] ], axis=1)"
   ],
   "metadata": {
    "collapsed": false,
    "ExecuteTime": {
     "end_time": "2023-06-15T15:11:00.011892756Z",
     "start_time": "2023-06-15T15:10:59.983374595Z"
    }
   }
  },
  {
   "cell_type": "code",
   "execution_count": 34,
   "outputs": [
    {
     "name": "stdout",
     "output_type": "stream",
     "text": [
      "total_time_upper_bound 316.1747453703704\n"
     ]
    },
    {
     "name": "stderr",
     "output_type": "stream",
     "text": [
      "100%|██████████| 1/1 [00:01<00:00,  1.31s/it]"
     ]
    },
    {
     "name": "stdout",
     "output_type": "stream",
     "text": [
      "Query instance (original outcome : 23300204)\n"
     ]
    },
    {
     "name": "stderr",
     "output_type": "stream",
     "text": [
      "\n"
     ]
    },
    {
     "data": {
      "text/plain": "     Status     ACTIVITY Involved_ST_Function_Div Involved_Org_line_3   \n0  Accepted  In Progress                  missing         Org line V7  \\\n\n  Involved_ST SR_Latest_Impact  Product Country Owner_Country   \n0     V29 2nd           Medium  PROD542      nl       Belgium  \\\n\n   time_from_first  time_from_previous_et  time_from_midnight weekday   \n0        5172125.0               620508.0             45838.0  Monday  \\\n\n   # ACTIVITY=In Progress  # ACTIVITY=Awaiting Assignment   \n0                      14                               6  \\\n\n   # ACTIVITY=Resolved  # ACTIVITY=Assigned  # ACTIVITY=Closed   \n0                    0                    3                  0  \\\n\n   # ACTIVITY=Wait - User  # ACTIVITY=Wait - Implementation  # ACTIVITY=Wait   \n0                       7                                 0                0  \\\n\n   # ACTIVITY=Wait - Vendor  # ACTIVITY=In Call  # ACTIVITY=Wait - Customer   \n0                         0                   0                           0  \\\n\n   # ACTIVITY=Unmatched  # ACTIVITY=Cancelled   lead_time  \n0                     0                     0  23300204.0  ",
      "text/html": "<div>\n<style scoped>\n    .dataframe tbody tr th:only-of-type {\n        vertical-align: middle;\n    }\n\n    .dataframe tbody tr th {\n        vertical-align: top;\n    }\n\n    .dataframe thead th {\n        text-align: right;\n    }\n</style>\n<table border=\"1\" class=\"dataframe\">\n  <thead>\n    <tr style=\"text-align: right;\">\n      <th></th>\n      <th>Status</th>\n      <th>ACTIVITY</th>\n      <th>Involved_ST_Function_Div</th>\n      <th>Involved_Org_line_3</th>\n      <th>Involved_ST</th>\n      <th>SR_Latest_Impact</th>\n      <th>Product</th>\n      <th>Country</th>\n      <th>Owner_Country</th>\n      <th>time_from_first</th>\n      <th>time_from_previous_et</th>\n      <th>time_from_midnight</th>\n      <th>weekday</th>\n      <th># ACTIVITY=In Progress</th>\n      <th># ACTIVITY=Awaiting Assignment</th>\n      <th># ACTIVITY=Resolved</th>\n      <th># ACTIVITY=Assigned</th>\n      <th># ACTIVITY=Closed</th>\n      <th># ACTIVITY=Wait - User</th>\n      <th># ACTIVITY=Wait - Implementation</th>\n      <th># ACTIVITY=Wait</th>\n      <th># ACTIVITY=Wait - Vendor</th>\n      <th># ACTIVITY=In Call</th>\n      <th># ACTIVITY=Wait - Customer</th>\n      <th># ACTIVITY=Unmatched</th>\n      <th># ACTIVITY=Cancelled</th>\n      <th>lead_time</th>\n    </tr>\n  </thead>\n  <tbody>\n    <tr>\n      <th>0</th>\n      <td>Accepted</td>\n      <td>In Progress</td>\n      <td>missing</td>\n      <td>Org line V7</td>\n      <td>V29 2nd</td>\n      <td>Medium</td>\n      <td>PROD542</td>\n      <td>nl</td>\n      <td>Belgium</td>\n      <td>5172125.0</td>\n      <td>620508.0</td>\n      <td>45838.0</td>\n      <td>Monday</td>\n      <td>14</td>\n      <td>6</td>\n      <td>0</td>\n      <td>3</td>\n      <td>0</td>\n      <td>7</td>\n      <td>0</td>\n      <td>0</td>\n      <td>0</td>\n      <td>0</td>\n      <td>0</td>\n      <td>0</td>\n      <td>0</td>\n      <td>23300204.0</td>\n    </tr>\n  </tbody>\n</table>\n</div>"
     },
     "metadata": {},
     "output_type": "display_data"
    },
    {
     "name": "stdout",
     "output_type": "stream",
     "text": [
      "\n",
      "Diverse Counterfactual set (new outcome: [0, 27317498])\n"
     ]
    },
    {
     "data": {
      "text/plain": "   Status ACTIVITY Involved_ST_Function_Div Involved_Org_line_3 Involved_ST   \n0       -        -                        -         Org line V5          B6  \\\n1       -        -                        -                   -     N15 2nd   \n2       -        -                        -                   -         A12   \n3       -        -                      E_2                   -     N25 2nd   \n4       -        -                        -          Org line C           -   \n5       -        -                      C_5                   -         S47   \n6       -     Wait                        -         Org line V3           -   \n7       -        -                        -         Org line G2         S15   \n8       -        -                        -         Org line G4          M8   \n9       -        -                      E_5                   -     N31 3rd   \n10      -        -                        -         Org line G2     V19 2nd   \n11      -  In Call                        -                   -     V50 2nd   \n12      -        -                        -               Other     G99 2nd   \n13      -     Wait                        -                   -     W15 3rd   \n14      -     Wait                        -          Org line E           -   \n15      -        -                     V3_2                   -          C8   \n16      -        -                        -          Org line C      T2 3rd   \n17      -        -                        -          Org line D      M3 2nd   \n18      -        -                      C_6                   -    G356 2nd   \n19      -        -                        -                   -    G261 3rd   \n\n   SR_Latest_Impact Product Country Owner_Country time_from_first   \n0                 -       -       -             -               -  \\\n1                 -       -       -             -               -   \n2                 -       -       -             -               -   \n3                 -       -       -             -               -   \n4                 -       -       -             -               -   \n5                 -       -       -             -               -   \n6                 -       -       -             -               -   \n7                 -       -       -             -               -   \n8                 -       -       -             -               -   \n9                 -       -       -             -               -   \n10                -       -       -             -               -   \n11                -       -       -             -               -   \n12                -       -       -             -               -   \n13                -       -       -             -               -   \n14                -       -       -             -               -   \n15                -       -       -             -               -   \n16                -       -       -             -               -   \n17                -       -       -             -               -   \n18                -       -       -             -               -   \n19                -       -       -             -               -   \n\n   time_from_previous_et time_from_midnight weekday # ACTIVITY=In Progress   \n0                      -                  -       -                      -  \\\n1                      -                  -       -                      -   \n2                      -                  -       -                      -   \n3                      -                  -       -                      -   \n4                      -                  -       -                      -   \n5                      -                  -       -                      -   \n6                      -                  -       -                      -   \n7                      -                  -       -                      -   \n8                      -                  -       -                      -   \n9                      -                  -       -                      -   \n10                     -                  -       -                      -   \n11                     -                  -       -                      -   \n12                     -                  -       -                      -   \n13                     -                  -       -                      -   \n14                     -                  -       -                      -   \n15                     -                  -       -                      -   \n16                     -                  -       -                      -   \n17                     -                  -       -                      -   \n18                     -                  -       -                      -   \n19                     -                  -       -                      -   \n\n   # ACTIVITY=Awaiting Assignment # ACTIVITY=Resolved # ACTIVITY=Assigned   \n0                               -                   -                   -  \\\n1                               -                   -                   -   \n2                               -                   -                   -   \n3                               -                   -                   -   \n4                               -                   -                   -   \n5                               -                   -                   -   \n6                               -                   -                   -   \n7                               -                   -                   -   \n8                               -                   -                   -   \n9                               -                   -                   -   \n10                              -                   -                   -   \n11                              -                   -                   -   \n12                              -                   -                   -   \n13                              -                   -                   -   \n14                              -                   -                   -   \n15                              -                   -                   -   \n16                              -                   -                   -   \n17                              -                   -                   -   \n18                              -                   -                   -   \n19                              -                   -                   -   \n\n   # ACTIVITY=Closed # ACTIVITY=Wait - User # ACTIVITY=Wait - Implementation   \n0                  -                      -                                -  \\\n1                  -                      -                                -   \n2                  -                      -                                -   \n3                  -                      -                                -   \n4                  -                      -                                -   \n5                  -                      -                                -   \n6                  -                      -                                -   \n7                  -                      -                                -   \n8                  -                      -                                -   \n9                  -                      -                                -   \n10                 -                      -                                -   \n11                 -                      -                                -   \n12                 -                      -                                -   \n13                 -                      -                                -   \n14                 -                      -                                -   \n15                 -                      -                                -   \n16                 -                      -                                -   \n17                 -                      -                                -   \n18                 -                      -                                -   \n19                 -                      -                                -   \n\n   # ACTIVITY=Wait # ACTIVITY=Wait - Vendor # ACTIVITY=In Call   \n0                -                        -                  -  \\\n1                -                        -                  -   \n2                -                        -                  -   \n3                -                        -                  -   \n4                -                        -                  -   \n5                -                        -                  -   \n6                -                        -                  -   \n7                -                        -                  -   \n8                -                        -                  -   \n9                -                        -                  -   \n10               -                        -                  -   \n11               -                        -                  -   \n12               -                        -                  -   \n13               -                        -                  -   \n14               -                        -                  -   \n15               -                        -                  -   \n16               -                        -                  -   \n17               -                        -                  -   \n18               -                        -                  -   \n19               -                        -                  -   \n\n   # ACTIVITY=Wait - Customer # ACTIVITY=Unmatched # ACTIVITY=Cancelled   \n0                           -                    -                    -  \\\n1                           -                    -                    -   \n2                           -                    -                    -   \n3                           -                    -                    -   \n4                           -                    -                    -   \n5                           -                    -                    -   \n6                           -                    -                    -   \n7                           -                    -                    -   \n8                           -                    -                    -   \n9                           -                    -                    -   \n10                          -                    -                    -   \n11                          -                    -                    -   \n12                          -                    -                    -   \n13                          -                    -                    -   \n14                          -                    -                    -   \n15                          -                    -                    -   \n16                          -                    -                    -   \n17                          -                    -                    -   \n18                          -                    -                    -   \n19                          -                    -                    -   \n\n     lead_time  \n0   22669316.0  \n1   22719882.0  \n2   22719882.0  \n3   22719882.0  \n4   23249636.0  \n5   22719882.0  \n6   23223578.0  \n7   22669316.0  \n8   22669316.0  \n9   22719882.0  \n10  22669316.0  \n11  22693824.0  \n12  22702226.0  \n13  22693824.0  \n14  23223578.0  \n15  22719882.0  \n16  22669316.0  \n17  22669316.0  \n18  22719882.0  \n19  22719882.0  ",
      "text/html": "<div>\n<style scoped>\n    .dataframe tbody tr th:only-of-type {\n        vertical-align: middle;\n    }\n\n    .dataframe tbody tr th {\n        vertical-align: top;\n    }\n\n    .dataframe thead th {\n        text-align: right;\n    }\n</style>\n<table border=\"1\" class=\"dataframe\">\n  <thead>\n    <tr style=\"text-align: right;\">\n      <th></th>\n      <th>Status</th>\n      <th>ACTIVITY</th>\n      <th>Involved_ST_Function_Div</th>\n      <th>Involved_Org_line_3</th>\n      <th>Involved_ST</th>\n      <th>SR_Latest_Impact</th>\n      <th>Product</th>\n      <th>Country</th>\n      <th>Owner_Country</th>\n      <th>time_from_first</th>\n      <th>time_from_previous_et</th>\n      <th>time_from_midnight</th>\n      <th>weekday</th>\n      <th># ACTIVITY=In Progress</th>\n      <th># ACTIVITY=Awaiting Assignment</th>\n      <th># ACTIVITY=Resolved</th>\n      <th># ACTIVITY=Assigned</th>\n      <th># ACTIVITY=Closed</th>\n      <th># ACTIVITY=Wait - User</th>\n      <th># ACTIVITY=Wait - Implementation</th>\n      <th># ACTIVITY=Wait</th>\n      <th># ACTIVITY=Wait - Vendor</th>\n      <th># ACTIVITY=In Call</th>\n      <th># ACTIVITY=Wait - Customer</th>\n      <th># ACTIVITY=Unmatched</th>\n      <th># ACTIVITY=Cancelled</th>\n      <th>lead_time</th>\n    </tr>\n  </thead>\n  <tbody>\n    <tr>\n      <th>0</th>\n      <td>-</td>\n      <td>-</td>\n      <td>-</td>\n      <td>Org line V5</td>\n      <td>B6</td>\n      <td>-</td>\n      <td>-</td>\n      <td>-</td>\n      <td>-</td>\n      <td>-</td>\n      <td>-</td>\n      <td>-</td>\n      <td>-</td>\n      <td>-</td>\n      <td>-</td>\n      <td>-</td>\n      <td>-</td>\n      <td>-</td>\n      <td>-</td>\n      <td>-</td>\n      <td>-</td>\n      <td>-</td>\n      <td>-</td>\n      <td>-</td>\n      <td>-</td>\n      <td>-</td>\n      <td>22669316.0</td>\n    </tr>\n    <tr>\n      <th>1</th>\n      <td>-</td>\n      <td>-</td>\n      <td>-</td>\n      <td>-</td>\n      <td>N15 2nd</td>\n      <td>-</td>\n      <td>-</td>\n      <td>-</td>\n      <td>-</td>\n      <td>-</td>\n      <td>-</td>\n      <td>-</td>\n      <td>-</td>\n      <td>-</td>\n      <td>-</td>\n      <td>-</td>\n      <td>-</td>\n      <td>-</td>\n      <td>-</td>\n      <td>-</td>\n      <td>-</td>\n      <td>-</td>\n      <td>-</td>\n      <td>-</td>\n      <td>-</td>\n      <td>-</td>\n      <td>22719882.0</td>\n    </tr>\n    <tr>\n      <th>2</th>\n      <td>-</td>\n      <td>-</td>\n      <td>-</td>\n      <td>-</td>\n      <td>A12</td>\n      <td>-</td>\n      <td>-</td>\n      <td>-</td>\n      <td>-</td>\n      <td>-</td>\n      <td>-</td>\n      <td>-</td>\n      <td>-</td>\n      <td>-</td>\n      <td>-</td>\n      <td>-</td>\n      <td>-</td>\n      <td>-</td>\n      <td>-</td>\n      <td>-</td>\n      <td>-</td>\n      <td>-</td>\n      <td>-</td>\n      <td>-</td>\n      <td>-</td>\n      <td>-</td>\n      <td>22719882.0</td>\n    </tr>\n    <tr>\n      <th>3</th>\n      <td>-</td>\n      <td>-</td>\n      <td>E_2</td>\n      <td>-</td>\n      <td>N25 2nd</td>\n      <td>-</td>\n      <td>-</td>\n      <td>-</td>\n      <td>-</td>\n      <td>-</td>\n      <td>-</td>\n      <td>-</td>\n      <td>-</td>\n      <td>-</td>\n      <td>-</td>\n      <td>-</td>\n      <td>-</td>\n      <td>-</td>\n      <td>-</td>\n      <td>-</td>\n      <td>-</td>\n      <td>-</td>\n      <td>-</td>\n      <td>-</td>\n      <td>-</td>\n      <td>-</td>\n      <td>22719882.0</td>\n    </tr>\n    <tr>\n      <th>4</th>\n      <td>-</td>\n      <td>-</td>\n      <td>-</td>\n      <td>Org line C</td>\n      <td>-</td>\n      <td>-</td>\n      <td>-</td>\n      <td>-</td>\n      <td>-</td>\n      <td>-</td>\n      <td>-</td>\n      <td>-</td>\n      <td>-</td>\n      <td>-</td>\n      <td>-</td>\n      <td>-</td>\n      <td>-</td>\n      <td>-</td>\n      <td>-</td>\n      <td>-</td>\n      <td>-</td>\n      <td>-</td>\n      <td>-</td>\n      <td>-</td>\n      <td>-</td>\n      <td>-</td>\n      <td>23249636.0</td>\n    </tr>\n    <tr>\n      <th>5</th>\n      <td>-</td>\n      <td>-</td>\n      <td>C_5</td>\n      <td>-</td>\n      <td>S47</td>\n      <td>-</td>\n      <td>-</td>\n      <td>-</td>\n      <td>-</td>\n      <td>-</td>\n      <td>-</td>\n      <td>-</td>\n      <td>-</td>\n      <td>-</td>\n      <td>-</td>\n      <td>-</td>\n      <td>-</td>\n      <td>-</td>\n      <td>-</td>\n      <td>-</td>\n      <td>-</td>\n      <td>-</td>\n      <td>-</td>\n      <td>-</td>\n      <td>-</td>\n      <td>-</td>\n      <td>22719882.0</td>\n    </tr>\n    <tr>\n      <th>6</th>\n      <td>-</td>\n      <td>Wait</td>\n      <td>-</td>\n      <td>Org line V3</td>\n      <td>-</td>\n      <td>-</td>\n      <td>-</td>\n      <td>-</td>\n      <td>-</td>\n      <td>-</td>\n      <td>-</td>\n      <td>-</td>\n      <td>-</td>\n      <td>-</td>\n      <td>-</td>\n      <td>-</td>\n      <td>-</td>\n      <td>-</td>\n      <td>-</td>\n      <td>-</td>\n      <td>-</td>\n      <td>-</td>\n      <td>-</td>\n      <td>-</td>\n      <td>-</td>\n      <td>-</td>\n      <td>23223578.0</td>\n    </tr>\n    <tr>\n      <th>7</th>\n      <td>-</td>\n      <td>-</td>\n      <td>-</td>\n      <td>Org line G2</td>\n      <td>S15</td>\n      <td>-</td>\n      <td>-</td>\n      <td>-</td>\n      <td>-</td>\n      <td>-</td>\n      <td>-</td>\n      <td>-</td>\n      <td>-</td>\n      <td>-</td>\n      <td>-</td>\n      <td>-</td>\n      <td>-</td>\n      <td>-</td>\n      <td>-</td>\n      <td>-</td>\n      <td>-</td>\n      <td>-</td>\n      <td>-</td>\n      <td>-</td>\n      <td>-</td>\n      <td>-</td>\n      <td>22669316.0</td>\n    </tr>\n    <tr>\n      <th>8</th>\n      <td>-</td>\n      <td>-</td>\n      <td>-</td>\n      <td>Org line G4</td>\n      <td>M8</td>\n      <td>-</td>\n      <td>-</td>\n      <td>-</td>\n      <td>-</td>\n      <td>-</td>\n      <td>-</td>\n      <td>-</td>\n      <td>-</td>\n      <td>-</td>\n      <td>-</td>\n      <td>-</td>\n      <td>-</td>\n      <td>-</td>\n      <td>-</td>\n      <td>-</td>\n      <td>-</td>\n      <td>-</td>\n      <td>-</td>\n      <td>-</td>\n      <td>-</td>\n      <td>-</td>\n      <td>22669316.0</td>\n    </tr>\n    <tr>\n      <th>9</th>\n      <td>-</td>\n      <td>-</td>\n      <td>E_5</td>\n      <td>-</td>\n      <td>N31 3rd</td>\n      <td>-</td>\n      <td>-</td>\n      <td>-</td>\n      <td>-</td>\n      <td>-</td>\n      <td>-</td>\n      <td>-</td>\n      <td>-</td>\n      <td>-</td>\n      <td>-</td>\n      <td>-</td>\n      <td>-</td>\n      <td>-</td>\n      <td>-</td>\n      <td>-</td>\n      <td>-</td>\n      <td>-</td>\n      <td>-</td>\n      <td>-</td>\n      <td>-</td>\n      <td>-</td>\n      <td>22719882.0</td>\n    </tr>\n    <tr>\n      <th>10</th>\n      <td>-</td>\n      <td>-</td>\n      <td>-</td>\n      <td>Org line G2</td>\n      <td>V19 2nd</td>\n      <td>-</td>\n      <td>-</td>\n      <td>-</td>\n      <td>-</td>\n      <td>-</td>\n      <td>-</td>\n      <td>-</td>\n      <td>-</td>\n      <td>-</td>\n      <td>-</td>\n      <td>-</td>\n      <td>-</td>\n      <td>-</td>\n      <td>-</td>\n      <td>-</td>\n      <td>-</td>\n      <td>-</td>\n      <td>-</td>\n      <td>-</td>\n      <td>-</td>\n      <td>-</td>\n      <td>22669316.0</td>\n    </tr>\n    <tr>\n      <th>11</th>\n      <td>-</td>\n      <td>In Call</td>\n      <td>-</td>\n      <td>-</td>\n      <td>V50 2nd</td>\n      <td>-</td>\n      <td>-</td>\n      <td>-</td>\n      <td>-</td>\n      <td>-</td>\n      <td>-</td>\n      <td>-</td>\n      <td>-</td>\n      <td>-</td>\n      <td>-</td>\n      <td>-</td>\n      <td>-</td>\n      <td>-</td>\n      <td>-</td>\n      <td>-</td>\n      <td>-</td>\n      <td>-</td>\n      <td>-</td>\n      <td>-</td>\n      <td>-</td>\n      <td>-</td>\n      <td>22693824.0</td>\n    </tr>\n    <tr>\n      <th>12</th>\n      <td>-</td>\n      <td>-</td>\n      <td>-</td>\n      <td>Other</td>\n      <td>G99 2nd</td>\n      <td>-</td>\n      <td>-</td>\n      <td>-</td>\n      <td>-</td>\n      <td>-</td>\n      <td>-</td>\n      <td>-</td>\n      <td>-</td>\n      <td>-</td>\n      <td>-</td>\n      <td>-</td>\n      <td>-</td>\n      <td>-</td>\n      <td>-</td>\n      <td>-</td>\n      <td>-</td>\n      <td>-</td>\n      <td>-</td>\n      <td>-</td>\n      <td>-</td>\n      <td>-</td>\n      <td>22702226.0</td>\n    </tr>\n    <tr>\n      <th>13</th>\n      <td>-</td>\n      <td>Wait</td>\n      <td>-</td>\n      <td>-</td>\n      <td>W15 3rd</td>\n      <td>-</td>\n      <td>-</td>\n      <td>-</td>\n      <td>-</td>\n      <td>-</td>\n      <td>-</td>\n      <td>-</td>\n      <td>-</td>\n      <td>-</td>\n      <td>-</td>\n      <td>-</td>\n      <td>-</td>\n      <td>-</td>\n      <td>-</td>\n      <td>-</td>\n      <td>-</td>\n      <td>-</td>\n      <td>-</td>\n      <td>-</td>\n      <td>-</td>\n      <td>-</td>\n      <td>22693824.0</td>\n    </tr>\n    <tr>\n      <th>14</th>\n      <td>-</td>\n      <td>Wait</td>\n      <td>-</td>\n      <td>Org line E</td>\n      <td>-</td>\n      <td>-</td>\n      <td>-</td>\n      <td>-</td>\n      <td>-</td>\n      <td>-</td>\n      <td>-</td>\n      <td>-</td>\n      <td>-</td>\n      <td>-</td>\n      <td>-</td>\n      <td>-</td>\n      <td>-</td>\n      <td>-</td>\n      <td>-</td>\n      <td>-</td>\n      <td>-</td>\n      <td>-</td>\n      <td>-</td>\n      <td>-</td>\n      <td>-</td>\n      <td>-</td>\n      <td>23223578.0</td>\n    </tr>\n    <tr>\n      <th>15</th>\n      <td>-</td>\n      <td>-</td>\n      <td>V3_2</td>\n      <td>-</td>\n      <td>C8</td>\n      <td>-</td>\n      <td>-</td>\n      <td>-</td>\n      <td>-</td>\n      <td>-</td>\n      <td>-</td>\n      <td>-</td>\n      <td>-</td>\n      <td>-</td>\n      <td>-</td>\n      <td>-</td>\n      <td>-</td>\n      <td>-</td>\n      <td>-</td>\n      <td>-</td>\n      <td>-</td>\n      <td>-</td>\n      <td>-</td>\n      <td>-</td>\n      <td>-</td>\n      <td>-</td>\n      <td>22719882.0</td>\n    </tr>\n    <tr>\n      <th>16</th>\n      <td>-</td>\n      <td>-</td>\n      <td>-</td>\n      <td>Org line C</td>\n      <td>T2 3rd</td>\n      <td>-</td>\n      <td>-</td>\n      <td>-</td>\n      <td>-</td>\n      <td>-</td>\n      <td>-</td>\n      <td>-</td>\n      <td>-</td>\n      <td>-</td>\n      <td>-</td>\n      <td>-</td>\n      <td>-</td>\n      <td>-</td>\n      <td>-</td>\n      <td>-</td>\n      <td>-</td>\n      <td>-</td>\n      <td>-</td>\n      <td>-</td>\n      <td>-</td>\n      <td>-</td>\n      <td>22669316.0</td>\n    </tr>\n    <tr>\n      <th>17</th>\n      <td>-</td>\n      <td>-</td>\n      <td>-</td>\n      <td>Org line D</td>\n      <td>M3 2nd</td>\n      <td>-</td>\n      <td>-</td>\n      <td>-</td>\n      <td>-</td>\n      <td>-</td>\n      <td>-</td>\n      <td>-</td>\n      <td>-</td>\n      <td>-</td>\n      <td>-</td>\n      <td>-</td>\n      <td>-</td>\n      <td>-</td>\n      <td>-</td>\n      <td>-</td>\n      <td>-</td>\n      <td>-</td>\n      <td>-</td>\n      <td>-</td>\n      <td>-</td>\n      <td>-</td>\n      <td>22669316.0</td>\n    </tr>\n    <tr>\n      <th>18</th>\n      <td>-</td>\n      <td>-</td>\n      <td>C_6</td>\n      <td>-</td>\n      <td>G356 2nd</td>\n      <td>-</td>\n      <td>-</td>\n      <td>-</td>\n      <td>-</td>\n      <td>-</td>\n      <td>-</td>\n      <td>-</td>\n      <td>-</td>\n      <td>-</td>\n      <td>-</td>\n      <td>-</td>\n      <td>-</td>\n      <td>-</td>\n      <td>-</td>\n      <td>-</td>\n      <td>-</td>\n      <td>-</td>\n      <td>-</td>\n      <td>-</td>\n      <td>-</td>\n      <td>-</td>\n      <td>22719882.0</td>\n    </tr>\n    <tr>\n      <th>19</th>\n      <td>-</td>\n      <td>-</td>\n      <td>-</td>\n      <td>-</td>\n      <td>G261 3rd</td>\n      <td>-</td>\n      <td>-</td>\n      <td>-</td>\n      <td>-</td>\n      <td>-</td>\n      <td>-</td>\n      <td>-</td>\n      <td>-</td>\n      <td>-</td>\n      <td>-</td>\n      <td>-</td>\n      <td>-</td>\n      <td>-</td>\n      <td>-</td>\n      <td>-</td>\n      <td>-</td>\n      <td>-</td>\n      <td>-</td>\n      <td>-</td>\n      <td>-</td>\n      <td>-</td>\n      <td>22719882.0</td>\n    </tr>\n  </tbody>\n</table>\n</div>"
     },
     "metadata": {},
     "output_type": "display_data"
    }
   ],
   "source": [
    "sidx = 77\n",
    "eidx = sidx + 1\n",
    "X_test, y_test = prepare_df_for_ml(df_test, case_id_name, outcome_name, columns_to_remove=[\"Change_Date+Time\", \"time_remaining\"])\n",
    "\n",
    "total_time_upper_bound = int( y_test[sidx] * (REDUCED_KPI_TIME / 100) )  # A percentage of the original total time of the trace\n",
    "query_instances = X_test[sidx: eidx]\n",
    "print(\"total_time_upper_bound\", total_time_upper_bound / SECONDS_TO_DAYS)\n",
    "\n",
    "cfe = explainer.generate_counterfactuals(query_instances, total_CFs=20, desired_range=[0, total_time_upper_bound], features_to_vary=cols_to_vary,\n",
    "                                         proximity_weight=proximity_weight, sparsity_weight=sparsity_weight, diversity_weight=diversity_weight)\n",
    "\n",
    "# cfe = generate_cfe(explainer, query_instances, total_time_upper_bound, features_to_vary=cols_to_vary,\n",
    "#                            total_cfs=TOTAL_CFS, kpi=KPI, proximity_weight=proximity_weight, sparsity_weight=sparsity_weight,\n",
    "#                            diversity_weight=diversity_weight)\n",
    "cfe.visualize_as_dataframe(show_only_changes=True)"
   ],
   "metadata": {
    "collapsed": false,
    "ExecuteTime": {
     "end_time": "2023-06-15T15:11:01.791949733Z",
     "start_time": "2023-06-15T15:11:00.389997856Z"
    }
   }
  },
  {
   "cell_type": "code",
   "execution_count": 42,
   "outputs": [
    {
     "data": {
      "text/plain": "262.37633842592595"
     },
     "execution_count": 42,
     "metadata": {},
     "output_type": "execute_result"
    }
   ],
   "source": [
    "22669315.64 / SECONDS_TO_DAYS"
   ],
   "metadata": {
    "collapsed": false,
    "ExecuteTime": {
     "end_time": "2023-06-14T22:27:21.019935840Z",
     "start_time": "2023-06-14T22:27:20.995917558Z"
    }
   }
  },
  {
   "cell_type": "code",
   "execution_count": null,
   "outputs": [],
   "source": [
    "# for _, cfe in cfes_list:\n",
    "#     cfe.visualize_as_dataframe(show_only_changes=True)\n",
    "# cfes_list[9][1]"
   ],
   "metadata": {
    "collapsed": false
   }
  },
  {
   "cell_type": "markdown",
   "source": [
    "## Observation\n",
    "The output usually comes within 2 minutes"
   ],
   "metadata": {
    "collapsed": false
   }
  },
  {
   "cell_type": "markdown",
   "source": [
    "#### TODOS\n",
    "- Check how many queries (rows) have valid CFEs\n",
    "- How to make CFE not, ACTIVITY column not to take the value \"Pending Liquidation request\"\n",
    "- Discover how DiCE handle constraints ( For us do it in post-processing step )\n",
    "- CE_OU - resource column, you can modify it\n",
    "- Modify just the resource (col: CE_UO) & Activity (col: ACTIVITY)\n",
    "- build a transition system to validate activity and then resource\n",
    "- Do the above for total time case\n",
    "- I\n",
    "- Implement activity validation and resource validation to the above\n",
    "-   To do this effectively maybe figure out how the DiCE post process the constraints and implement this in that layer"
   ],
   "metadata": {
    "collapsed": false
   }
  },
  {
   "cell_type": "code",
   "execution_count": null,
   "outputs": [],
   "source": [
    "query_instances = X_train[sidx: eidx]\n",
    "cfe = exp_genetic_iris.generate_counterfactuals(query_instances, total_CFs=5, desired_class=\"opposite\", features_to_vary=cols_to_vary)\n",
    "cfe.visualize_as_dataframe(show_only_changes=True)\n",
    "\n",
    "genetic_cfes = []\n",
    "\n",
    "for idx, query_instances in X_train.iterrows():\n",
    "    query_instances = query_instances.to_frame().transpose()\n",
    "    # query_instances = X_train[0:1]  # an interesting query`\n",
    "\n",
    "    cfe = exp_genetic_iris.generate_counterfactuals(query_instances, total_CFs=5, desired_class=\"opposite\", features_to_vary=cols_to_vary)\n",
    "\n",
    "    genetic_cfes.append( (idx, cfe) )"
   ],
   "metadata": {
    "collapsed": false
   }
  },
  {
   "cell_type": "markdown",
   "source": [
    "-Implement post processing steps\n",
    "    - Transition transition_system with full traces\n",
    "    - 4 tuple comparison with country and owner country\n",
    "\n"
   ],
   "metadata": {
    "collapsed": false
   }
  },
  {
   "cell_type": "markdown",
   "source": [
    "## Deprecated Code"
   ],
   "metadata": {
    "collapsed": false
   }
  },
  {
   "cell_type": "code",
   "execution_count": 29,
   "outputs": [
    {
     "name": "stdout",
     "output_type": "stream",
     "text": [
      "Increment 50 seconds\n",
      "Counter at: 0\n",
      "Counter at: 1\n",
      "Counter at: 2\n",
      "Counter at: 3\n",
      "Counter at: 4\n",
      "-------------- Before long func ------------------\n",
      "Now sleeping for 10\n",
      "Counter at: 5\n",
      "Counter at: 6\n",
      "Counter at: 7\n",
      "Counter at: 8\n",
      "Counter at: 9\n",
      "Counter at: 10\n",
      "Counter at: 11\n",
      "Counter at: 12\n",
      "Counter at: 13\n",
      "Done sleeping!!!\n",
      "-------------- After long func ------------------\n",
      "Time is out\n"
     ]
    }
   ],
   "source": [
    "from multiprocessing import Process\n",
    "\n",
    "def long_process_function(xval):\n",
    "    print(f\"Now sleeping for {xval}\")\n",
    "    sleep(xval)\n",
    "    print(\"Done sleeping!!!\")\n",
    "\n",
    "def increment_50_seconds():\n",
    "    print(\"Increment 50 seconds\")\n",
    "    for i in range(50):\n",
    "        sleep(1)\n",
    "        print(f\"Counter at: {i}\")\n",
    "\n",
    "\n",
    "if __name__ == '__main__':\n",
    "    try:\n",
    "        p1 = Process(target=increment_50_seconds, name=\"Process_increment_50_seconds\")\n",
    "\n",
    "        p1.start()\n",
    "\n",
    "        p1.join(timeout=5)\n",
    "\n",
    "        print(\"-------------- Before long func ------------------\")\n",
    "        long_process_function(10)\n",
    "        print(\"-------------- After long func ------------------\")\n",
    "        p1.terminate()\n",
    "\n",
    "        if p1.exitcode is None:\n",
    "            print(\"Time is out\")\n",
    "\n",
    "    except:\n",
    "        print(\"Exception caught\")\n",
    "\n"
   ],
   "metadata": {
    "collapsed": false,
    "ExecuteTime": {
     "end_time": "2023-05-28T14:09:12.292830523Z",
     "start_time": "2023-05-28T14:08:57.152132920Z"
    }
   }
  },
  {
   "cell_type": "markdown",
   "source": [
    "#### Practice `wrapt_timeout_decorator` module"
   ],
   "metadata": {
    "collapsed": false
   }
  },
  {
   "cell_type": "code",
   "execution_count": 45,
   "outputs": [
    {
     "name": "stdout",
     "output_type": "stream",
     "text": [
      "starting\n",
      "1 seconds have passed\n",
      "2 seconds have passed\n",
      "3 seconds have passed\n",
      "4 seconds have passed\n",
      "TimeoutError caught: Function mytest timed out after 5.0 seconds\n"
     ]
    }
   ],
   "source": [
    "\n",
    "@timeout(5)\n",
    "def mytest(message):\n",
    "    # this example does NOT work on windows, please check the section\n",
    "    # \"use with Windows\" in the README.rst\n",
    "    print(message)\n",
    "    try:\n",
    "        for i in range(1,10):\n",
    "            time.sleep(1)\n",
    "            print('{} seconds have passed'.format(i))\n",
    "\n",
    "    except TimeoutError as e:\n",
    "        print(\"TimeoutError caught:\", e)\n",
    "    # This error is seen occurring on when running lots of loops on the server\n",
    "    except AttributeError as e:\n",
    "        print(\"AttributeError caught:\", e)\n",
    "\n",
    "if __name__ == '__main__':\n",
    "    mytest('starting')"
   ],
   "metadata": {
    "collapsed": false,
    "ExecuteTime": {
     "end_time": "2023-05-28T21:46:35.995608161Z",
     "start_time": "2023-05-28T21:46:30.723118876Z"
    }
   }
  },
  {
   "cell_type": "markdown",
   "source": [
    "================================================================"
   ],
   "metadata": {
    "collapsed": false
   }
  },
  {
   "cell_type": "markdown",
   "source": [
    "#### Pratice `timeout_decorator` module"
   ],
   "metadata": {
    "collapsed": false
   }
  },
  {
   "cell_type": "code",
   "execution_count": 18,
   "outputs": [],
   "source": [
    "\n",
    "class MyTimeOutError(AssertionError):\n",
    "     \"\"\"Thrown when a timeout occurs in `timeout_decorator`\"\"\"\n",
    "     pass\n",
    "\n",
    "def timeout_decorator(timeout_seconds):\n",
    "\n",
    "    def timeout_wrapper(original_function):\n",
    "\n",
    "        def _timeout_handler(signum, frame):\n",
    "            raise MyTimeOutError(\"Function execution timed out.\")\n",
    "\n",
    "        def wrapper(*args, **kwargs):\n",
    "            # Set the signal handler\n",
    "            signal.signal(signal.SIGALRM, _timeout_handler)\n",
    "            # Set the alarm for the specified timeout duration\n",
    "            signal.alarm(timeout_seconds)\n",
    "\n",
    "            result = original_function(*args, **kwargs)\n",
    "\n",
    "            return result\n",
    "        return wrapper\n",
    "    return timeout_wrapper"
   ],
   "metadata": {
    "collapsed": false,
    "ExecuteTime": {
     "end_time": "2023-05-28T05:18:13.478246162Z",
     "start_time": "2023-05-28T05:18:13.429743632Z"
    }
   }
  },
  {
   "cell_type": "code",
   "execution_count": 19,
   "outputs": [
    {
     "name": "stdout",
     "output_type": "stream",
     "text": [
      "Function execution timed out.\n"
     ]
    }
   ],
   "source": [
    "import signal\n",
    "from time import sleep\n",
    "\n",
    "@timeout_decorator(4)\n",
    "def long_running_function():\n",
    "    for i in range(10):\n",
    "        sleep(1)\n",
    "\n",
    "try:\n",
    "    # Call the long-running function\n",
    "    long_running_function()\n",
    "\n",
    "except MyTimeOutError as e:\n",
    "    # Handle the timeout error\n",
    "    print(str(e))\n",
    "finally:\n",
    "    # Cancel the alarm\n",
    "    signal.alarm(0)\n"
   ],
   "metadata": {
    "collapsed": false,
    "ExecuteTime": {
     "end_time": "2023-05-28T05:18:18.043610181Z",
     "start_time": "2023-05-28T05:18:14.036341607Z"
    }
   }
  },
  {
   "cell_type": "markdown",
   "source": [
    "=============================="
   ],
   "metadata": {
    "collapsed": false
   }
  },
  {
   "cell_type": "markdown",
   "source": [
    "### Practice Creating decorators"
   ],
   "metadata": {
    "collapsed": false
   }
  },
  {
   "cell_type": "code",
   "execution_count": 35,
   "outputs": [],
   "source": [
    "import signal\n",
    "def deco_bar2(my_arg1):\n",
    "    def deco_bar(original_function):\n",
    "        def wrapper(*args, **kwargs):\n",
    "            print(\"I'm deco bar() before\")\n",
    "            print(f\"argument passed to decorator:{my_arg1}\")\n",
    "            result = original_function(*args, **kwargs)\n",
    "\n",
    "            print(\"I'm deco bar() after\")\n",
    "\n",
    "            return result\n",
    "        return wrapper\n",
    "    return deco_bar\n",
    "\n",
    "@deco_bar2(\"arg_to_deco\")\n",
    "def foo(valx):\n",
    "    print(f\"I'm foo({valx})\")\n",
    "    return 1\n",
    "\n",
    "def baz(*args, **kwargs):\n",
    "    print(args, kwargs)\n"
   ],
   "metadata": {
    "collapsed": false,
    "ExecuteTime": {
     "end_time": "2023-05-27T19:46:35.581427353Z",
     "start_time": "2023-05-27T19:46:35.535485286Z"
    }
   }
  },
  {
   "cell_type": "code",
   "execution_count": 36,
   "outputs": [
    {
     "name": "stdout",
     "output_type": "stream",
     "text": [
      "I'm deco bar() before\n",
      "argument passed to decorator:arg_to_deco\n",
      "I'm foo(foo_arg2)\n",
      "I'm deco bar() after\n"
     ]
    },
    {
     "data": {
      "text/plain": "1"
     },
     "execution_count": 36,
     "metadata": {},
     "output_type": "execute_result"
    }
   ],
   "source": [
    "foo(valx=\"foo_arg2\")"
   ],
   "metadata": {
    "collapsed": false,
    "ExecuteTime": {
     "end_time": "2023-05-27T19:46:37.368282682Z",
     "start_time": "2023-05-27T19:46:37.362060846Z"
    }
   }
  },
  {
   "cell_type": "code",
   "execution_count": null,
   "outputs": [],
   "source": [
    "def validate_transition(cfe):\n",
    "    \"\"\" Deprecated function.\n",
    "    Works with transition graph which has single activity as key.\n",
    "    Args:\n",
    "        cfe: Dice counterfactual object.\n",
    "    \"\"\"\n",
    "    cf_examples_df = cfe.cf_examples_list[0].final_cfs_df.copy()\n",
    "\n",
    "    # expected_next_action = cfe.cf_examples_list[0].test_instance_df[activity_column_name].item()\n",
    "    # print(f\"Expected next action: {expected_next_action}\")\n",
    "\n",
    "    current_activity = current_step[activity_column_name].item()\n",
    "    # === Verify the next activity\n",
    "    indexes_to_drop = []\n",
    "    for idx, suggested_next_activity in cf_examples_df[activity_column_name].items():\n",
    "        # print(f\"index: {idx}, Suggest: {suggested_next_activity}\")\n",
    "        if suggested_next_activity not in transition_graph[current_activity]:\n",
    "            indexes_to_drop.append(idx)\n",
    "\n",
    "    cf_examples_df = cf_examples_df.drop(indexes_to_drop, axis='index').reset_index(drop=True)\n",
    "\n",
    "    # === Verify the associated resources\n",
    "    indexes_to_drop = []\n",
    "    for idx, row in cf_examples_df[ [\"ACTIVITY\", \"Involved_ST_Function_Div\"] ].iterrows():\n",
    "        row_tuple = tuple(row)\n",
    "        if row_tuple not in valid_resources:\n",
    "            # print(f\"removed row had: {row_tuple}\")\n",
    "            indexes_to_drop.append(idx)\n",
    "\n",
    "    cf_examples_df = cf_examples_df.drop(indexes_to_drop, axis='index').reset_index(drop=True)\n",
    "    return cf_examples_df"
   ],
   "metadata": {
    "collapsed": false
   }
  }
 ],
 "metadata": {
  "kernelspec": {
   "display_name": "Python 3",
   "language": "python",
   "name": "python3"
  },
  "language_info": {
   "codemirror_mode": {
    "name": "ipython",
    "version": 2
   },
   "file_extension": ".py",
   "mimetype": "text/x-python",
   "name": "python",
   "nbconvert_exporter": "python",
   "pygments_lexer": "ipython2",
   "version": "2.7.6"
  }
 },
 "nbformat": 4,
 "nbformat_minor": 0
}
